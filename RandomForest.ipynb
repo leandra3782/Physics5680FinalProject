{
 "cells": [
  {
   "cell_type": "code",
   "execution_count": 1,
   "id": "223856b6-24b8-4070-be22-f85c7e516b03",
   "metadata": {},
   "outputs": [],
   "source": [
    "import pandas as pd\n",
    "import numpy as np\n",
    "import time\n",
    "import os, psutil\n",
    "import pickle\n",
    "import matplotlib.pyplot as plt\n",
    "import plotly.express as px\n",
    "import plotly.io as pio\n",
    "pio.renderers.default='plotly_mimetype'\n",
    "\n",
    "def printmem():\n",
    "    process = psutil.Process(os.getpid())\n",
    "    print(\"   memory:\",round(process.memory_info().rss/(10**9),3),'Gbytes')  # in bytes \n",
    "\n",
    "from sklearn.utils import shuffle\n",
    "from sklearn.model_selection import train_test_split\n",
    "from sklearn.model_selection import StratifiedKFold\n",
    "from sklearn.ensemble import RandomForestClassifier\n",
    "from sklearn import metrics\n",
    "from sklearn.metrics import auc\n",
    "from sklearn.metrics import classification_report\n",
    "from sklearn.metrics import confusion_matrix,ConfusionMatrixDisplay\n",
    "from tabulate import tabulate"
   ]
  },
  {
   "cell_type": "code",
   "execution_count": 2,
   "id": "0befde0a-64a6-4f35-adc8-e6fde4963e76",
   "metadata": {},
   "outputs": [],
   "source": [
    "def calc_performance_multi(y_vals_true, y_vals_pred,labels):\n",
    "#\n",
    "# Get the numbers for the confusion matrix\n",
    "# To get output: cf_matrix[true_label,pred_label]\n",
    "    cf_matrix = confusion_matrix(y_vals_true, y_vals_pred, labels=labels)\n",
    "#\n",
    "# This is a graphic\n",
    "    cf_disp = ConfusionMatrixDisplay(confusion_matrix=cf_matrix,display_labels=labels)\n",
    "#\n",
    "# Make the header row\n",
    "    header = [\"\"]\n",
    "    for column_name in labels:\n",
    "        header.append('Pred:' + str(column_name))\n",
    "    table = [header]\n",
    "#\n",
    "# Now make the rows with the matrix\n",
    "    for row_name in labels:\n",
    "        row = ['True:'+str(row_name)]\n",
    "        for column_name in labels:\n",
    "            row_index = labels.index(row_name)\n",
    "            column_index = labels.index(column_name)\n",
    "            row.append(cf_matrix[row_index,column_index])\n",
    "        table.append(row)\n",
    "    # table = [\n",
    "    #     [ \"\", \"Predicted Class 1\", \"Precicted Class 0\"],\n",
    "    #     [ \"True Class 1\", TP, FN ],\n",
    "    #     [ \"True Class 0\", FP, TN ]\n",
    "    # ]\n",
    "    print_table_type='fancy_grid'\n",
    "    print_table = tabulate(table, headers='firstrow', tablefmt=print_table_type)\n",
    "#    print(print_table)\n",
    "#\n",
    "# Get the recall, precision, ands F1 for each individual label\n",
    "# - return both the \"string report\" (which you can print)\n",
    "# - and the \"dictionary report\" (which you can use for averages and so on)\n",
    "    report = classification_report(y_vals_true,y_vals_pred)\n",
    "    report_dict = classification_report(y_vals_true,y_vals_pred,output_dict=True)\n",
    "#\n",
    "    results = {\"confusionMatrix\":cf_matrix,\n",
    "                    'confusion_matrix_display':cf_disp,\n",
    "                    'confusion_matrix_print_table':print_table,      \n",
    "                    \"report\":report,\"report_dict\":report_dict}\n",
    "    return results\n",
    "\n",
    "\n",
    "def run_fitter_multi(estimator,X_train,y_train,X_test,y_test,labels):\n",
    "#\n",
    "# Now fit to our training set\n",
    "    estimator.fit(X_train,y_train)\n",
    "#\n",
    "# Now predict the classes and get the score for our traing set\n",
    "    y_train_pred = estimator.predict(X_train)\n",
    "    y_train_score = estimator.predict_proba(X_train)   # NOTE: some estimators have a predict_prob method instead od descision_function\n",
    "#\n",
    "# Now predict the classes and get the score for our test set\n",
    "    y_test_pred = estimator.predict(X_test)\n",
    "    y_test_score = estimator.predict_proba(X_test)\n",
    "\n",
    "#\n",
    "# Now get the performaance\n",
    "    results_test = calc_performance_multi(y_test,y_test_pred,labels)\n",
    "    results_train = calc_performance_multi(y_train,y_train_pred,labels)\n",
    "#\n",
    "    return results_train,results_test"
   ]
  },
  {
   "cell_type": "markdown",
   "id": "261e49b4-c92b-44f6-8a6b-722a7346e986",
   "metadata": {},
   "source": [
    "## Random Forest Classifier"
   ]
  },
  {
   "cell_type": "code",
   "execution_count": 3,
   "id": "07a2e108-7ca9-4333-a3f2-d5080b174be5",
   "metadata": {},
   "outputs": [
    {
     "name": "stdout",
     "output_type": "stream",
     "text": [
      "   memory: 8.904 Gbytes\n"
     ]
    }
   ],
   "source": [
    "dfTrain = pd.read_csv('train_expand_S_P.zip')\n",
    "printmem()"
   ]
  },
  {
   "cell_type": "markdown",
   "id": "d865d96c-0fcc-4757-bc86-53a0be574b12",
   "metadata": {},
   "source": [
    "### Severity Classfication\n",
    "\n",
    "Classification of patients severity class based on age, gender, symptoms and antecedent"
   ]
  },
  {
   "cell_type": "code",
   "execution_count": 4,
   "id": "f8c0c9a7-7afa-42fa-ba65-1d6dd04134fa",
   "metadata": {},
   "outputs": [],
   "source": [
    "dicMW = {'M': 0, 'F':1}"
   ]
  },
  {
   "cell_type": "code",
   "execution_count": 5,
   "id": "41428602-8af2-473b-aa05-cdc575cfa336",
   "metadata": {},
   "outputs": [],
   "source": [
    "dfTrain['SEX'] = dfTrain['SEX'].map(dicMW)"
   ]
  },
  {
   "cell_type": "code",
   "execution_count": 6,
   "id": "19ee9728-9ffa-4e52-bc3b-fd76adb781ca",
   "metadata": {},
   "outputs": [
    {
     "data": {
      "text/html": [
       "<div>\n",
       "<style scoped>\n",
       "    .dataframe tbody tr th:only-of-type {\n",
       "        vertical-align: middle;\n",
       "    }\n",
       "\n",
       "    .dataframe tbody tr th {\n",
       "        vertical-align: top;\n",
       "    }\n",
       "\n",
       "    .dataframe thead th {\n",
       "        text-align: right;\n",
       "    }\n",
       "</style>\n",
       "<table border=\"1\" class=\"dataframe\">\n",
       "  <thead>\n",
       "    <tr style=\"text-align: right;\">\n",
       "      <th></th>\n",
       "      <th>AGE</th>\n",
       "      <th>SEX</th>\n",
       "      <th>E_0</th>\n",
       "      <th>E_1</th>\n",
       "      <th>E_10</th>\n",
       "      <th>E_100</th>\n",
       "      <th>E_101</th>\n",
       "      <th>E_102</th>\n",
       "      <th>E_103</th>\n",
       "      <th>E_104</th>\n",
       "      <th>...</th>\n",
       "      <th>E_98</th>\n",
       "      <th>E_99</th>\n",
       "      <th>E_132</th>\n",
       "      <th>E_134</th>\n",
       "      <th>E_136</th>\n",
       "      <th>E_56</th>\n",
       "      <th>E_58</th>\n",
       "      <th>E_59</th>\n",
       "      <th>severity</th>\n",
       "      <th>pathoClass</th>\n",
       "    </tr>\n",
       "  </thead>\n",
       "  <tbody>\n",
       "    <tr>\n",
       "      <th>0</th>\n",
       "      <td>18</td>\n",
       "      <td>0</td>\n",
       "      <td>0</td>\n",
       "      <td>0</td>\n",
       "      <td>0</td>\n",
       "      <td>0</td>\n",
       "      <td>0</td>\n",
       "      <td>0</td>\n",
       "      <td>0</td>\n",
       "      <td>0</td>\n",
       "      <td>...</td>\n",
       "      <td>0</td>\n",
       "      <td>0</td>\n",
       "      <td>-1</td>\n",
       "      <td>-1</td>\n",
       "      <td>-1</td>\n",
       "      <td>4</td>\n",
       "      <td>3</td>\n",
       "      <td>3</td>\n",
       "      <td>5</td>\n",
       "      <td>0</td>\n",
       "    </tr>\n",
       "    <tr>\n",
       "      <th>1</th>\n",
       "      <td>21</td>\n",
       "      <td>0</td>\n",
       "      <td>0</td>\n",
       "      <td>0</td>\n",
       "      <td>0</td>\n",
       "      <td>0</td>\n",
       "      <td>0</td>\n",
       "      <td>0</td>\n",
       "      <td>0</td>\n",
       "      <td>0</td>\n",
       "      <td>...</td>\n",
       "      <td>0</td>\n",
       "      <td>0</td>\n",
       "      <td>0</td>\n",
       "      <td>6</td>\n",
       "      <td>0</td>\n",
       "      <td>7</td>\n",
       "      <td>7</td>\n",
       "      <td>2</td>\n",
       "      <td>3</td>\n",
       "      <td>1</td>\n",
       "    </tr>\n",
       "    <tr>\n",
       "      <th>2</th>\n",
       "      <td>19</td>\n",
       "      <td>1</td>\n",
       "      <td>0</td>\n",
       "      <td>0</td>\n",
       "      <td>0</td>\n",
       "      <td>0</td>\n",
       "      <td>0</td>\n",
       "      <td>0</td>\n",
       "      <td>0</td>\n",
       "      <td>0</td>\n",
       "      <td>...</td>\n",
       "      <td>0</td>\n",
       "      <td>0</td>\n",
       "      <td>4</td>\n",
       "      <td>0</td>\n",
       "      <td>0</td>\n",
       "      <td>5</td>\n",
       "      <td>2</td>\n",
       "      <td>6</td>\n",
       "      <td>3</td>\n",
       "      <td>2</td>\n",
       "    </tr>\n",
       "    <tr>\n",
       "      <th>3</th>\n",
       "      <td>34</td>\n",
       "      <td>1</td>\n",
       "      <td>0</td>\n",
       "      <td>0</td>\n",
       "      <td>0</td>\n",
       "      <td>0</td>\n",
       "      <td>0</td>\n",
       "      <td>0</td>\n",
       "      <td>0</td>\n",
       "      <td>0</td>\n",
       "      <td>...</td>\n",
       "      <td>0</td>\n",
       "      <td>0</td>\n",
       "      <td>-1</td>\n",
       "      <td>-1</td>\n",
       "      <td>-1</td>\n",
       "      <td>7</td>\n",
       "      <td>5</td>\n",
       "      <td>4</td>\n",
       "      <td>5</td>\n",
       "      <td>0</td>\n",
       "    </tr>\n",
       "    <tr>\n",
       "      <th>4</th>\n",
       "      <td>36</td>\n",
       "      <td>0</td>\n",
       "      <td>0</td>\n",
       "      <td>0</td>\n",
       "      <td>0</td>\n",
       "      <td>0</td>\n",
       "      <td>0</td>\n",
       "      <td>0</td>\n",
       "      <td>0</td>\n",
       "      <td>0</td>\n",
       "      <td>...</td>\n",
       "      <td>0</td>\n",
       "      <td>0</td>\n",
       "      <td>-1</td>\n",
       "      <td>-1</td>\n",
       "      <td>-1</td>\n",
       "      <td>5</td>\n",
       "      <td>4</td>\n",
       "      <td>2</td>\n",
       "      <td>5</td>\n",
       "      <td>0</td>\n",
       "    </tr>\n",
       "  </tbody>\n",
       "</table>\n",
       "<p>5 rows × 464 columns</p>\n",
       "</div>"
      ],
      "text/plain": [
       "   AGE  SEX  E_0  E_1  E_10  E_100  E_101  E_102  E_103  E_104  ...  E_98  \\\n",
       "0   18    0    0    0     0      0      0      0      0      0  ...     0   \n",
       "1   21    0    0    0     0      0      0      0      0      0  ...     0   \n",
       "2   19    1    0    0     0      0      0      0      0      0  ...     0   \n",
       "3   34    1    0    0     0      0      0      0      0      0  ...     0   \n",
       "4   36    0    0    0     0      0      0      0      0      0  ...     0   \n",
       "\n",
       "   E_99  E_132  E_134  E_136  E_56  E_58  E_59  severity  pathoClass  \n",
       "0     0     -1     -1     -1     4     3     3         5           0  \n",
       "1     0      0      6      0     7     7     2         3           1  \n",
       "2     0      4      0      0     5     2     6         3           2  \n",
       "3     0     -1     -1     -1     7     5     4         5           0  \n",
       "4     0     -1     -1     -1     5     4     2         5           0  \n",
       "\n",
       "[5 rows x 464 columns]"
      ]
     },
     "execution_count": 6,
     "metadata": {},
     "output_type": "execute_result"
    }
   ],
   "source": [
    "cols_to_exclude = ['DIFFERENTIAL_DIAGNOSIS', 'PATHOLOGY', 'EVIDENCES', 'INITIAL_EVIDENCE']\n",
    "df = dfTrain.loc[:, [col for col in dfTrain.columns if col not in cols_to_exclude]]\n",
    "df.head()"
   ]
  },
  {
   "cell_type": "code",
   "execution_count": 7,
   "id": "2b6f4fce-a696-4d93-8a05-e911b5055c5b",
   "metadata": {},
   "outputs": [],
   "source": [
    "#df_sample = df.head(10000)\n",
    "X = df.iloc[:, 0:-2].to_numpy()\n",
    "y = df['severity'].values"
   ]
  },
  {
   "cell_type": "code",
   "execution_count": 8,
   "id": "29d8b29d-5065-48f7-93bf-e5c489202e55",
   "metadata": {},
   "outputs": [],
   "source": [
    "X_train, X_test, y_train, y_test = train_test_split(X, y, test_size=0.2, random_state=42, shuffle=True)"
   ]
  },
  {
   "cell_type": "code",
   "execution_count": 9,
   "id": "d16ae1d7-7765-4d5e-b06c-4f5d6d502748",
   "metadata": {},
   "outputs": [],
   "source": [
    "labels = [1,2,3,4,5]\n",
    "num_classes = len(labels)"
   ]
  },
  {
   "cell_type": "code",
   "execution_count": 10,
   "id": "ac6b1702-e189-4d2c-9f0f-af545303f9fc",
   "metadata": {},
   "outputs": [
    {
     "name": "stdout",
     "output_type": "stream",
     "text": [
      "   memory: 20.3 Gbytes\n"
     ]
    }
   ],
   "source": [
    "printmem()"
   ]
  },
  {
   "cell_type": "markdown",
   "id": "e5e369a7-c28e-445a-a780-1bc26616a1ac",
   "metadata": {},
   "source": [
    "module4_2_random_forest"
   ]
  },
  {
   "cell_type": "code",
   "execution_count": 25,
   "id": "63925707-96b7-45b5-9079-865b273ca8d1",
   "metadata": {},
   "outputs": [],
   "source": [
    "estimator = RandomForestClassifier(n_estimators=50, max_depth=7,random_state=42)"
   ]
  },
  {
   "cell_type": "code",
   "execution_count": 28,
   "id": "ee49d3ac-9545-4cfa-8c8b-50d492049d5d",
   "metadata": {},
   "outputs": [],
   "source": [
    "results_train, results_test = run_fitter_multi(estimator,X_train,y_train,X_test,y_test,labels)"
   ]
  },
  {
   "cell_type": "code",
   "execution_count": 29,
   "id": "5c1df421-e758-4f47-b004-ab60d4b6a8b1",
   "metadata": {},
   "outputs": [
    {
     "name": "stdout",
     "output_type": "stream",
     "text": [
      "   memory: 20.214 Gbytes\n"
     ]
    }
   ],
   "source": [
    "printmem()"
   ]
  },
  {
   "cell_type": "markdown",
   "id": "c6278328-43f9-422d-b34d-f72be3ef6411",
   "metadata": {},
   "source": [
    "## K-Fold Validation"
   ]
  },
  {
   "cell_type": "code",
   "execution_count": 32,
   "id": "33595379-3ea6-4e7a-bd9c-b716208872dd",
   "metadata": {},
   "outputs": [],
   "source": [
    "kfolds = 5\n",
    "skf = StratifiedKFold(n_splits=kfolds)"
   ]
  },
  {
   "cell_type": "code",
   "execution_count": 34,
   "id": "ebd2161f-d65f-4b05-a368-4757b6ecc18d",
   "metadata": {},
   "outputs": [
    {
     "name": "stdout",
     "output_type": "stream",
     "text": [
      "Precision train/test  0.924 0.921\n",
      "Recall train/test     0.917 0.914\n",
      "F1 Score train/test        0.917 0.914\n",
      "All done! Time: 1.7886037826538086\n",
      "   memory: 20.257 Gbytes\n"
     ]
    }
   ],
   "source": [
    "t0 = time.time()\n",
    "#estimator = RandomForestClassifier(n_estimators=50, max_depth=7,random_state=42)\n",
    "\n",
    "avg_precision_train = 0.0\n",
    "avg_recall_train = 0.0\n",
    "avg_f1_train = 0.0\n",
    "avg_precision_test = 0.0\n",
    "avg_recall_test = 0.0\n",
    "avg_f1_test = 0.0\n",
    "numSplits = 0.0\n",
    "#\n",
    "# Now loop\n",
    "\n",
    "for train_index, test_index in skf.split(X, y):\n",
    "    #print(\"Training\")\n",
    "    numSplits += 1\n",
    "    X_train = X[train_index]\n",
    "    y_train = y[train_index]\n",
    "    X_test = X[test_index]\n",
    "    y_test = y[test_index]  \n",
    "#\n",
    "# Now fit to our training set\n",
    "    results_train,results_test = run_fitter_multi(estimator,X_train,y_train,X_test,y_test,labels)\n",
    "\n",
    "    avg_precision_train += results_train['report_dict']['weighted avg']['precision']\n",
    "    avg_recall_train += results_train['report_dict']['weighted avg']['recall']\n",
    "    avg_f1_train += results_train['report_dict']['weighted avg']['f1-score']\n",
    "#\n",
    "    avg_precision_test += results_test['report_dict']['weighted avg']['precision']\n",
    "    avg_recall_test += results_test['report_dict']['weighted avg']['recall']\n",
    "    avg_f1_test += results_test['report_dict']['weighted avg']['f1-score']\n",
    "#\n",
    "avg_precision_train /= numSplits\n",
    "avg_recall_train /= numSplits\n",
    "avg_f1_train /= numSplits\n",
    "avg_precision_test /= numSplits\n",
    "avg_recall_test /= numSplits\n",
    "avg_f1_test /= numSplits\n",
    "# \n",
    "# Now print\n",
    "print(\"Precision train/test \",round(avg_precision_train,3),round(avg_precision_test,3))\n",
    "print(\"Recall train/test    \",round(avg_recall_train,3),round(avg_recall_test,3))\n",
    "print(\"F1 Score train/test       \",round(avg_f1_train,3),round(avg_f1_test,3))\n",
    "print(\"All done! Time:\", time.time()-t0)\n",
    "printmem()"
   ]
  },
  {
   "cell_type": "code",
   "execution_count": 9,
   "id": "504ce7d8-e8d2-45ec-82ea-e30b008ca61a",
   "metadata": {},
   "outputs": [
    {
     "name": "stdout",
     "output_type": "stream",
     "text": [
      "   memory: 13.114 Gbytes\n"
     ]
    }
   ],
   "source": [
    "estimator.fit(X,y)\n",
    "printmem()"
   ]
  },
  {
   "cell_type": "code",
   "execution_count": 10,
   "id": "e0e4050f-adee-4eed-b65e-6b9e04bbf737",
   "metadata": {},
   "outputs": [],
   "source": [
    "filename = 'forest50k.sav'\n",
    "pickle.dump(estimator, open(filename, 'wb'))"
   ]
  },
  {
   "cell_type": "code",
   "execution_count": 10,
   "id": "29a7b3c5-4733-4cbb-9ec4-0edd0c1a69d5",
   "metadata": {},
   "outputs": [
    {
     "name": "stdout",
     "output_type": "stream",
     "text": [
      "0.88976\n"
     ]
    }
   ],
   "source": [
    "estimator = pickle.load(open('forest10k.sav', 'rb'))"
   ]
  },
  {
   "cell_type": "code",
   "execution_count": 19,
   "id": "8707bf0a-b1c5-49ec-96a7-756392e84919",
   "metadata": {},
   "outputs": [
    {
     "name": "stdout",
     "output_type": "stream",
     "text": [
      "   memory: 9.629 Gbytes\n"
     ]
    }
   ],
   "source": [
    "df_check = dfTrain[50000:].sample(n=50000, random_state=42)\n",
    "printmem()"
   ]
  },
  {
   "cell_type": "code",
   "execution_count": 20,
   "id": "ad75d81c-d4a4-4648-86d4-69569779ca4d",
   "metadata": {},
   "outputs": [],
   "source": [
    "X_test = df_check.iloc[:, 6:-1].to_numpy()\n",
    "y_test = df_check['severity'].values"
   ]
  },
  {
   "cell_type": "code",
   "execution_count": 21,
   "id": "f1698498-0374-4e6e-954c-784c4af056f5",
   "metadata": {},
   "outputs": [],
   "source": [
    "y_train_pred = estimator.predict(X)\n",
    "#\n",
    "# Now predict the classes for our test set\n",
    "y_test_pred = estimator.predict(X_test)\n",
    "#\n",
    "# Get resulst for train\n",
    "results_train = calc_performance_multi(y,y_train_pred,labels)\n",
    "#\n",
    "# Get resulst for test\n",
    "results_test = calc_performance_multi(y_test,y_test_pred,labels)"
   ]
  },
  {
   "cell_type": "code",
   "execution_count": 18,
   "id": "9976e6e6-87d1-4139-9714-443c5e5fd46e",
   "metadata": {},
   "outputs": [
    {
     "data": {
      "text/plain": [
       "array([[ 2871,   384,   580,     1,     0],\n",
       "       [    0,  8110,   940,  1093,     0],\n",
       "       [    0,    43, 14423,   838,     0],\n",
       "       [    0,    10,   429, 14955,     3],\n",
       "       [    0,     0,     0,  1103,  4217]])"
      ]
     },
     "execution_count": 18,
     "metadata": {},
     "output_type": "execute_result"
    }
   ],
   "source": [
    "results_train['confusion_matrix_data']"
   ]
  },
  {
   "cell_type": "code",
   "execution_count": 31,
   "id": "58a2fb10-8147-4240-b3da-417100437079",
   "metadata": {},
   "outputs": [
    {
     "data": {
      "text/plain": [
       "<sklearn.metrics._plot.confusion_matrix.ConfusionMatrixDisplay at 0x7efee6984b20>"
      ]
     },
     "execution_count": 31,
     "metadata": {},
     "output_type": "execute_result"
    },
    {
     "data": {
      "image/png": "[encoded data removed]",
      "text/plain": [
       "<Figure size 640x480 with 2 Axes>"
      ]
     },
     "metadata": {},
     "output_type": "display_data"
    }
   ],
   "source": [
    "results_train['confusion_matrix_display'].plot()"
   ]
  },
  {
   "cell_type": "code",
   "execution_count": 37,
   "id": "5a105b30-ce57-4cdb-ab5a-1268b0dcbdc0",
   "metadata": {},
   "outputs": [
    {
     "name": "stdout",
     "output_type": "stream",
     "text": [
      "╒════════╤══════════╤══════════╤══════════╤══════════╤══════════╕\n",
      "│        │   Pred:1 │   Pred:2 │   Pred:3 │   Pred:4 │   Pred:5 │\n",
      "╞════════╪══════════╪══════════╪══════════╪══════════╪══════════╡\n",
      "│ True:1 │     2893 │      426 │      552 │        7 │        0 │\n",
      "├────────┼──────────┼──────────┼──────────┼──────────┼──────────┤\n",
      "│ True:2 │        0 │     8090 │      944 │     1143 │        0 │\n",
      "├────────┼──────────┼──────────┼──────────┼──────────┼──────────┤\n",
      "│ True:3 │        0 │       52 │    14294 │      823 │        0 │\n",
      "├────────┼──────────┼──────────┼──────────┼──────────┼──────────┤\n",
      "│ True:4 │        0 │        3 │      455 │    14982 │        1 │\n",
      "├────────┼──────────┼──────────┼──────────┼──────────┼──────────┤\n",
      "│ True:5 │        0 │        0 │        0 │     1070 │     4265 │\n",
      "╘════════╧══════════╧══════════╧══════════╧══════════╧══════════╛\n"
     ]
    }
   ],
   "source": [
    "print(results_test['confusion_matrix_print_table'])"
   ]
  },
  {
   "cell_type": "code",
   "execution_count": 25,
   "id": "9a8a84db-5a33-4845-abc4-bc14ee0d3981",
   "metadata": {},
   "outputs": [
    {
     "data": {
      "text/plain": [
       "<sklearn.metrics._plot.confusion_matrix.ConfusionMatrixDisplay at 0x7efee6984b20>"
      ]
     },
     "execution_count": 25,
     "metadata": {},
     "output_type": "execute_result"
    },
    {
     "data": {
      "image/png": "[encoded data removed]",
      "text/plain": [
       "<Figure size 640x480 with 2 Axes>"
      ]
     },
     "metadata": {},
     "output_type": "display_data"
    }
   ],
   "source": [
    "results_train['confusion_matrix_display'].plot()\n",
    "#plt.savefig('50kTrainConf.png')"
   ]
  },
  {
   "cell_type": "markdown",
   "id": "00e0fa77-5c10-40ec-8257-34475836c7b0",
   "metadata": {},
   "source": [
    "### Hyperparameter Choices"
   ]
  },
  {
   "cell_type": "code",
   "execution_count": 34,
   "id": "17b5fe55-c646-4813-b2e1-c47bb9f09b7a",
   "metadata": {},
   "outputs": [
    {
     "name": "stdout",
     "output_type": "stream",
     "text": [
      "Precision train/test  0.924 0.921\n",
      "Recall train/test     0.917 0.914\n",
      "F1 Score train/test        0.917 0.914\n",
      "All done! Time: 1.7886037826538086\n",
      "   memory: 20.257 Gbytes\n"
     ]
    }
   ],
   "source": [
    "t0 = time.time()\n",
    "#estimator = RandomForestClassifier(n_estimators=50, max_depth=7,random_state=42)\n",
    "\n",
    "avg_precision_train = 0.0\n",
    "avg_recall_train = 0.0\n",
    "avg_f1_train = 0.0\n",
    "avg_precision_test = 0.0\n",
    "avg_recall_test = 0.0\n",
    "avg_f1_test = 0.0\n",
    "numSplits = 0.0\n",
    "#\n",
    "# Now loop\n",
    "\n",
    "for train_index, test_index in skf.split(X, y):\n",
    "    #print(\"Training\")\n",
    "    numSplits += 1\n",
    "    X_train = X[train_index]\n",
    "    y_train = y[train_index]\n",
    "    X_test = X[test_index]\n",
    "    y_test = y[test_index]  \n",
    "#\n",
    "# Now fit to our training set\n",
    "    results_train,results_test = run_fitter_multi(estimator,X_train,y_train,X_test,y_test,labels)\n",
    "\n",
    "    avg_precision_train += results_train['report_dict']['weighted avg']['precision']\n",
    "    avg_recall_train += results_train['report_dict']['weighted avg']['recall']\n",
    "    avg_f1_train += results_train['report_dict']['weighted avg']['f1-score']\n",
    "#\n",
    "    avg_precision_test += results_test['report_dict']['weighted avg']['precision']\n",
    "    avg_recall_test += results_test['report_dict']['weighted avg']['recall']\n",
    "    avg_f1_test += results_test['report_dict']['weighted avg']['f1-score']\n",
    "#\n",
    "avg_precision_train /= numSplits\n",
    "avg_recall_train /= numSplits\n",
    "avg_f1_train /= numSplits\n",
    "avg_precision_test /= numSplits\n",
    "avg_recall_test /= numSplits\n",
    "avg_f1_test /= numSplits\n",
    "# \n",
    "# Now print\n",
    "print(\"Precision train/test \",round(avg_precision_train,3),round(avg_precision_test,3))\n",
    "print(\"Recall train/test    \",round(avg_recall_train,3),round(avg_recall_test,3))\n",
    "print(\"F1 Score train/test       \",round(avg_f1_train,3),round(avg_f1_test,3))\n",
    "print(\"All done! Time:\", time.time()-t0)\n",
    "printmem()"
   ]
  },
  {
   "cell_type": "code",
   "execution_count": 38,
   "id": "ae9e85d3-b72c-4aa4-8919-ce6fc052438a",
   "metadata": {},
   "outputs": [
    {
     "name": "stdout",
     "output_type": "stream",
     "text": [
      "training with max depth = 1\n"
     ]
    },
    {
     "name": "stderr",
     "output_type": "stream",
     "text": [
      "/fs/ess/PAS2038/PHYSICS_5680_OSU/jupyter/lib/python3.9/site-packages/sklearn/metrics/_classification.py:1469: UndefinedMetricWarning:\n",
      "\n",
      "Precision and F-score are ill-defined and being set to 0.0 in labels with no predicted samples. Use `zero_division` parameter to control this behavior.\n",
      "\n",
      "/fs/ess/PAS2038/PHYSICS_5680_OSU/jupyter/lib/python3.9/site-packages/sklearn/metrics/_classification.py:1469: UndefinedMetricWarning:\n",
      "\n",
      "Precision and F-score are ill-defined and being set to 0.0 in labels with no predicted samples. Use `zero_division` parameter to control this behavior.\n",
      "\n",
      "/fs/ess/PAS2038/PHYSICS_5680_OSU/jupyter/lib/python3.9/site-packages/sklearn/metrics/_classification.py:1469: UndefinedMetricWarning:\n",
      "\n",
      "Precision and F-score are ill-defined and being set to 0.0 in labels with no predicted samples. Use `zero_division` parameter to control this behavior.\n",
      "\n",
      "/fs/ess/PAS2038/PHYSICS_5680_OSU/jupyter/lib/python3.9/site-packages/sklearn/metrics/_classification.py:1469: UndefinedMetricWarning:\n",
      "\n",
      "Precision and F-score are ill-defined and being set to 0.0 in labels with no predicted samples. Use `zero_division` parameter to control this behavior.\n",
      "\n",
      "/fs/ess/PAS2038/PHYSICS_5680_OSU/jupyter/lib/python3.9/site-packages/sklearn/metrics/_classification.py:1469: UndefinedMetricWarning:\n",
      "\n",
      "Precision and F-score are ill-defined and being set to 0.0 in labels with no predicted samples. Use `zero_division` parameter to control this behavior.\n",
      "\n",
      "/fs/ess/PAS2038/PHYSICS_5680_OSU/jupyter/lib/python3.9/site-packages/sklearn/metrics/_classification.py:1469: UndefinedMetricWarning:\n",
      "\n",
      "Precision and F-score are ill-defined and being set to 0.0 in labels with no predicted samples. Use `zero_division` parameter to control this behavior.\n",
      "\n",
      "/fs/ess/PAS2038/PHYSICS_5680_OSU/jupyter/lib/python3.9/site-packages/sklearn/metrics/_classification.py:1469: UndefinedMetricWarning:\n",
      "\n",
      "Precision and F-score are ill-defined and being set to 0.0 in labels with no predicted samples. Use `zero_division` parameter to control this behavior.\n",
      "\n",
      "/fs/ess/PAS2038/PHYSICS_5680_OSU/jupyter/lib/python3.9/site-packages/sklearn/metrics/_classification.py:1469: UndefinedMetricWarning:\n",
      "\n",
      "Precision and F-score are ill-defined and being set to 0.0 in labels with no predicted samples. Use `zero_division` parameter to control this behavior.\n",
      "\n",
      "/fs/ess/PAS2038/PHYSICS_5680_OSU/jupyter/lib/python3.9/site-packages/sklearn/metrics/_classification.py:1469: UndefinedMetricWarning:\n",
      "\n",
      "Precision and F-score are ill-defined and being set to 0.0 in labels with no predicted samples. Use `zero_division` parameter to control this behavior.\n",
      "\n",
      "/fs/ess/PAS2038/PHYSICS_5680_OSU/jupyter/lib/python3.9/site-packages/sklearn/metrics/_classification.py:1469: UndefinedMetricWarning:\n",
      "\n",
      "Precision and F-score are ill-defined and being set to 0.0 in labels with no predicted samples. Use `zero_division` parameter to control this behavior.\n",
      "\n",
      "/fs/ess/PAS2038/PHYSICS_5680_OSU/jupyter/lib/python3.9/site-packages/sklearn/metrics/_classification.py:1469: UndefinedMetricWarning:\n",
      "\n",
      "Precision and F-score are ill-defined and being set to 0.0 in labels with no predicted samples. Use `zero_division` parameter to control this behavior.\n",
      "\n",
      "/fs/ess/PAS2038/PHYSICS_5680_OSU/jupyter/lib/python3.9/site-packages/sklearn/metrics/_classification.py:1469: UndefinedMetricWarning:\n",
      "\n",
      "Precision and F-score are ill-defined and being set to 0.0 in labels with no predicted samples. Use `zero_division` parameter to control this behavior.\n",
      "\n",
      "/fs/ess/PAS2038/PHYSICS_5680_OSU/jupyter/lib/python3.9/site-packages/sklearn/metrics/_classification.py:1469: UndefinedMetricWarning:\n",
      "\n",
      "Precision and F-score are ill-defined and being set to 0.0 in labels with no predicted samples. Use `zero_division` parameter to control this behavior.\n",
      "\n",
      "/fs/ess/PAS2038/PHYSICS_5680_OSU/jupyter/lib/python3.9/site-packages/sklearn/metrics/_classification.py:1469: UndefinedMetricWarning:\n",
      "\n",
      "Precision and F-score are ill-defined and being set to 0.0 in labels with no predicted samples. Use `zero_division` parameter to control this behavior.\n",
      "\n",
      "/fs/ess/PAS2038/PHYSICS_5680_OSU/jupyter/lib/python3.9/site-packages/sklearn/metrics/_classification.py:1469: UndefinedMetricWarning:\n",
      "\n",
      "Precision and F-score are ill-defined and being set to 0.0 in labels with no predicted samples. Use `zero_division` parameter to control this behavior.\n",
      "\n",
      "/fs/ess/PAS2038/PHYSICS_5680_OSU/jupyter/lib/python3.9/site-packages/sklearn/metrics/_classification.py:1469: UndefinedMetricWarning:\n",
      "\n",
      "Precision and F-score are ill-defined and being set to 0.0 in labels with no predicted samples. Use `zero_division` parameter to control this behavior.\n",
      "\n",
      "/fs/ess/PAS2038/PHYSICS_5680_OSU/jupyter/lib/python3.9/site-packages/sklearn/metrics/_classification.py:1469: UndefinedMetricWarning:\n",
      "\n",
      "Precision and F-score are ill-defined and being set to 0.0 in labels with no predicted samples. Use `zero_division` parameter to control this behavior.\n",
      "\n",
      "/fs/ess/PAS2038/PHYSICS_5680_OSU/jupyter/lib/python3.9/site-packages/sklearn/metrics/_classification.py:1469: UndefinedMetricWarning:\n",
      "\n",
      "Precision and F-score are ill-defined and being set to 0.0 in labels with no predicted samples. Use `zero_division` parameter to control this behavior.\n",
      "\n",
      "/fs/ess/PAS2038/PHYSICS_5680_OSU/jupyter/lib/python3.9/site-packages/sklearn/metrics/_classification.py:1469: UndefinedMetricWarning:\n",
      "\n",
      "Precision and F-score are ill-defined and being set to 0.0 in labels with no predicted samples. Use `zero_division` parameter to control this behavior.\n",
      "\n",
      "/fs/ess/PAS2038/PHYSICS_5680_OSU/jupyter/lib/python3.9/site-packages/sklearn/metrics/_classification.py:1469: UndefinedMetricWarning:\n",
      "\n",
      "Precision and F-score are ill-defined and being set to 0.0 in labels with no predicted samples. Use `zero_division` parameter to control this behavior.\n",
      "\n",
      "/fs/ess/PAS2038/PHYSICS_5680_OSU/jupyter/lib/python3.9/site-packages/sklearn/metrics/_classification.py:1469: UndefinedMetricWarning:\n",
      "\n",
      "Precision and F-score are ill-defined and being set to 0.0 in labels with no predicted samples. Use `zero_division` parameter to control this behavior.\n",
      "\n",
      "/fs/ess/PAS2038/PHYSICS_5680_OSU/jupyter/lib/python3.9/site-packages/sklearn/metrics/_classification.py:1469: UndefinedMetricWarning:\n",
      "\n",
      "Precision and F-score are ill-defined and being set to 0.0 in labels with no predicted samples. Use `zero_division` parameter to control this behavior.\n",
      "\n",
      "/fs/ess/PAS2038/PHYSICS_5680_OSU/jupyter/lib/python3.9/site-packages/sklearn/metrics/_classification.py:1469: UndefinedMetricWarning:\n",
      "\n",
      "Precision and F-score are ill-defined and being set to 0.0 in labels with no predicted samples. Use `zero_division` parameter to control this behavior.\n",
      "\n",
      "/fs/ess/PAS2038/PHYSICS_5680_OSU/jupyter/lib/python3.9/site-packages/sklearn/metrics/_classification.py:1469: UndefinedMetricWarning:\n",
      "\n",
      "Precision and F-score are ill-defined and being set to 0.0 in labels with no predicted samples. Use `zero_division` parameter to control this behavior.\n",
      "\n",
      "/fs/ess/PAS2038/PHYSICS_5680_OSU/jupyter/lib/python3.9/site-packages/sklearn/metrics/_classification.py:1469: UndefinedMetricWarning:\n",
      "\n",
      "Precision and F-score are ill-defined and being set to 0.0 in labels with no predicted samples. Use `zero_division` parameter to control this behavior.\n",
      "\n",
      "/fs/ess/PAS2038/PHYSICS_5680_OSU/jupyter/lib/python3.9/site-packages/sklearn/metrics/_classification.py:1469: UndefinedMetricWarning:\n",
      "\n",
      "Precision and F-score are ill-defined and being set to 0.0 in labels with no predicted samples. Use `zero_division` parameter to control this behavior.\n",
      "\n",
      "/fs/ess/PAS2038/PHYSICS_5680_OSU/jupyter/lib/python3.9/site-packages/sklearn/metrics/_classification.py:1469: UndefinedMetricWarning:\n",
      "\n",
      "Precision and F-score are ill-defined and being set to 0.0 in labels with no predicted samples. Use `zero_division` parameter to control this behavior.\n",
      "\n",
      "/fs/ess/PAS2038/PHYSICS_5680_OSU/jupyter/lib/python3.9/site-packages/sklearn/metrics/_classification.py:1469: UndefinedMetricWarning:\n",
      "\n",
      "Precision and F-score are ill-defined and being set to 0.0 in labels with no predicted samples. Use `zero_division` parameter to control this behavior.\n",
      "\n",
      "/fs/ess/PAS2038/PHYSICS_5680_OSU/jupyter/lib/python3.9/site-packages/sklearn/metrics/_classification.py:1469: UndefinedMetricWarning:\n",
      "\n",
      "Precision and F-score are ill-defined and being set to 0.0 in labels with no predicted samples. Use `zero_division` parameter to control this behavior.\n",
      "\n",
      "/fs/ess/PAS2038/PHYSICS_5680_OSU/jupyter/lib/python3.9/site-packages/sklearn/metrics/_classification.py:1469: UndefinedMetricWarning:\n",
      "\n",
      "Precision and F-score are ill-defined and being set to 0.0 in labels with no predicted samples. Use `zero_division` parameter to control this behavior.\n",
      "\n",
      "/fs/ess/PAS2038/PHYSICS_5680_OSU/jupyter/lib/python3.9/site-packages/sklearn/metrics/_classification.py:1469: UndefinedMetricWarning:\n",
      "\n",
      "Precision and F-score are ill-defined and being set to 0.0 in labels with no predicted samples. Use `zero_division` parameter to control this behavior.\n",
      "\n",
      "/fs/ess/PAS2038/PHYSICS_5680_OSU/jupyter/lib/python3.9/site-packages/sklearn/metrics/_classification.py:1469: UndefinedMetricWarning:\n",
      "\n",
      "Precision and F-score are ill-defined and being set to 0.0 in labels with no predicted samples. Use `zero_division` parameter to control this behavior.\n",
      "\n",
      "/fs/ess/PAS2038/PHYSICS_5680_OSU/jupyter/lib/python3.9/site-packages/sklearn/metrics/_classification.py:1469: UndefinedMetricWarning:\n",
      "\n",
      "Precision and F-score are ill-defined and being set to 0.0 in labels with no predicted samples. Use `zero_division` parameter to control this behavior.\n",
      "\n",
      "/fs/ess/PAS2038/PHYSICS_5680_OSU/jupyter/lib/python3.9/site-packages/sklearn/metrics/_classification.py:1469: UndefinedMetricWarning:\n",
      "\n",
      "Precision and F-score are ill-defined and being set to 0.0 in labels with no predicted samples. Use `zero_division` parameter to control this behavior.\n",
      "\n",
      "/fs/ess/PAS2038/PHYSICS_5680_OSU/jupyter/lib/python3.9/site-packages/sklearn/metrics/_classification.py:1469: UndefinedMetricWarning:\n",
      "\n",
      "Precision and F-score are ill-defined and being set to 0.0 in labels with no predicted samples. Use `zero_division` parameter to control this behavior.\n",
      "\n",
      "/fs/ess/PAS2038/PHYSICS_5680_OSU/jupyter/lib/python3.9/site-packages/sklearn/metrics/_classification.py:1469: UndefinedMetricWarning:\n",
      "\n",
      "Precision and F-score are ill-defined and being set to 0.0 in labels with no predicted samples. Use `zero_division` parameter to control this behavior.\n",
      "\n",
      "/fs/ess/PAS2038/PHYSICS_5680_OSU/jupyter/lib/python3.9/site-packages/sklearn/metrics/_classification.py:1469: UndefinedMetricWarning:\n",
      "\n",
      "Precision and F-score are ill-defined and being set to 0.0 in labels with no predicted samples. Use `zero_division` parameter to control this behavior.\n",
      "\n",
      "/fs/ess/PAS2038/PHYSICS_5680_OSU/jupyter/lib/python3.9/site-packages/sklearn/metrics/_classification.py:1469: UndefinedMetricWarning:\n",
      "\n",
      "Precision and F-score are ill-defined and being set to 0.0 in labels with no predicted samples. Use `zero_division` parameter to control this behavior.\n",
      "\n",
      "/fs/ess/PAS2038/PHYSICS_5680_OSU/jupyter/lib/python3.9/site-packages/sklearn/metrics/_classification.py:1469: UndefinedMetricWarning:\n",
      "\n",
      "Precision and F-score are ill-defined and being set to 0.0 in labels with no predicted samples. Use `zero_division` parameter to control this behavior.\n",
      "\n",
      "/fs/ess/PAS2038/PHYSICS_5680_OSU/jupyter/lib/python3.9/site-packages/sklearn/metrics/_classification.py:1469: UndefinedMetricWarning:\n",
      "\n",
      "Precision and F-score are ill-defined and being set to 0.0 in labels with no predicted samples. Use `zero_division` parameter to control this behavior.\n",
      "\n",
      "/fs/ess/PAS2038/PHYSICS_5680_OSU/jupyter/lib/python3.9/site-packages/sklearn/metrics/_classification.py:1469: UndefinedMetricWarning:\n",
      "\n",
      "Precision and F-score are ill-defined and being set to 0.0 in labels with no predicted samples. Use `zero_division` parameter to control this behavior.\n",
      "\n",
      "/fs/ess/PAS2038/PHYSICS_5680_OSU/jupyter/lib/python3.9/site-packages/sklearn/metrics/_classification.py:1469: UndefinedMetricWarning:\n",
      "\n",
      "Precision and F-score are ill-defined and being set to 0.0 in labels with no predicted samples. Use `zero_division` parameter to control this behavior.\n",
      "\n",
      "/fs/ess/PAS2038/PHYSICS_5680_OSU/jupyter/lib/python3.9/site-packages/sklearn/metrics/_classification.py:1469: UndefinedMetricWarning:\n",
      "\n",
      "Precision and F-score are ill-defined and being set to 0.0 in labels with no predicted samples. Use `zero_division` parameter to control this behavior.\n",
      "\n",
      "/fs/ess/PAS2038/PHYSICS_5680_OSU/jupyter/lib/python3.9/site-packages/sklearn/metrics/_classification.py:1469: UndefinedMetricWarning:\n",
      "\n",
      "Precision and F-score are ill-defined and being set to 0.0 in labels with no predicted samples. Use `zero_division` parameter to control this behavior.\n",
      "\n",
      "/fs/ess/PAS2038/PHYSICS_5680_OSU/jupyter/lib/python3.9/site-packages/sklearn/metrics/_classification.py:1469: UndefinedMetricWarning:\n",
      "\n",
      "Precision and F-score are ill-defined and being set to 0.0 in labels with no predicted samples. Use `zero_division` parameter to control this behavior.\n",
      "\n",
      "/fs/ess/PAS2038/PHYSICS_5680_OSU/jupyter/lib/python3.9/site-packages/sklearn/metrics/_classification.py:1469: UndefinedMetricWarning:\n",
      "\n",
      "Precision and F-score are ill-defined and being set to 0.0 in labels with no predicted samples. Use `zero_division` parameter to control this behavior.\n",
      "\n",
      "/fs/ess/PAS2038/PHYSICS_5680_OSU/jupyter/lib/python3.9/site-packages/sklearn/metrics/_classification.py:1469: UndefinedMetricWarning:\n",
      "\n",
      "Precision and F-score are ill-defined and being set to 0.0 in labels with no predicted samples. Use `zero_division` parameter to control this behavior.\n",
      "\n",
      "/fs/ess/PAS2038/PHYSICS_5680_OSU/jupyter/lib/python3.9/site-packages/sklearn/metrics/_classification.py:1469: UndefinedMetricWarning:\n",
      "\n",
      "Precision and F-score are ill-defined and being set to 0.0 in labels with no predicted samples. Use `zero_division` parameter to control this behavior.\n",
      "\n",
      "/fs/ess/PAS2038/PHYSICS_5680_OSU/jupyter/lib/python3.9/site-packages/sklearn/metrics/_classification.py:1469: UndefinedMetricWarning:\n",
      "\n",
      "Precision and F-score are ill-defined and being set to 0.0 in labels with no predicted samples. Use `zero_division` parameter to control this behavior.\n",
      "\n",
      "/fs/ess/PAS2038/PHYSICS_5680_OSU/jupyter/lib/python3.9/site-packages/sklearn/metrics/_classification.py:1469: UndefinedMetricWarning:\n",
      "\n",
      "Precision and F-score are ill-defined and being set to 0.0 in labels with no predicted samples. Use `zero_division` parameter to control this behavior.\n",
      "\n",
      "/fs/ess/PAS2038/PHYSICS_5680_OSU/jupyter/lib/python3.9/site-packages/sklearn/metrics/_classification.py:1469: UndefinedMetricWarning:\n",
      "\n",
      "Precision and F-score are ill-defined and being set to 0.0 in labels with no predicted samples. Use `zero_division` parameter to control this behavior.\n",
      "\n",
      "/fs/ess/PAS2038/PHYSICS_5680_OSU/jupyter/lib/python3.9/site-packages/sklearn/metrics/_classification.py:1469: UndefinedMetricWarning:\n",
      "\n",
      "Precision and F-score are ill-defined and being set to 0.0 in labels with no predicted samples. Use `zero_division` parameter to control this behavior.\n",
      "\n",
      "/fs/ess/PAS2038/PHYSICS_5680_OSU/jupyter/lib/python3.9/site-packages/sklearn/metrics/_classification.py:1469: UndefinedMetricWarning:\n",
      "\n",
      "Precision and F-score are ill-defined and being set to 0.0 in labels with no predicted samples. Use `zero_division` parameter to control this behavior.\n",
      "\n",
      "/fs/ess/PAS2038/PHYSICS_5680_OSU/jupyter/lib/python3.9/site-packages/sklearn/metrics/_classification.py:1469: UndefinedMetricWarning:\n",
      "\n",
      "Precision and F-score are ill-defined and being set to 0.0 in labels with no predicted samples. Use `zero_division` parameter to control this behavior.\n",
      "\n",
      "/fs/ess/PAS2038/PHYSICS_5680_OSU/jupyter/lib/python3.9/site-packages/sklearn/metrics/_classification.py:1469: UndefinedMetricWarning:\n",
      "\n",
      "Precision and F-score are ill-defined and being set to 0.0 in labels with no predicted samples. Use `zero_division` parameter to control this behavior.\n",
      "\n",
      "/fs/ess/PAS2038/PHYSICS_5680_OSU/jupyter/lib/python3.9/site-packages/sklearn/metrics/_classification.py:1469: UndefinedMetricWarning:\n",
      "\n",
      "Precision and F-score are ill-defined and being set to 0.0 in labels with no predicted samples. Use `zero_division` parameter to control this behavior.\n",
      "\n",
      "/fs/ess/PAS2038/PHYSICS_5680_OSU/jupyter/lib/python3.9/site-packages/sklearn/metrics/_classification.py:1469: UndefinedMetricWarning:\n",
      "\n",
      "Precision and F-score are ill-defined and being set to 0.0 in labels with no predicted samples. Use `zero_division` parameter to control this behavior.\n",
      "\n",
      "/fs/ess/PAS2038/PHYSICS_5680_OSU/jupyter/lib/python3.9/site-packages/sklearn/metrics/_classification.py:1469: UndefinedMetricWarning:\n",
      "\n",
      "Precision and F-score are ill-defined and being set to 0.0 in labels with no predicted samples. Use `zero_division` parameter to control this behavior.\n",
      "\n",
      "/fs/ess/PAS2038/PHYSICS_5680_OSU/jupyter/lib/python3.9/site-packages/sklearn/metrics/_classification.py:1469: UndefinedMetricWarning:\n",
      "\n",
      "Precision and F-score are ill-defined and being set to 0.0 in labels with no predicted samples. Use `zero_division` parameter to control this behavior.\n",
      "\n",
      "/fs/ess/PAS2038/PHYSICS_5680_OSU/jupyter/lib/python3.9/site-packages/sklearn/metrics/_classification.py:1469: UndefinedMetricWarning:\n",
      "\n",
      "Precision and F-score are ill-defined and being set to 0.0 in labels with no predicted samples. Use `zero_division` parameter to control this behavior.\n",
      "\n"
     ]
    },
    {
     "name": "stdout",
     "output_type": "stream",
     "text": [
      "training with max depth = 2\n"
     ]
    },
    {
     "name": "stderr",
     "output_type": "stream",
     "text": [
      "/fs/ess/PAS2038/PHYSICS_5680_OSU/jupyter/lib/python3.9/site-packages/sklearn/metrics/_classification.py:1469: UndefinedMetricWarning:\n",
      "\n",
      "Precision and F-score are ill-defined and being set to 0.0 in labels with no predicted samples. Use `zero_division` parameter to control this behavior.\n",
      "\n",
      "/fs/ess/PAS2038/PHYSICS_5680_OSU/jupyter/lib/python3.9/site-packages/sklearn/metrics/_classification.py:1469: UndefinedMetricWarning:\n",
      "\n",
      "Precision and F-score are ill-defined and being set to 0.0 in labels with no predicted samples. Use `zero_division` parameter to control this behavior.\n",
      "\n",
      "/fs/ess/PAS2038/PHYSICS_5680_OSU/jupyter/lib/python3.9/site-packages/sklearn/metrics/_classification.py:1469: UndefinedMetricWarning:\n",
      "\n",
      "Precision and F-score are ill-defined and being set to 0.0 in labels with no predicted samples. Use `zero_division` parameter to control this behavior.\n",
      "\n",
      "/fs/ess/PAS2038/PHYSICS_5680_OSU/jupyter/lib/python3.9/site-packages/sklearn/metrics/_classification.py:1469: UndefinedMetricWarning:\n",
      "\n",
      "Precision and F-score are ill-defined and being set to 0.0 in labels with no predicted samples. Use `zero_division` parameter to control this behavior.\n",
      "\n",
      "/fs/ess/PAS2038/PHYSICS_5680_OSU/jupyter/lib/python3.9/site-packages/sklearn/metrics/_classification.py:1469: UndefinedMetricWarning:\n",
      "\n",
      "Precision and F-score are ill-defined and being set to 0.0 in labels with no predicted samples. Use `zero_division` parameter to control this behavior.\n",
      "\n",
      "/fs/ess/PAS2038/PHYSICS_5680_OSU/jupyter/lib/python3.9/site-packages/sklearn/metrics/_classification.py:1469: UndefinedMetricWarning:\n",
      "\n",
      "Precision and F-score are ill-defined and being set to 0.0 in labels with no predicted samples. Use `zero_division` parameter to control this behavior.\n",
      "\n"
     ]
    },
    {
     "name": "stdout",
     "output_type": "stream",
     "text": [
      "training with max depth = 3\n",
      "training with max depth = 4\n",
      "training with max depth = 5\n",
      "training with max depth = 6\n",
      "training with max depth = 7\n",
      "training with max depth = 8\n",
      "training with max depth = 9\n",
      "training with max depth = 10\n",
      "training with max depth = 11\n",
      "training with max depth = 12\n",
      "training with max depth = 13\n",
      "training with max depth = 14\n",
      "training with max depth = 15\n",
      "training with max depth = 16\n",
      "training with max depth = 17\n",
      "training with max depth = 18\n",
      "training with max depth = 19\n",
      "   max_depth  trainError_pre  testError_pre  trainError_rec  testError_rec  \\\n",
      "0          1        0.640198       0.641796        0.489050         0.4900   \n",
      "1          2        0.271805       0.292492        0.425325         0.4264   \n",
      "2          3        0.240480       0.243860        0.311850         0.3153   \n",
      "3          4        0.193579       0.195710        0.224125         0.2263   \n",
      "4          5        0.135169       0.135985        0.150750         0.1515   \n",
      "\n",
      "   trainError_f1  testError_f1  \n",
      "0            1.0           1.0  \n",
      "1            1.0           1.0  \n",
      "2            1.0           1.0  \n",
      "3            1.0           1.0  \n",
      "4            1.0           1.0  \n"
     ]
    }
   ],
   "source": [
    "# Create a list to store our results\n",
    "rows = []\n",
    "\n",
    "for max_depth in range(1,20):\n",
    "    print(\"training with max depth =\",max_depth)\n",
    "    #max_features = 8-2\n",
    "    estimator = RandomForestClassifier(n_estimators=50,random_state=42,max_depth=max_depth)\n",
    "    avg_precision_train = 0.0\n",
    "    avg_recall_train = 0.0\n",
    "    avg_f1_train = 0.0\n",
    "    avg_precision_test = 0.0\n",
    "    avg_recall_test = 0.0\n",
    "    avg_f1_test = 0.0\n",
    "    numSplits = 0.0\n",
    "#\n",
    "# Now loop\n",
    "    for train_index, test_index in skf.split(X, y):\n",
    "        numSplits += 1\n",
    "        X_train = X[train_index]\n",
    "        y_train = y[train_index]\n",
    "        X_test = X[test_index]\n",
    "        y_test = y[test_index]\n",
    "\n",
    "#\n",
    "# Now fit to our training set\n",
    "        results_train,results_test = run_fitter_multi(estimator,X_train,y_train,X_test,y_test,labels)\n",
    "\n",
    "        avg_precision_train += results_train['report_dict']['weighted avg']['precision']\n",
    "        avg_recall_train += results_train['report_dict']['weighted avg']['recall']\n",
    "        avg_f1_train += results_train['report_dict']['weighted avg']['f1-score']\n",
    "#\n",
    "        avg_precision_test += results_test['report_dict']['weighted avg']['precision']\n",
    "        avg_recall_test += results_test['report_dict']['weighted avg']['recall']\n",
    "        avg_f1_test += results_test['report_dict']['weighted avg']['f1-score']\n",
    "#\n",
    "    avg_precision_train /= numSplits\n",
    "    avg_recall_train /= numSplits\n",
    "    avg_f1_score_train /= numSplits\n",
    "    \n",
    "    avg_precision_test /= numSplits\n",
    "    avg_recall_test /= numSplits\n",
    "    avg_f1_score_test /= numSplits\n",
    "#\n",
    "# Fill dataframe\n",
    "    rows.append({\n",
    "        'max_depth':max_depth,\n",
    "        'trainError_pre':1.0-avg_precision_train,'testError_pre':1.0-avg_precision_test,\n",
    "        'trainError_rec':1.0-avg_recall_train,'testError_rec':1.0-avg_recall_test,\n",
    "        'trainError_f1':1.0-avg_f1_score_train,'testError_f1':1.0-avg_f1_score_test\n",
    "        })\n",
    "# \n",
    "#\n",
    "# Convert our list of dictionaries to a dataframe\n",
    "dfError = pd.DataFrame(rows)\n",
    "\n",
    "# Now print\n",
    "print(dfError.head())"
   ]
  },
  {
   "cell_type": "markdown",
   "id": "cf35a73d-a875-4e8c-8fef-5c94767d6cda",
   "metadata": {},
   "source": [
    "**Limit max depth to 7 and n estimators to 50**"
   ]
  },
  {
   "cell_type": "code",
   "execution_count": 39,
   "id": "b6265d80-cc10-4ab7-9410-e596afb7d3c3",
   "metadata": {},
   "outputs": [
    {
     "data": {
      "application/vnd.plotly.v1+json": {
       "config": {
        "plotlyServerURL": "https://plot.ly"
       },
       "data": [
        {
         "hovertemplate": "variable=trainError_pre<br>max_depth=%{x}<br>value=%{y}<extra></extra>",
         "legendgroup": "trainError_pre",
         "line": {
          "color": "#636efa",
          "dash": "solid"
         },
         "marker": {
          "symbol": "circle"
         },
         "mode": "lines",
         "name": "trainError_pre",
         "orientation": "v",
         "showlegend": true,
         "type": "scatter",
         "x": [
          1,
          2,
          3,
          4,
          5,
          6,
          7,
          8,
          9,
          10,
          11,
          12,
          13,
          14,
          15,
          16,
          17,
          18,
          19
         ],
         "xaxis": "x",
         "y": [
          0.6401983073989295,
          0.2718049055539973,
          0.24047988068468973,
          0.19357930982970617,
          0.1351691086263408,
          0.10141848055802272,
          0.07616399561980924,
          0.059805148804490726,
          0.043111989768848114,
          0.03234117897325639,
          0.024687742333450502,
          0.017854841761553053,
          0.014185426699556913,
          0.008633221603099095,
          0.004967765698235871,
          0.003459265716405313,
          0.002264539803543464,
          0.0016204629164751072,
          0.0012460457718663775
         ],
         "yaxis": "y"
        },
        {
         "hovertemplate": "variable=testError_pre<br>max_depth=%{x}<br>value=%{y}<extra></extra>",
         "legendgroup": "testError_pre",
         "line": {
          "color": "#EF553B",
          "dash": "solid"
         },
         "marker": {
          "symbol": "circle"
         },
         "mode": "lines",
         "name": "testError_pre",
         "orientation": "v",
         "showlegend": true,
         "type": "scatter",
         "x": [
          1,
          2,
          3,
          4,
          5,
          6,
          7,
          8,
          9,
          10,
          11,
          12,
          13,
          14,
          15,
          16,
          17,
          18,
          19
         ],
         "xaxis": "x",
         "y": [
          0.6417961951888891,
          0.2924919855653496,
          0.24386020473855652,
          0.1957103159828586,
          0.13598519809269471,
          0.10369464186709865,
          0.07888162058519188,
          0.060778471075171536,
          0.046850705652231484,
          0.039157711790051564,
          0.03121828565065654,
          0.02466286724404443,
          0.02111310776039732,
          0.013693647325880298,
          0.011332023394275303,
          0.008990756625532725,
          0.007693998757528631,
          0.00855809086959769,
          0.007325213709338252
         ],
         "yaxis": "y"
        }
       ],
       "layout": {
        "autosize": true,
        "legend": {
         "title": {
          "text": "variable"
         },
         "tracegroupgap": 0
        },
        "template": {
         "data": {
          "bar": [
           {
            "error_x": {
             "color": "#2a3f5f"
            },
            "error_y": {
             "color": "#2a3f5f"
            },
            "marker": {
             "line": {
              "color": "#E5ECF6",
              "width": 0.5
             },
             "pattern": {
              "fillmode": "overlay",
              "size": 10,
              "solidity": 0.2
             }
            },
            "type": "bar"
           }
          ],
          "barpolar": [
           {
            "marker": {
             "line": {
              "color": "#E5ECF6",
              "width": 0.5
             },
             "pattern": {
              "fillmode": "overlay",
              "size": 10,
              "solidity": 0.2
             }
            },
            "type": "barpolar"
           }
          ],
          "carpet": [
           {
            "aaxis": {
             "endlinecolor": "#2a3f5f",
             "gridcolor": "white",
             "linecolor": "white",
             "minorgridcolor": "white",
             "startlinecolor": "#2a3f5f"
            },
            "baxis": {
             "endlinecolor": "#2a3f5f",
             "gridcolor": "white",
             "linecolor": "white",
             "minorgridcolor": "white",
             "startlinecolor": "#2a3f5f"
            },
            "type": "carpet"
           }
          ],
          "choropleth": [
           {
            "colorbar": {
             "outlinewidth": 0,
             "ticks": ""
            },
            "type": "choropleth"
           }
          ],
          "contour": [
           {
            "colorbar": {
             "outlinewidth": 0,
             "ticks": ""
            },
            "colorscale": [
             [
              0,
              "#0d0887"
             ],
             [
              0.1111111111111111,
              "#46039f"
             ],
             [
              0.2222222222222222,
              "#7201a8"
             ],
             [
              0.3333333333333333,
              "#9c179e"
             ],
             [
              0.4444444444444444,
              "#bd3786"
             ],
             [
              0.5555555555555556,
              "#d8576b"
             ],
             [
              0.6666666666666666,
              "#ed7953"
             ],
             [
              0.7777777777777778,
              "#fb9f3a"
             ],
             [
              0.8888888888888888,
              "#fdca26"
             ],
             [
              1,
              "#f0f921"
             ]
            ],
            "type": "contour"
           }
          ],
          "contourcarpet": [
           {
            "colorbar": {
             "outlinewidth": 0,
             "ticks": ""
            },
            "type": "contourcarpet"
           }
          ],
          "heatmap": [
           {
            "colorbar": {
             "outlinewidth": 0,
             "ticks": ""
            },
            "colorscale": [
             [
              0,
              "#0d0887"
             ],
             [
              0.1111111111111111,
              "#46039f"
             ],
             [
              0.2222222222222222,
              "#7201a8"
             ],
             [
              0.3333333333333333,
              "#9c179e"
             ],
             [
              0.4444444444444444,
              "#bd3786"
             ],
             [
              0.5555555555555556,
              "#d8576b"
             ],
             [
              0.6666666666666666,
              "#ed7953"
             ],
             [
              0.7777777777777778,
              "#fb9f3a"
             ],
             [
              0.8888888888888888,
              "#fdca26"
             ],
             [
              1,
              "#f0f921"
             ]
            ],
            "type": "heatmap"
           }
          ],
          "heatmapgl": [
           {
            "colorbar": {
             "outlinewidth": 0,
             "ticks": ""
            },
            "colorscale": [
             [
              0,
              "#0d0887"
             ],
             [
              0.1111111111111111,
              "#46039f"
             ],
             [
              0.2222222222222222,
              "#7201a8"
             ],
             [
              0.3333333333333333,
              "#9c179e"
             ],
             [
              0.4444444444444444,
              "#bd3786"
             ],
             [
              0.5555555555555556,
              "#d8576b"
             ],
             [
              0.6666666666666666,
              "#ed7953"
             ],
             [
              0.7777777777777778,
              "#fb9f3a"
             ],
             [
              0.8888888888888888,
              "#fdca26"
             ],
             [
              1,
              "#f0f921"
             ]
            ],
            "type": "heatmapgl"
           }
          ],
          "histogram": [
           {
            "marker": {
             "pattern": {
              "fillmode": "overlay",
              "size": 10,
              "solidity": 0.2
             }
            },
            "type": "histogram"
           }
          ],
          "histogram2d": [
           {
            "colorbar": {
             "outlinewidth": 0,
             "ticks": ""
            },
            "colorscale": [
             [
              0,
              "#0d0887"
             ],
             [
              0.1111111111111111,
              "#46039f"
             ],
             [
              0.2222222222222222,
              "#7201a8"
             ],
             [
              0.3333333333333333,
              "#9c179e"
             ],
             [
              0.4444444444444444,
              "#bd3786"
             ],
             [
              0.5555555555555556,
              "#d8576b"
             ],
             [
              0.6666666666666666,
              "#ed7953"
             ],
             [
              0.7777777777777778,
              "#fb9f3a"
             ],
             [
              0.8888888888888888,
              "#fdca26"
             ],
             [
              1,
              "#f0f921"
             ]
            ],
            "type": "histogram2d"
           }
          ],
          "histogram2dcontour": [
           {
            "colorbar": {
             "outlinewidth": 0,
             "ticks": ""
            },
            "colorscale": [
             [
              0,
              "#0d0887"
             ],
             [
              0.1111111111111111,
              "#46039f"
             ],
             [
              0.2222222222222222,
              "#7201a8"
             ],
             [
              0.3333333333333333,
              "#9c179e"
             ],
             [
              0.4444444444444444,
              "#bd3786"
             ],
             [
              0.5555555555555556,
              "#d8576b"
             ],
             [
              0.6666666666666666,
              "#ed7953"
             ],
             [
              0.7777777777777778,
              "#fb9f3a"
             ],
             [
              0.8888888888888888,
              "#fdca26"
             ],
             [
              1,
              "#f0f921"
             ]
            ],
            "type": "histogram2dcontour"
           }
          ],
          "mesh3d": [
           {
            "colorbar": {
             "outlinewidth": 0,
             "ticks": ""
            },
            "type": "mesh3d"
           }
          ],
          "parcoords": [
           {
            "line": {
             "colorbar": {
              "outlinewidth": 0,
              "ticks": ""
             }
            },
            "type": "parcoords"
           }
          ],
          "pie": [
           {
            "automargin": true,
            "type": "pie"
           }
          ],
          "scatter": [
           {
            "fillpattern": {
             "fillmode": "overlay",
             "size": 10,
             "solidity": 0.2
            },
            "type": "scatter"
           }
          ],
          "scatter3d": [
           {
            "line": {
             "colorbar": {
              "outlinewidth": 0,
              "ticks": ""
             }
            },
            "marker": {
             "colorbar": {
              "outlinewidth": 0,
              "ticks": ""
             }
            },
            "type": "scatter3d"
           }
          ],
          "scattercarpet": [
           {
            "marker": {
             "colorbar": {
              "outlinewidth": 0,
              "ticks": ""
             }
            },
            "type": "scattercarpet"
           }
          ],
          "scattergeo": [
           {
            "marker": {
             "colorbar": {
              "outlinewidth": 0,
              "ticks": ""
             }
            },
            "type": "scattergeo"
           }
          ],
          "scattergl": [
           {
            "marker": {
             "colorbar": {
              "outlinewidth": 0,
              "ticks": ""
             }
            },
            "type": "scattergl"
           }
          ],
          "scattermapbox": [
           {
            "marker": {
             "colorbar": {
              "outlinewidth": 0,
              "ticks": ""
             }
            },
            "type": "scattermapbox"
           }
          ],
          "scatterpolar": [
           {
            "marker": {
             "colorbar": {
              "outlinewidth": 0,
              "ticks": ""
             }
            },
            "type": "scatterpolar"
           }
          ],
          "scatterpolargl": [
           {
            "marker": {
             "colorbar": {
              "outlinewidth": 0,
              "ticks": ""
             }
            },
            "type": "scatterpolargl"
           }
          ],
          "scatterternary": [
           {
            "marker": {
             "colorbar": {
              "outlinewidth": 0,
              "ticks": ""
             }
            },
            "type": "scatterternary"
           }
          ],
          "surface": [
           {
            "colorbar": {
             "outlinewidth": 0,
             "ticks": ""
            },
            "colorscale": [
             [
              0,
              "#0d0887"
             ],
             [
              0.1111111111111111,
              "#46039f"
             ],
             [
              0.2222222222222222,
              "#7201a8"
             ],
             [
              0.3333333333333333,
              "#9c179e"
             ],
             [
              0.4444444444444444,
              "#bd3786"
             ],
             [
              0.5555555555555556,
              "#d8576b"
             ],
             [
              0.6666666666666666,
              "#ed7953"
             ],
             [
              0.7777777777777778,
              "#fb9f3a"
             ],
             [
              0.8888888888888888,
              "#fdca26"
             ],
             [
              1,
              "#f0f921"
             ]
            ],
            "type": "surface"
           }
          ],
          "table": [
           {
            "cells": {
             "fill": {
              "color": "#EBF0F8"
             },
             "line": {
              "color": "white"
             }
            },
            "header": {
             "fill": {
              "color": "#C8D4E3"
             },
             "line": {
              "color": "white"
             }
            },
            "type": "table"
           }
          ]
         },
         "layout": {
          "annotationdefaults": {
           "arrowcolor": "#2a3f5f",
           "arrowhead": 0,
           "arrowwidth": 1
          },
          "autotypenumbers": "strict",
          "coloraxis": {
           "colorbar": {
            "outlinewidth": 0,
            "ticks": ""
           }
          },
          "colorscale": {
           "diverging": [
            [
             0,
             "#8e0152"
            ],
            [
             0.1,
             "#c51b7d"
            ],
            [
             0.2,
             "#de77ae"
            ],
            [
             0.3,
             "#f1b6da"
            ],
            [
             0.4,
             "#fde0ef"
            ],
            [
             0.5,
             "#f7f7f7"
            ],
            [
             0.6,
             "#e6f5d0"
            ],
            [
             0.7,
             "#b8e186"
            ],
            [
             0.8,
             "#7fbc41"
            ],
            [
             0.9,
             "#4d9221"
            ],
            [
             1,
             "#276419"
            ]
           ],
           "sequential": [
            [
             0,
             "#0d0887"
            ],
            [
             0.1111111111111111,
             "#46039f"
            ],
            [
             0.2222222222222222,
             "#7201a8"
            ],
            [
             0.3333333333333333,
             "#9c179e"
            ],
            [
             0.4444444444444444,
             "#bd3786"
            ],
            [
             0.5555555555555556,
             "#d8576b"
            ],
            [
             0.6666666666666666,
             "#ed7953"
            ],
            [
             0.7777777777777778,
             "#fb9f3a"
            ],
            [
             0.8888888888888888,
             "#fdca26"
            ],
            [
             1,
             "#f0f921"
            ]
           ],
           "sequentialminus": [
            [
             0,
             "#0d0887"
            ],
            [
             0.1111111111111111,
             "#46039f"
            ],
            [
             0.2222222222222222,
             "#7201a8"
            ],
            [
             0.3333333333333333,
             "#9c179e"
            ],
            [
             0.4444444444444444,
             "#bd3786"
            ],
            [
             0.5555555555555556,
             "#d8576b"
            ],
            [
             0.6666666666666666,
             "#ed7953"
            ],
            [
             0.7777777777777778,
             "#fb9f3a"
            ],
            [
             0.8888888888888888,
             "#fdca26"
            ],
            [
             1,
             "#f0f921"
            ]
           ]
          },
          "colorway": [
           "#636efa",
           "#EF553B",
           "#00cc96",
           "#ab63fa",
           "#FFA15A",
           "#19d3f3",
           "#FF6692",
           "#B6E880",
           "#FF97FF",
           "#FECB52"
          ],
          "font": {
           "color": "#2a3f5f"
          },
          "geo": {
           "bgcolor": "white",
           "lakecolor": "white",
           "landcolor": "#E5ECF6",
           "showlakes": true,
           "showland": true,
           "subunitcolor": "white"
          },
          "hoverlabel": {
           "align": "left"
          },
          "hovermode": "closest",
          "mapbox": {
           "style": "light"
          },
          "paper_bgcolor": "white",
          "plot_bgcolor": "#E5ECF6",
          "polar": {
           "angularaxis": {
            "gridcolor": "white",
            "linecolor": "white",
            "ticks": ""
           },
           "bgcolor": "#E5ECF6",
           "radialaxis": {
            "gridcolor": "white",
            "linecolor": "white",
            "ticks": ""
           }
          },
          "scene": {
           "xaxis": {
            "backgroundcolor": "#E5ECF6",
            "gridcolor": "white",
            "gridwidth": 2,
            "linecolor": "white",
            "showbackground": true,
            "ticks": "",
            "zerolinecolor": "white"
           },
           "yaxis": {
            "backgroundcolor": "#E5ECF6",
            "gridcolor": "white",
            "gridwidth": 2,
            "linecolor": "white",
            "showbackground": true,
            "ticks": "",
            "zerolinecolor": "white"
           },
           "zaxis": {
            "backgroundcolor": "#E5ECF6",
            "gridcolor": "white",
            "gridwidth": 2,
            "linecolor": "white",
            "showbackground": true,
            "ticks": "",
            "zerolinecolor": "white"
           }
          },
          "shapedefaults": {
           "line": {
            "color": "#2a3f5f"
           }
          },
          "ternary": {
           "aaxis": {
            "gridcolor": "white",
            "linecolor": "white",
            "ticks": ""
           },
           "baxis": {
            "gridcolor": "white",
            "linecolor": "white",
            "ticks": ""
           },
           "bgcolor": "#E5ECF6",
           "caxis": {
            "gridcolor": "white",
            "linecolor": "white",
            "ticks": ""
           }
          },
          "title": {
           "x": 0.05
          },
          "xaxis": {
           "automargin": true,
           "gridcolor": "white",
           "linecolor": "white",
           "ticks": "",
           "title": {
            "standoff": 15
           },
           "zerolinecolor": "white",
           "zerolinewidth": 2
          },
          "yaxis": {
           "automargin": true,
           "gridcolor": "white",
           "linecolor": "white",
           "ticks": "",
           "title": {
            "standoff": 15
           },
           "zerolinecolor": "white",
           "zerolinewidth": 2
          }
         }
        },
        "title": {
         "text": "Error (Precision) vs Model Complexity"
        },
        "xaxis": {
         "anchor": "y",
         "autorange": true,
         "domain": [
          0,
          1
         ],
         "range": [
          1,
          19
         ],
         "title": {
          "text": "max_depth"
         },
         "type": "linear"
        },
        "yaxis": {
         "anchor": "x",
         "autorange": true,
         "domain": [
          0,
          1
         ],
         "range": [
          -0.034340073640190434,
          0.6773823146009459
         ],
         "title": {
          "text": "value"
         },
         "type": "linear"
        }
       }
      },
      "image/png": "[encoded data removed]"
     },
     "metadata": {},
     "output_type": "display_data"
    },
    {
     "data": {
      "application/vnd.plotly.v1+json": {
       "config": {
        "plotlyServerURL": "https://plot.ly"
       },
       "data": [
        {
         "hovertemplate": "variable=trainError_rec<br>max_depth=%{x}<br>value=%{y}<extra></extra>",
         "legendgroup": "trainError_rec",
         "line": {
          "color": "#636efa",
          "dash": "solid"
         },
         "marker": {
          "symbol": "circle"
         },
         "mode": "lines",
         "name": "trainError_rec",
         "orientation": "v",
         "showlegend": true,
         "type": "scatter",
         "x": [
          1,
          2,
          3,
          4,
          5,
          6,
          7,
          8,
          9,
          10,
          11,
          12,
          13,
          14,
          15,
          16,
          17,
          18,
          19
         ],
         "xaxis": "x",
         "y": [
          0.48905,
          0.42532499999999995,
          0.31184999999999996,
          0.22412500000000013,
          0.15075000000000005,
          0.11180000000000001,
          0.08255000000000001,
          0.0635,
          0.045274999999999954,
          0.033275000000000055,
          0.025325000000000153,
          0.018125000000000058,
          0.014450000000000074,
          0.008750000000000036,
          0.0050000000000001155,
          0.003475000000000117,
          0.002275000000000027,
          0.0016249999999999876,
          0.0012499999999999734
         ],
         "yaxis": "y"
        },
        {
         "hovertemplate": "variable=testError_rec<br>max_depth=%{x}<br>value=%{y}<extra></extra>",
         "legendgroup": "testError_rec",
         "line": {
          "color": "#EF553B",
          "dash": "solid"
         },
         "marker": {
          "symbol": "circle"
         },
         "mode": "lines",
         "name": "testError_rec",
         "orientation": "v",
         "showlegend": true,
         "type": "scatter",
         "x": [
          1,
          2,
          3,
          4,
          5,
          6,
          7,
          8,
          9,
          10,
          11,
          12,
          13,
          14,
          15,
          16,
          17,
          18,
          19
         ],
         "xaxis": "x",
         "y": [
          0.49,
          0.4264,
          0.3153,
          0.22629999999999995,
          0.15150000000000008,
          0.11419999999999997,
          0.08560000000000001,
          0.06440000000000001,
          0.04930000000000001,
          0.040200000000000125,
          0.03210000000000002,
          0.0250999999999999,
          0.021499999999999964,
          0.013900000000000134,
          0.011499999999999844,
          0.009100000000000108,
          0.007799999999999918,
          0.00869999999999993,
          0.007499999999999951
         ],
         "yaxis": "y"
        }
       ],
       "layout": {
        "autosize": true,
        "legend": {
         "title": {
          "text": "variable"
         },
         "tracegroupgap": 0
        },
        "template": {
         "data": {
          "bar": [
           {
            "error_x": {
             "color": "#2a3f5f"
            },
            "error_y": {
             "color": "#2a3f5f"
            },
            "marker": {
             "line": {
              "color": "#E5ECF6",
              "width": 0.5
             },
             "pattern": {
              "fillmode": "overlay",
              "size": 10,
              "solidity": 0.2
             }
            },
            "type": "bar"
           }
          ],
          "barpolar": [
           {
            "marker": {
             "line": {
              "color": "#E5ECF6",
              "width": 0.5
             },
             "pattern": {
              "fillmode": "overlay",
              "size": 10,
              "solidity": 0.2
             }
            },
            "type": "barpolar"
           }
          ],
          "carpet": [
           {
            "aaxis": {
             "endlinecolor": "#2a3f5f",
             "gridcolor": "white",
             "linecolor": "white",
             "minorgridcolor": "white",
             "startlinecolor": "#2a3f5f"
            },
            "baxis": {
             "endlinecolor": "#2a3f5f",
             "gridcolor": "white",
             "linecolor": "white",
             "minorgridcolor": "white",
             "startlinecolor": "#2a3f5f"
            },
            "type": "carpet"
           }
          ],
          "choropleth": [
           {
            "colorbar": {
             "outlinewidth": 0,
             "ticks": ""
            },
            "type": "choropleth"
           }
          ],
          "contour": [
           {
            "colorbar": {
             "outlinewidth": 0,
             "ticks": ""
            },
            "colorscale": [
             [
              0,
              "#0d0887"
             ],
             [
              0.1111111111111111,
              "#46039f"
             ],
             [
              0.2222222222222222,
              "#7201a8"
             ],
             [
              0.3333333333333333,
              "#9c179e"
             ],
             [
              0.4444444444444444,
              "#bd3786"
             ],
             [
              0.5555555555555556,
              "#d8576b"
             ],
             [
              0.6666666666666666,
              "#ed7953"
             ],
             [
              0.7777777777777778,
              "#fb9f3a"
             ],
             [
              0.8888888888888888,
              "#fdca26"
             ],
             [
              1,
              "#f0f921"
             ]
            ],
            "type": "contour"
           }
          ],
          "contourcarpet": [
           {
            "colorbar": {
             "outlinewidth": 0,
             "ticks": ""
            },
            "type": "contourcarpet"
           }
          ],
          "heatmap": [
           {
            "colorbar": {
             "outlinewidth": 0,
             "ticks": ""
            },
            "colorscale": [
             [
              0,
              "#0d0887"
             ],
             [
              0.1111111111111111,
              "#46039f"
             ],
             [
              0.2222222222222222,
              "#7201a8"
             ],
             [
              0.3333333333333333,
              "#9c179e"
             ],
             [
              0.4444444444444444,
              "#bd3786"
             ],
             [
              0.5555555555555556,
              "#d8576b"
             ],
             [
              0.6666666666666666,
              "#ed7953"
             ],
             [
              0.7777777777777778,
              "#fb9f3a"
             ],
             [
              0.8888888888888888,
              "#fdca26"
             ],
             [
              1,
              "#f0f921"
             ]
            ],
            "type": "heatmap"
           }
          ],
          "heatmapgl": [
           {
            "colorbar": {
             "outlinewidth": 0,
             "ticks": ""
            },
            "colorscale": [
             [
              0,
              "#0d0887"
             ],
             [
              0.1111111111111111,
              "#46039f"
             ],
             [
              0.2222222222222222,
              "#7201a8"
             ],
             [
              0.3333333333333333,
              "#9c179e"
             ],
             [
              0.4444444444444444,
              "#bd3786"
             ],
             [
              0.5555555555555556,
              "#d8576b"
             ],
             [
              0.6666666666666666,
              "#ed7953"
             ],
             [
              0.7777777777777778,
              "#fb9f3a"
             ],
             [
              0.8888888888888888,
              "#fdca26"
             ],
             [
              1,
              "#f0f921"
             ]
            ],
            "type": "heatmapgl"
           }
          ],
          "histogram": [
           {
            "marker": {
             "pattern": {
              "fillmode": "overlay",
              "size": 10,
              "solidity": 0.2
             }
            },
            "type": "histogram"
           }
          ],
          "histogram2d": [
           {
            "colorbar": {
             "outlinewidth": 0,
             "ticks": ""
            },
            "colorscale": [
             [
              0,
              "#0d0887"
             ],
             [
              0.1111111111111111,
              "#46039f"
             ],
             [
              0.2222222222222222,
              "#7201a8"
             ],
             [
              0.3333333333333333,
              "#9c179e"
             ],
             [
              0.4444444444444444,
              "#bd3786"
             ],
             [
              0.5555555555555556,
              "#d8576b"
             ],
             [
              0.6666666666666666,
              "#ed7953"
             ],
             [
              0.7777777777777778,
              "#fb9f3a"
             ],
             [
              0.8888888888888888,
              "#fdca26"
             ],
             [
              1,
              "#f0f921"
             ]
            ],
            "type": "histogram2d"
           }
          ],
          "histogram2dcontour": [
           {
            "colorbar": {
             "outlinewidth": 0,
             "ticks": ""
            },
            "colorscale": [
             [
              0,
              "#0d0887"
             ],
             [
              0.1111111111111111,
              "#46039f"
             ],
             [
              0.2222222222222222,
              "#7201a8"
             ],
             [
              0.3333333333333333,
              "#9c179e"
             ],
             [
              0.4444444444444444,
              "#bd3786"
             ],
             [
              0.5555555555555556,
              "#d8576b"
             ],
             [
              0.6666666666666666,
              "#ed7953"
             ],
             [
              0.7777777777777778,
              "#fb9f3a"
             ],
             [
              0.8888888888888888,
              "#fdca26"
             ],
             [
              1,
              "#f0f921"
             ]
            ],
            "type": "histogram2dcontour"
           }
          ],
          "mesh3d": [
           {
            "colorbar": {
             "outlinewidth": 0,
             "ticks": ""
            },
            "type": "mesh3d"
           }
          ],
          "parcoords": [
           {
            "line": {
             "colorbar": {
              "outlinewidth": 0,
              "ticks": ""
             }
            },
            "type": "parcoords"
           }
          ],
          "pie": [
           {
            "automargin": true,
            "type": "pie"
           }
          ],
          "scatter": [
           {
            "fillpattern": {
             "fillmode": "overlay",
             "size": 10,
             "solidity": 0.2
            },
            "type": "scatter"
           }
          ],
          "scatter3d": [
           {
            "line": {
             "colorbar": {
              "outlinewidth": 0,
              "ticks": ""
             }
            },
            "marker": {
             "colorbar": {
              "outlinewidth": 0,
              "ticks": ""
             }
            },
            "type": "scatter3d"
           }
          ],
          "scattercarpet": [
           {
            "marker": {
             "colorbar": {
              "outlinewidth": 0,
              "ticks": ""
             }
            },
            "type": "scattercarpet"
           }
          ],
          "scattergeo": [
           {
            "marker": {
             "colorbar": {
              "outlinewidth": 0,
              "ticks": ""
             }
            },
            "type": "scattergeo"
           }
          ],
          "scattergl": [
           {
            "marker": {
             "colorbar": {
              "outlinewidth": 0,
              "ticks": ""
             }
            },
            "type": "scattergl"
           }
          ],
          "scattermapbox": [
           {
            "marker": {
             "colorbar": {
              "outlinewidth": 0,
              "ticks": ""
             }
            },
            "type": "scattermapbox"
           }
          ],
          "scatterpolar": [
           {
            "marker": {
             "colorbar": {
              "outlinewidth": 0,
              "ticks": ""
             }
            },
            "type": "scatterpolar"
           }
          ],
          "scatterpolargl": [
           {
            "marker": {
             "colorbar": {
              "outlinewidth": 0,
              "ticks": ""
             }
            },
            "type": "scatterpolargl"
           }
          ],
          "scatterternary": [
           {
            "marker": {
             "colorbar": {
              "outlinewidth": 0,
              "ticks": ""
             }
            },
            "type": "scatterternary"
           }
          ],
          "surface": [
           {
            "colorbar": {
             "outlinewidth": 0,
             "ticks": ""
            },
            "colorscale": [
             [
              0,
              "#0d0887"
             ],
             [
              0.1111111111111111,
              "#46039f"
             ],
             [
              0.2222222222222222,
              "#7201a8"
             ],
             [
              0.3333333333333333,
              "#9c179e"
             ],
             [
              0.4444444444444444,
              "#bd3786"
             ],
             [
              0.5555555555555556,
              "#d8576b"
             ],
             [
              0.6666666666666666,
              "#ed7953"
             ],
             [
              0.7777777777777778,
              "#fb9f3a"
             ],
             [
              0.8888888888888888,
              "#fdca26"
             ],
             [
              1,
              "#f0f921"
             ]
            ],
            "type": "surface"
           }
          ],
          "table": [
           {
            "cells": {
             "fill": {
              "color": "#EBF0F8"
             },
             "line": {
              "color": "white"
             }
            },
            "header": {
             "fill": {
              "color": "#C8D4E3"
             },
             "line": {
              "color": "white"
             }
            },
            "type": "table"
           }
          ]
         },
         "layout": {
          "annotationdefaults": {
           "arrowcolor": "#2a3f5f",
           "arrowhead": 0,
           "arrowwidth": 1
          },
          "autotypenumbers": "strict",
          "coloraxis": {
           "colorbar": {
            "outlinewidth": 0,
            "ticks": ""
           }
          },
          "colorscale": {
           "diverging": [
            [
             0,
             "#8e0152"
            ],
            [
             0.1,
             "#c51b7d"
            ],
            [
             0.2,
             "#de77ae"
            ],
            [
             0.3,
             "#f1b6da"
            ],
            [
             0.4,
             "#fde0ef"
            ],
            [
             0.5,
             "#f7f7f7"
            ],
            [
             0.6,
             "#e6f5d0"
            ],
            [
             0.7,
             "#b8e186"
            ],
            [
             0.8,
             "#7fbc41"
            ],
            [
             0.9,
             "#4d9221"
            ],
            [
             1,
             "#276419"
            ]
           ],
           "sequential": [
            [
             0,
             "#0d0887"
            ],
            [
             0.1111111111111111,
             "#46039f"
            ],
            [
             0.2222222222222222,
             "#7201a8"
            ],
            [
             0.3333333333333333,
             "#9c179e"
            ],
            [
             0.4444444444444444,
             "#bd3786"
            ],
            [
             0.5555555555555556,
             "#d8576b"
            ],
            [
             0.6666666666666666,
             "#ed7953"
            ],
            [
             0.7777777777777778,
             "#fb9f3a"
            ],
            [
             0.8888888888888888,
             "#fdca26"
            ],
            [
             1,
             "#f0f921"
            ]
           ],
           "sequentialminus": [
            [
             0,
             "#0d0887"
            ],
            [
             0.1111111111111111,
             "#46039f"
            ],
            [
             0.2222222222222222,
             "#7201a8"
            ],
            [
             0.3333333333333333,
             "#9c179e"
            ],
            [
             0.4444444444444444,
             "#bd3786"
            ],
            [
             0.5555555555555556,
             "#d8576b"
            ],
            [
             0.6666666666666666,
             "#ed7953"
            ],
            [
             0.7777777777777778,
             "#fb9f3a"
            ],
            [
             0.8888888888888888,
             "#fdca26"
            ],
            [
             1,
             "#f0f921"
            ]
           ]
          },
          "colorway": [
           "#636efa",
           "#EF553B",
           "#00cc96",
           "#ab63fa",
           "#FFA15A",
           "#19d3f3",
           "#FF6692",
           "#B6E880",
           "#FF97FF",
           "#FECB52"
          ],
          "font": {
           "color": "#2a3f5f"
          },
          "geo": {
           "bgcolor": "white",
           "lakecolor": "white",
           "landcolor": "#E5ECF6",
           "showlakes": true,
           "showland": true,
           "subunitcolor": "white"
          },
          "hoverlabel": {
           "align": "left"
          },
          "hovermode": "closest",
          "mapbox": {
           "style": "light"
          },
          "paper_bgcolor": "white",
          "plot_bgcolor": "#E5ECF6",
          "polar": {
           "angularaxis": {
            "gridcolor": "white",
            "linecolor": "white",
            "ticks": ""
           },
           "bgcolor": "#E5ECF6",
           "radialaxis": {
            "gridcolor": "white",
            "linecolor": "white",
            "ticks": ""
           }
          },
          "scene": {
           "xaxis": {
            "backgroundcolor": "#E5ECF6",
            "gridcolor": "white",
            "gridwidth": 2,
            "linecolor": "white",
            "showbackground": true,
            "ticks": "",
            "zerolinecolor": "white"
           },
           "yaxis": {
            "backgroundcolor": "#E5ECF6",
            "gridcolor": "white",
            "gridwidth": 2,
            "linecolor": "white",
            "showbackground": true,
            "ticks": "",
            "zerolinecolor": "white"
           },
           "zaxis": {
            "backgroundcolor": "#E5ECF6",
            "gridcolor": "white",
            "gridwidth": 2,
            "linecolor": "white",
            "showbackground": true,
            "ticks": "",
            "zerolinecolor": "white"
           }
          },
          "shapedefaults": {
           "line": {
            "color": "#2a3f5f"
           }
          },
          "ternary": {
           "aaxis": {
            "gridcolor": "white",
            "linecolor": "white",
            "ticks": ""
           },
           "baxis": {
            "gridcolor": "white",
            "linecolor": "white",
            "ticks": ""
           },
           "bgcolor": "#E5ECF6",
           "caxis": {
            "gridcolor": "white",
            "linecolor": "white",
            "ticks": ""
           }
          },
          "title": {
           "x": 0.05
          },
          "xaxis": {
           "automargin": true,
           "gridcolor": "white",
           "linecolor": "white",
           "ticks": "",
           "title": {
            "standoff": 15
           },
           "zerolinecolor": "white",
           "zerolinewidth": 2
          },
          "yaxis": {
           "automargin": true,
           "gridcolor": "white",
           "linecolor": "white",
           "ticks": "",
           "title": {
            "standoff": 15
           },
           "zerolinecolor": "white",
           "zerolinewidth": 2
          }
         }
        },
        "title": {
         "text": "Error (Recall) vs Model Complexity"
        },
        "xaxis": {
         "anchor": "y",
         "autorange": true,
         "domain": [
          0,
          1
         ],
         "range": [
          1,
          19
         ],
         "title": {
          "text": "max_depth"
         },
         "type": "linear"
        },
        "yaxis": {
         "anchor": "x",
         "autorange": true,
         "domain": [
          0,
          1
         ],
         "range": [
          -0.025902777777777806,
          0.5171527777777778
         ],
         "title": {
          "text": "value"
         },
         "type": "linear"
        }
       }
      },
      "image/png": "[encoded data removed]"
     },
     "metadata": {},
     "output_type": "display_data"
    },
    {
     "data": {
      "application/vnd.plotly.v1+json": {
       "config": {
        "plotlyServerURL": "https://plot.ly"
       },
       "data": [
        {
         "hovertemplate": "variable=trainError_f1<br>max_depth=%{x}<br>value=%{y}<extra></extra>",
         "legendgroup": "trainError_f1",
         "line": {
          "color": "#636efa",
          "dash": "solid"
         },
         "marker": {
          "symbol": "circle"
         },
         "mode": "lines",
         "name": "trainError_f1",
         "orientation": "v",
         "showlegend": true,
         "type": "scatter",
         "x": [
          1,
          2,
          3,
          4,
          5,
          6,
          7,
          8,
          9,
          10,
          11,
          12,
          13,
          14,
          15,
          16,
          17,
          18,
          19
         ],
         "xaxis": "x",
         "y": [
          1,
          1,
          1,
          1,
          1,
          1,
          1,
          1,
          1,
          1,
          1,
          1,
          1,
          1,
          1,
          1,
          1,
          1,
          1
         ],
         "yaxis": "y"
        },
        {
         "hovertemplate": "variable=testError_f1<br>max_depth=%{x}<br>value=%{y}<extra></extra>",
         "legendgroup": "testError_f1",
         "line": {
          "color": "#EF553B",
          "dash": "solid"
         },
         "marker": {
          "symbol": "circle"
         },
         "mode": "lines",
         "name": "testError_f1",
         "orientation": "v",
         "showlegend": true,
         "type": "scatter",
         "x": [
          1,
          2,
          3,
          4,
          5,
          6,
          7,
          8,
          9,
          10,
          11,
          12,
          13,
          14,
          15,
          16,
          17,
          18,
          19
         ],
         "xaxis": "x",
         "y": [
          1,
          1,
          1,
          1,
          1,
          1,
          1,
          1,
          1,
          1,
          1,
          1,
          1,
          1,
          1,
          1,
          1,
          1,
          1
         ],
         "yaxis": "y"
        }
       ],
       "layout": {
        "autosize": true,
        "legend": {
         "title": {
          "text": "variable"
         },
         "tracegroupgap": 0
        },
        "template": {
         "data": {
          "bar": [
           {
            "error_x": {
             "color": "#2a3f5f"
            },
            "error_y": {
             "color": "#2a3f5f"
            },
            "marker": {
             "line": {
              "color": "#E5ECF6",
              "width": 0.5
             },
             "pattern": {
              "fillmode": "overlay",
              "size": 10,
              "solidity": 0.2
             }
            },
            "type": "bar"
           }
          ],
          "barpolar": [
           {
            "marker": {
             "line": {
              "color": "#E5ECF6",
              "width": 0.5
             },
             "pattern": {
              "fillmode": "overlay",
              "size": 10,
              "solidity": 0.2
             }
            },
            "type": "barpolar"
           }
          ],
          "carpet": [
           {
            "aaxis": {
             "endlinecolor": "#2a3f5f",
             "gridcolor": "white",
             "linecolor": "white",
             "minorgridcolor": "white",
             "startlinecolor": "#2a3f5f"
            },
            "baxis": {
             "endlinecolor": "#2a3f5f",
             "gridcolor": "white",
             "linecolor": "white",
             "minorgridcolor": "white",
             "startlinecolor": "#2a3f5f"
            },
            "type": "carpet"
           }
          ],
          "choropleth": [
           {
            "colorbar": {
             "outlinewidth": 0,
             "ticks": ""
            },
            "type": "choropleth"
           }
          ],
          "contour": [
           {
            "colorbar": {
             "outlinewidth": 0,
             "ticks": ""
            },
            "colorscale": [
             [
              0,
              "#0d0887"
             ],
             [
              0.1111111111111111,
              "#46039f"
             ],
             [
              0.2222222222222222,
              "#7201a8"
             ],
             [
              0.3333333333333333,
              "#9c179e"
             ],
             [
              0.4444444444444444,
              "#bd3786"
             ],
             [
              0.5555555555555556,
              "#d8576b"
             ],
             [
              0.6666666666666666,
              "#ed7953"
             ],
             [
              0.7777777777777778,
              "#fb9f3a"
             ],
             [
              0.8888888888888888,
              "#fdca26"
             ],
             [
              1,
              "#f0f921"
             ]
            ],
            "type": "contour"
           }
          ],
          "contourcarpet": [
           {
            "colorbar": {
             "outlinewidth": 0,
             "ticks": ""
            },
            "type": "contourcarpet"
           }
          ],
          "heatmap": [
           {
            "colorbar": {
             "outlinewidth": 0,
             "ticks": ""
            },
            "colorscale": [
             [
              0,
              "#0d0887"
             ],
             [
              0.1111111111111111,
              "#46039f"
             ],
             [
              0.2222222222222222,
              "#7201a8"
             ],
             [
              0.3333333333333333,
              "#9c179e"
             ],
             [
              0.4444444444444444,
              "#bd3786"
             ],
             [
              0.5555555555555556,
              "#d8576b"
             ],
             [
              0.6666666666666666,
              "#ed7953"
             ],
             [
              0.7777777777777778,
              "#fb9f3a"
             ],
             [
              0.8888888888888888,
              "#fdca26"
             ],
             [
              1,
              "#f0f921"
             ]
            ],
            "type": "heatmap"
           }
          ],
          "heatmapgl": [
           {
            "colorbar": {
             "outlinewidth": 0,
             "ticks": ""
            },
            "colorscale": [
             [
              0,
              "#0d0887"
             ],
             [
              0.1111111111111111,
              "#46039f"
             ],
             [
              0.2222222222222222,
              "#7201a8"
             ],
             [
              0.3333333333333333,
              "#9c179e"
             ],
             [
              0.4444444444444444,
              "#bd3786"
             ],
             [
              0.5555555555555556,
              "#d8576b"
             ],
             [
              0.6666666666666666,
              "#ed7953"
             ],
             [
              0.7777777777777778,
              "#fb9f3a"
             ],
             [
              0.8888888888888888,
              "#fdca26"
             ],
             [
              1,
              "#f0f921"
             ]
            ],
            "type": "heatmapgl"
           }
          ],
          "histogram": [
           {
            "marker": {
             "pattern": {
              "fillmode": "overlay",
              "size": 10,
              "solidity": 0.2
             }
            },
            "type": "histogram"
           }
          ],
          "histogram2d": [
           {
            "colorbar": {
             "outlinewidth": 0,
             "ticks": ""
            },
            "colorscale": [
             [
              0,
              "#0d0887"
             ],
             [
              0.1111111111111111,
              "#46039f"
             ],
             [
              0.2222222222222222,
              "#7201a8"
             ],
             [
              0.3333333333333333,
              "#9c179e"
             ],
             [
              0.4444444444444444,
              "#bd3786"
             ],
             [
              0.5555555555555556,
              "#d8576b"
             ],
             [
              0.6666666666666666,
              "#ed7953"
             ],
             [
              0.7777777777777778,
              "#fb9f3a"
             ],
             [
              0.8888888888888888,
              "#fdca26"
             ],
             [
              1,
              "#f0f921"
             ]
            ],
            "type": "histogram2d"
           }
          ],
          "histogram2dcontour": [
           {
            "colorbar": {
             "outlinewidth": 0,
             "ticks": ""
            },
            "colorscale": [
             [
              0,
              "#0d0887"
             ],
             [
              0.1111111111111111,
              "#46039f"
             ],
             [
              0.2222222222222222,
              "#7201a8"
             ],
             [
              0.3333333333333333,
              "#9c179e"
             ],
             [
              0.4444444444444444,
              "#bd3786"
             ],
             [
              0.5555555555555556,
              "#d8576b"
             ],
             [
              0.6666666666666666,
              "#ed7953"
             ],
             [
              0.7777777777777778,
              "#fb9f3a"
             ],
             [
              0.8888888888888888,
              "#fdca26"
             ],
             [
              1,
              "#f0f921"
             ]
            ],
            "type": "histogram2dcontour"
           }
          ],
          "mesh3d": [
           {
            "colorbar": {
             "outlinewidth": 0,
             "ticks": ""
            },
            "type": "mesh3d"
           }
          ],
          "parcoords": [
           {
            "line": {
             "colorbar": {
              "outlinewidth": 0,
              "ticks": ""
             }
            },
            "type": "parcoords"
           }
          ],
          "pie": [
           {
            "automargin": true,
            "type": "pie"
           }
          ],
          "scatter": [
           {
            "fillpattern": {
             "fillmode": "overlay",
             "size": 10,
             "solidity": 0.2
            },
            "type": "scatter"
           }
          ],
          "scatter3d": [
           {
            "line": {
             "colorbar": {
              "outlinewidth": 0,
              "ticks": ""
             }
            },
            "marker": {
             "colorbar": {
              "outlinewidth": 0,
              "ticks": ""
             }
            },
            "type": "scatter3d"
           }
          ],
          "scattercarpet": [
           {
            "marker": {
             "colorbar": {
              "outlinewidth": 0,
              "ticks": ""
             }
            },
            "type": "scattercarpet"
           }
          ],
          "scattergeo": [
           {
            "marker": {
             "colorbar": {
              "outlinewidth": 0,
              "ticks": ""
             }
            },
            "type": "scattergeo"
           }
          ],
          "scattergl": [
           {
            "marker": {
             "colorbar": {
              "outlinewidth": 0,
              "ticks": ""
             }
            },
            "type": "scattergl"
           }
          ],
          "scattermapbox": [
           {
            "marker": {
             "colorbar": {
              "outlinewidth": 0,
              "ticks": ""
             }
            },
            "type": "scattermapbox"
           }
          ],
          "scatterpolar": [
           {
            "marker": {
             "colorbar": {
              "outlinewidth": 0,
              "ticks": ""
             }
            },
            "type": "scatterpolar"
           }
          ],
          "scatterpolargl": [
           {
            "marker": {
             "colorbar": {
              "outlinewidth": 0,
              "ticks": ""
             }
            },
            "type": "scatterpolargl"
           }
          ],
          "scatterternary": [
           {
            "marker": {
             "colorbar": {
              "outlinewidth": 0,
              "ticks": ""
             }
            },
            "type": "scatterternary"
           }
          ],
          "surface": [
           {
            "colorbar": {
             "outlinewidth": 0,
             "ticks": ""
            },
            "colorscale": [
             [
              0,
              "#0d0887"
             ],
             [
              0.1111111111111111,
              "#46039f"
             ],
             [
              0.2222222222222222,
              "#7201a8"
             ],
             [
              0.3333333333333333,
              "#9c179e"
             ],
             [
              0.4444444444444444,
              "#bd3786"
             ],
             [
              0.5555555555555556,
              "#d8576b"
             ],
             [
              0.6666666666666666,
              "#ed7953"
             ],
             [
              0.7777777777777778,
              "#fb9f3a"
             ],
             [
              0.8888888888888888,
              "#fdca26"
             ],
             [
              1,
              "#f0f921"
             ]
            ],
            "type": "surface"
           }
          ],
          "table": [
           {
            "cells": {
             "fill": {
              "color": "#EBF0F8"
             },
             "line": {
              "color": "white"
             }
            },
            "header": {
             "fill": {
              "color": "#C8D4E3"
             },
             "line": {
              "color": "white"
             }
            },
            "type": "table"
           }
          ]
         },
         "layout": {
          "annotationdefaults": {
           "arrowcolor": "#2a3f5f",
           "arrowhead": 0,
           "arrowwidth": 1
          },
          "autotypenumbers": "strict",
          "coloraxis": {
           "colorbar": {
            "outlinewidth": 0,
            "ticks": ""
           }
          },
          "colorscale": {
           "diverging": [
            [
             0,
             "#8e0152"
            ],
            [
             0.1,
             "#c51b7d"
            ],
            [
             0.2,
             "#de77ae"
            ],
            [
             0.3,
             "#f1b6da"
            ],
            [
             0.4,
             "#fde0ef"
            ],
            [
             0.5,
             "#f7f7f7"
            ],
            [
             0.6,
             "#e6f5d0"
            ],
            [
             0.7,
             "#b8e186"
            ],
            [
             0.8,
             "#7fbc41"
            ],
            [
             0.9,
             "#4d9221"
            ],
            [
             1,
             "#276419"
            ]
           ],
           "sequential": [
            [
             0,
             "#0d0887"
            ],
            [
             0.1111111111111111,
             "#46039f"
            ],
            [
             0.2222222222222222,
             "#7201a8"
            ],
            [
             0.3333333333333333,
             "#9c179e"
            ],
            [
             0.4444444444444444,
             "#bd3786"
            ],
            [
             0.5555555555555556,
             "#d8576b"
            ],
            [
             0.6666666666666666,
             "#ed7953"
            ],
            [
             0.7777777777777778,
             "#fb9f3a"
            ],
            [
             0.8888888888888888,
             "#fdca26"
            ],
            [
             1,
             "#f0f921"
            ]
           ],
           "sequentialminus": [
            [
             0,
             "#0d0887"
            ],
            [
             0.1111111111111111,
             "#46039f"
            ],
            [
             0.2222222222222222,
             "#7201a8"
            ],
            [
             0.3333333333333333,
             "#9c179e"
            ],
            [
             0.4444444444444444,
             "#bd3786"
            ],
            [
             0.5555555555555556,
             "#d8576b"
            ],
            [
             0.6666666666666666,
             "#ed7953"
            ],
            [
             0.7777777777777778,
             "#fb9f3a"
            ],
            [
             0.8888888888888888,
             "#fdca26"
            ],
            [
             1,
             "#f0f921"
            ]
           ]
          },
          "colorway": [
           "#636efa",
           "#EF553B",
           "#00cc96",
           "#ab63fa",
           "#FFA15A",
           "#19d3f3",
           "#FF6692",
           "#B6E880",
           "#FF97FF",
           "#FECB52"
          ],
          "font": {
           "color": "#2a3f5f"
          },
          "geo": {
           "bgcolor": "white",
           "lakecolor": "white",
           "landcolor": "#E5ECF6",
           "showlakes": true,
           "showland": true,
           "subunitcolor": "white"
          },
          "hoverlabel": {
           "align": "left"
          },
          "hovermode": "closest",
          "mapbox": {
           "style": "light"
          },
          "paper_bgcolor": "white",
          "plot_bgcolor": "#E5ECF6",
          "polar": {
           "angularaxis": {
            "gridcolor": "white",
            "linecolor": "white",
            "ticks": ""
           },
           "bgcolor": "#E5ECF6",
           "radialaxis": {
            "gridcolor": "white",
            "linecolor": "white",
            "ticks": ""
           }
          },
          "scene": {
           "xaxis": {
            "backgroundcolor": "#E5ECF6",
            "gridcolor": "white",
            "gridwidth": 2,
            "linecolor": "white",
            "showbackground": true,
            "ticks": "",
            "zerolinecolor": "white"
           },
           "yaxis": {
            "backgroundcolor": "#E5ECF6",
            "gridcolor": "white",
            "gridwidth": 2,
            "linecolor": "white",
            "showbackground": true,
            "ticks": "",
            "zerolinecolor": "white"
           },
           "zaxis": {
            "backgroundcolor": "#E5ECF6",
            "gridcolor": "white",
            "gridwidth": 2,
            "linecolor": "white",
            "showbackground": true,
            "ticks": "",
            "zerolinecolor": "white"
           }
          },
          "shapedefaults": {
           "line": {
            "color": "#2a3f5f"
           }
          },
          "ternary": {
           "aaxis": {
            "gridcolor": "white",
            "linecolor": "white",
            "ticks": ""
           },
           "baxis": {
            "gridcolor": "white",
            "linecolor": "white",
            "ticks": ""
           },
           "bgcolor": "#E5ECF6",
           "caxis": {
            "gridcolor": "white",
            "linecolor": "white",
            "ticks": ""
           }
          },
          "title": {
           "x": 0.05
          },
          "xaxis": {
           "automargin": true,
           "gridcolor": "white",
           "linecolor": "white",
           "ticks": "",
           "title": {
            "standoff": 15
           },
           "zerolinecolor": "white",
           "zerolinewidth": 2
          },
          "yaxis": {
           "automargin": true,
           "gridcolor": "white",
           "linecolor": "white",
           "ticks": "",
           "title": {
            "standoff": 15
           },
           "zerolinecolor": "white",
           "zerolinewidth": 2
          }
         }
        },
        "title": {
         "text": "Error (F1-Score) vs Model Complexity"
        },
        "xaxis": {
         "anchor": "y",
         "autorange": true,
         "domain": [
          0,
          1
         ],
         "range": [
          1,
          19
         ],
         "title": {
          "text": "max_depth"
         },
         "type": "linear"
        },
        "yaxis": {
         "anchor": "x",
         "autorange": true,
         "domain": [
          0,
          1
         ],
         "range": [
          0,
          2
         ],
         "title": {
          "text": "value"
         },
         "type": "linear"
        }
       }
      },
      "image/png": "[encoded data removed]"
     },
     "metadata": {},
     "output_type": "display_data"
    }
   ],
   "source": [
    "fig = px.line(dfError,x='max_depth', y=['trainError_pre','testError_pre'],\n",
    "              labels={\n",
    "                     'y': \"Precision Error\"\n",
    "                   },\n",
    "                      title='Error (Precision) vs Model Complexity')\n",
    "fig.show()\n",
    "\n",
    "fig = px.line(dfError,x='max_depth', y=['trainError_rec','testError_rec'],\n",
    "              labels={\n",
    "                     'y': \"Recall Error\"\n",
    "                   },\n",
    "                      title='Error (Recall) vs Model Complexity')\n",
    "fig.show()\n",
    "\n",
    "fig = px.line(dfError,x='max_depth', y=['trainError_f1','testError_f1'],\n",
    "              labels={\n",
    "                     'y': \"F1 Error\"\n",
    "                   },\n",
    "                      title='Error (F1-Score) vs Model Complexity')\n",
    "fig.show()"
   ]
  },
  {
   "cell_type": "markdown",
   "id": "57a14f79-ac22-439e-b3b0-25924a169933",
   "metadata": {},
   "source": [
    "## Importing Model from OSC Job"
   ]
  },
  {
   "cell_type": "code",
   "execution_count": 11,
   "id": "9000693f-ca8f-4eae-883b-10dc83aafe5c",
   "metadata": {},
   "outputs": [],
   "source": [
    "estimator = pickle.load(open('runForestRun2.sav', 'rb'))"
   ]
  },
  {
   "cell_type": "code",
   "execution_count": 12,
   "id": "40e6eb10-f6f2-4ee7-89be-91592fff030a",
   "metadata": {},
   "outputs": [],
   "source": [
    "y_train_pred = estimator.predict(X_train)\n",
    "#\n",
    "# Now predict the classes for our test set\n",
    "y_test_pred = estimator.predict(X_test)\n",
    "#\n",
    "# Get resulst for train\n",
    "results_train = calc_performance_multi(y_train,y_train_pred,labels)\n",
    "#\n",
    "# Get resulst for test\n",
    "results_test = calc_performance_multi(y_test,y_test_pred,labels)"
   ]
  },
  {
   "cell_type": "code",
   "execution_count": 14,
   "id": "59544248-00fc-419b-afab-9fdedcad58ba",
   "metadata": {},
   "outputs": [
    {
     "name": "stdout",
     "output_type": "stream",
     "text": [
      "╒════════╤══════════╤══════════╤══════════╤══════════╤══════════╕\n",
      "│        │   Pred:1 │   Pred:2 │   Pred:3 │   Pred:4 │   Pred:5 │\n",
      "╞════════╪══════════╪══════════╪══════════╪══════════╪══════════╡\n",
      "│ True:1 │    51444 │     2291 │     9361 │      457 │        0 │\n",
      "├────────┼──────────┼──────────┼──────────┼──────────┼──────────┤\n",
      "│ True:2 │        0 │   138255 │     9419 │    18910 │        0 │\n",
      "├────────┼──────────┼──────────┼──────────┼──────────┼──────────┤\n",
      "│ True:3 │        0 │      945 │   236418 │     9969 │        0 │\n",
      "├────────┼──────────┼──────────┼──────────┼──────────┼──────────┤\n",
      "│ True:4 │        0 │        0 │     7868 │   246835 │       67 │\n",
      "├────────┼──────────┼──────────┼──────────┼──────────┼──────────┤\n",
      "│ True:5 │        0 │        1 │       14 │    16090 │    72137 │\n",
      "╘════════╧══════════╧══════════╧══════════╧══════════╧══════════╛\n",
      "╒════════╤══════════╤══════════╤══════════╤══════════╤══════════╕\n",
      "│        │   Pred:1 │   Pred:2 │   Pred:3 │   Pred:4 │   Pred:5 │\n",
      "╞════════╪══════════╪══════════╪══════════╪══════════╪══════════╡\n",
      "│ True:1 │    13113 │      568 │     2358 │      120 │        0 │\n",
      "├────────┼──────────┼──────────┼──────────┼──────────┼──────────┤\n",
      "│ True:2 │        0 │    34723 │     2314 │     4627 │        0 │\n",
      "├────────┼──────────┼──────────┼──────────┼──────────┼──────────┤\n",
      "│ True:3 │        0 │      249 │    59136 │     2593 │        0 │\n",
      "├────────┼──────────┼──────────┼──────────┼──────────┼──────────┤\n",
      "│ True:4 │        0 │        0 │     1925 │    61661 │       10 │\n",
      "├────────┼──────────┼──────────┼──────────┼──────────┼──────────┤\n",
      "│ True:5 │        0 │        0 │        3 │     3951 │    17770 │\n",
      "╘════════╧══════════╧══════════╧══════════╧══════════╧══════════╛\n"
     ]
    }
   ],
   "source": [
    "print(results_train['confusion_matrix_print_table'])\n",
    "print(results_test['confusion_matrix_print_table'])"
   ]
  },
  {
   "cell_type": "code",
   "execution_count": 18,
   "id": "db124b71-0157-4838-a277-32a064f95164",
   "metadata": {},
   "outputs": [
    {
     "name": "stdout",
     "output_type": "stream",
     "text": [
      "{'precision': 0.9164420297398223, 'recall': 0.9081124364854275, 'f1-score': 0.9077187083952841, 'support': 820481.0}\n",
      "{'precision': 0.9169483747981728, 'recall': 0.9087465447223834, 'f1-score': 0.9083954080869067, 'support': 205121.0}\n"
     ]
    }
   ],
   "source": [
    "print(results_train['report_dict']['weighted avg'])\n",
    "print(results_test['report_dict']['weighted avg'])"
   ]
  },
  {
   "cell_type": "code",
   "execution_count": 19,
   "id": "2c008db7-6a94-44a8-8038-43a2c12f8f11",
   "metadata": {},
   "outputs": [
    {
     "name": "stdout",
     "output_type": "stream",
     "text": [
      "   memory: 20.324 Gbytes\n"
     ]
    }
   ],
   "source": [
    "printmem()"
   ]
  },
  {
   "cell_type": "markdown",
   "id": "9e0325e6-d1ce-4c93-8a40-b56f40689510",
   "metadata": {},
   "source": [
    "### Feature Importance"
   ]
  },
  {
   "cell_type": "code",
   "execution_count": 21,
   "id": "d3d845a8-07ff-4dd9-968f-6ff56953bd16",
   "metadata": {
    "scrolled": true
   },
   "outputs": [
    {
     "name": "stdout",
     "output_type": "stream",
     "text": [
      "Raw printout of feature importances.  NOTE the order is the SAME as the order of our features!!\n",
      "[5.37918147e-05 2.06415851e-07 1.47251030e-03 2.89135484e-04\n",
      " 0.00000000e+00 0.00000000e+00 8.13508259e-05 8.48334712e-04\n",
      " 2.59270746e-03 2.49888485e-03 4.70861044e-03 1.83343851e-03\n",
      " 4.19638983e-06 1.49805296e-03 1.18634175e-05 9.60197665e-05\n",
      " 9.25665810e-04 3.73457522e-03 3.14551013e-04 4.56826659e-03\n",
      " 0.00000000e+00 0.00000000e+00 3.45494599e-05 1.18083957e-04\n",
      " 2.41595401e-05 4.70905655e-03 5.54785585e-04 6.47706591e-04\n",
      " 1.34286348e-03 3.73609098e-03 6.12650693e-04 7.22814494e-04\n",
      " 4.27001513e-04 1.74117190e-03 3.07788862e-02 1.83822877e-04\n",
      " 0.00000000e+00 8.86770920e-05 9.66457612e-03 4.76062262e-03\n",
      " 1.81004861e-03 5.49052950e-03 2.65342064e-05 2.31775386e-03\n",
      " 0.00000000e+00 3.38977244e-04 7.62494535e-05 0.00000000e+00\n",
      " 0.00000000e+00 1.24075358e-03 2.19889417e-04 0.00000000e+00\n",
      " 0.00000000e+00 0.00000000e+00 0.00000000e+00 0.00000000e+00\n",
      " 0.00000000e+00 0.00000000e+00 0.00000000e+00 0.00000000e+00\n",
      " 0.00000000e+00 0.00000000e+00 4.62653810e-07 0.00000000e+00\n",
      " 0.00000000e+00 2.18036961e-03 0.00000000e+00 0.00000000e+00\n",
      " 8.50281436e-03 1.08573326e-03 6.14567129e-03 3.40257814e-03\n",
      " 2.04283589e-03 0.00000000e+00 1.57314255e-05 9.16689069e-06\n",
      " 0.00000000e+00 0.00000000e+00 0.00000000e+00 1.27399267e-07\n",
      " 6.54125525e-06 1.69617274e-04 0.00000000e+00 0.00000000e+00\n",
      " 0.00000000e+00 0.00000000e+00 0.00000000e+00 0.00000000e+00\n",
      " 0.00000000e+00 0.00000000e+00 0.00000000e+00 8.82424309e-04\n",
      " 3.95076840e-05 0.00000000e+00 0.00000000e+00 3.25666655e-04\n",
      " 8.99965111e-04 1.19387094e-03 7.19251764e-03 5.28015367e-04\n",
      " 2.30046033e-03 0.00000000e+00 1.08921852e-03 0.00000000e+00\n",
      " 0.00000000e+00 3.55497292e-06 3.07055726e-03 2.04610916e-02\n",
      " 0.00000000e+00 1.16452342e-02 1.62729350e-03 9.40586437e-04\n",
      " 5.49536494e-04 4.22588778e-03 0.00000000e+00 1.47328570e-02\n",
      " 2.12769413e-06 5.67811571e-03 0.00000000e+00 1.49457096e-03\n",
      " 7.79972629e-03 5.18728535e-04 0.00000000e+00 0.00000000e+00\n",
      " 0.00000000e+00 0.00000000e+00 0.00000000e+00 1.21630327e-03\n",
      " 9.18234202e-04 3.76489883e-05 0.00000000e+00 3.47504858e-04\n",
      " 2.06955122e-03 0.00000000e+00 0.00000000e+00 2.05075414e-03\n",
      " 0.00000000e+00 3.15228417e-03 0.00000000e+00 1.54699295e-03\n",
      " 0.00000000e+00 1.02876396e-03 3.73936491e-03 6.46262051e-04\n",
      " 6.04759821e-03 0.00000000e+00 2.30560025e-03 2.85297413e-03\n",
      " 0.00000000e+00 5.48810839e-03 1.74535095e-02 0.00000000e+00\n",
      " 0.00000000e+00 0.00000000e+00 4.18471935e-04 0.00000000e+00\n",
      " 9.20906154e-04 9.79939061e-03 0.00000000e+00 1.49930062e-03\n",
      " 0.00000000e+00 0.00000000e+00 1.19375400e-03 0.00000000e+00\n",
      " 4.97837515e-05 0.00000000e+00 8.39429203e-04 1.22720831e-04\n",
      " 5.61062181e-03 1.92206841e-04 1.37783884e-03 1.35104339e-02\n",
      " 2.90122804e-04 6.46089415e-06 1.20193992e-03 3.13626417e-03\n",
      " 0.00000000e+00 3.85481458e-03 0.00000000e+00 2.14871206e-04\n",
      " 0.00000000e+00 3.64532899e-03 2.15614037e-03 3.03945934e-04\n",
      " 1.57400908e-03 1.01597690e-02 0.00000000e+00 2.20315575e-03\n",
      " 4.62289234e-04 0.00000000e+00 0.00000000e+00 1.88511648e-04\n",
      " 0.00000000e+00 0.00000000e+00 2.67217683e-02 3.50964748e-05\n",
      " 1.10569755e-04 0.00000000e+00 2.28024011e-05 1.10082225e-03\n",
      " 0.00000000e+00 0.00000000e+00 9.60773587e-07 0.00000000e+00\n",
      " 0.00000000e+00 0.00000000e+00 0.00000000e+00 0.00000000e+00\n",
      " 8.81553155e-04 1.73771521e-03 3.52139694e-08 1.75838001e-03\n",
      " 1.95320912e-03 0.00000000e+00 0.00000000e+00 0.00000000e+00\n",
      " 1.17974643e-05 0.00000000e+00 5.48740270e-03 0.00000000e+00\n",
      " 0.00000000e+00 1.98558528e-03 6.19341832e-03 2.02403695e-04\n",
      " 1.31338716e-03 5.62944019e-04 0.00000000e+00 1.37587512e-02\n",
      " 0.00000000e+00 8.07103342e-05 4.22669620e-03 1.77168661e-03\n",
      " 1.44381815e-03 8.23972318e-06 5.25351137e-03 1.56768116e-03\n",
      " 3.79363379e-03 7.34844844e-04 0.00000000e+00 1.54282412e-03\n",
      " 3.72154324e-03 0.00000000e+00 3.99743903e-03 0.00000000e+00\n",
      " 1.18376758e-03 1.03067765e-03 6.14586108e-04 0.00000000e+00\n",
      " 7.05278293e-04 7.18589858e-05 1.56188527e-04 0.00000000e+00\n",
      " 1.16216814e-02 4.39765453e-03 1.16509775e-03 3.25326194e-04\n",
      " 2.35764746e-03 1.06108061e-04 0.00000000e+00 1.42497196e-02\n",
      " 7.91003203e-03 1.98639510e-03 2.02870062e-02 1.92986794e-05\n",
      " 3.40136204e-04 1.06283599e-02 1.08093178e-04 1.28904890e-03\n",
      " 4.63238082e-03 7.79744023e-03 1.01229170e-02 2.49981902e-03\n",
      " 2.57912153e-02 2.82955421e-04 3.27799515e-03 0.00000000e+00\n",
      " 0.00000000e+00 6.29355071e-03 3.69828690e-03 5.34251328e-03\n",
      " 3.55835356e-03 0.00000000e+00 2.96297108e-07 5.11647419e-04\n",
      " 2.56616531e-05 1.24932547e-03 0.00000000e+00 0.00000000e+00\n",
      " 7.92988780e-03 1.22226358e-02 3.16387256e-05 2.73361505e-05\n",
      " 1.06303703e-04 2.24928802e-04 4.02614760e-03 8.45430000e-04\n",
      " 1.25659435e-03 2.19400640e-03 6.22445876e-04 0.00000000e+00\n",
      " 8.70005354e-04 0.00000000e+00 0.00000000e+00 0.00000000e+00\n",
      " 0.00000000e+00 0.00000000e+00 0.00000000e+00 9.72906998e-03\n",
      " 0.00000000e+00 0.00000000e+00 1.40290717e-02 0.00000000e+00\n",
      " 0.00000000e+00 0.00000000e+00 0.00000000e+00 2.40968861e-04\n",
      " 5.55711045e-04 1.73293626e-07 3.56550449e-03 0.00000000e+00\n",
      " 5.20114494e-04 1.20070409e-03 0.00000000e+00 0.00000000e+00\n",
      " 2.92828896e-06 7.35502469e-05 0.00000000e+00 0.00000000e+00\n",
      " 2.18497496e-04 5.10078377e-07 2.91264708e-08 0.00000000e+00\n",
      " 4.14100421e-09 2.20332667e-03 5.38066581e-04 3.53507466e-03\n",
      " 7.14884708e-03 4.76731884e-03 0.00000000e+00 0.00000000e+00\n",
      " 5.06470920e-05 1.88191849e-04 5.02198081e-04 9.65472626e-10\n",
      " 0.00000000e+00 6.62321466e-08 1.85542102e-02 1.80132343e-03\n",
      " 3.65408767e-05 0.00000000e+00 2.18326830e-06 0.00000000e+00\n",
      " 0.00000000e+00 0.00000000e+00 0.00000000e+00 0.00000000e+00\n",
      " 0.00000000e+00 0.00000000e+00 0.00000000e+00 1.29929492e-04\n",
      " 3.18615833e-04 3.83859173e-03 4.07470308e-03 2.04202258e-03\n",
      " 9.48424896e-04 9.00875246e-04 0.00000000e+00 1.11699441e-08\n",
      " 6.48059859e-04 9.74910486e-04 2.60147197e-04 1.00391378e-03\n",
      " 0.00000000e+00 0.00000000e+00 1.50071160e-03 3.57325700e-04\n",
      " 2.97296469e-07 5.11427971e-05 5.18106217e-04 0.00000000e+00\n",
      " 1.00918416e-03 3.59548253e-05 2.31515599e-03 9.79959135e-05\n",
      " 2.25490602e-05 1.92575023e-06 1.63583288e-03 2.25183060e-04\n",
      " 3.74810494e-04 1.24328564e-03 2.00989130e-02 7.66156315e-03\n",
      " 6.19294675e-03 0.00000000e+00 0.00000000e+00 7.72738623e-04\n",
      " 3.82446064e-05 1.91668704e-04 4.11668813e-05 0.00000000e+00\n",
      " 2.34196239e-05 2.35261708e-04 1.95559446e-04 4.10849802e-03\n",
      " 3.68145358e-03 9.58673794e-04 6.23668066e-04 1.04930837e-02\n",
      " 7.25864875e-03 5.31058106e-03 1.24552247e-03 1.06487862e-03\n",
      " 2.36078854e-03 3.92440486e-04 0.00000000e+00 2.26877815e-04\n",
      " 3.24491549e-04 2.93600305e-02 5.17095146e-04 0.00000000e+00\n",
      " 1.28191649e-03 3.19681919e-03 9.76263963e-04 1.97328562e-03\n",
      " 9.92465428e-03 5.23152983e-04 1.81669836e-03 3.89343110e-04\n",
      " 0.00000000e+00 0.00000000e+00 0.00000000e+00 3.21714324e-04\n",
      " 4.27349215e-03 1.19690957e-02 1.39877261e-03 0.00000000e+00\n",
      " 5.54432046e-03 9.13300602e-03 7.17074042e-04 0.00000000e+00\n",
      " 0.00000000e+00 9.59762856e-04 2.91079180e-04 1.59551707e-03\n",
      " 1.12300571e-03 7.58717615e-04 0.00000000e+00 2.45259518e-03\n",
      " 4.98490518e-03 1.51159579e-03 1.63202179e-03 3.95482613e-04\n",
      " 0.00000000e+00 1.29078645e-02 3.64440628e-03 1.60031304e-03\n",
      " 1.87420354e-02 2.31790569e-02 2.51604789e-02 2.31854788e-02\n",
      " 1.12779142e-02 1.20110138e-02]\n",
      "\n",
      "unsorted importance:\n",
      "Name,importance AGE 0.0\n",
      "Name,importance SEX 0.0\n",
      "Name,importance E_0 0.001\n",
      "Name,importance E_1 0.0\n",
      "Name,importance E_10 0.0\n",
      "Name,importance E_100 0.0\n",
      "Name,importance E_101 0.0\n",
      "Name,importance E_102 0.001\n",
      "Name,importance E_103 0.003\n",
      "Name,importance E_104 0.002\n",
      "Name,importance E_105 0.005\n",
      "Name,importance E_106 0.002\n",
      "Name,importance E_107 0.0\n",
      "Name,importance E_108 0.001\n",
      "Name,importance E_109 0.0\n",
      "Name,importance E_11 0.0\n",
      "Name,importance E_110 0.001\n",
      "Name,importance E_111 0.004\n",
      "Name,importance E_112 0.0\n",
      "Name,importance E_113 0.005\n",
      "Name,importance E_114 0.0\n",
      "Name,importance E_115 0.0\n",
      "Name,importance E_116 0.0\n",
      "Name,importance E_118 0.0\n",
      "Name,importance E_119 0.0\n",
      "Name,importance E_12 0.005\n",
      "Name,importance E_120 0.001\n",
      "Name,importance E_121 0.001\n",
      "Name,importance E_123 0.001\n",
      "Name,importance E_124 0.004\n",
      "Name,importance E_125 0.001\n",
      "Name,importance E_126 0.001\n",
      "Name,importance E_127 0.0\n",
      "Name,importance E_128 0.002\n",
      "Name,importance E_129 0.031\n",
      "Name,importance E_13 0.0\n",
      "Name,importance E_130_@_V_107 0.0\n",
      "Name,importance E_130_@_V_11 0.0\n",
      "Name,importance E_130_@_V_138 0.01\n",
      "Name,importance E_130_@_V_156 0.005\n",
      "Name,importance E_130_@_V_157 0.002\n",
      "Name,importance E_131_@_V_10 0.005\n",
      "Name,importance E_131_@_V_12 0.0\n",
      "Name,importance E_133_@_V_108 0.002\n",
      "Name,importance E_133_@_V_109 0.0\n",
      "Name,importance E_133_@_V_110 0.0\n",
      "Name,importance E_133_@_V_111 0.0\n",
      "Name,importance E_133_@_V_116 0.0\n",
      "Name,importance E_133_@_V_117 0.0\n",
      "Name,importance E_133_@_V_122 0.001\n",
      "Name,importance E_133_@_V_123 0.0\n",
      "Name,importance E_133_@_V_137 0.0\n",
      "Name,importance E_133_@_V_146 0.0\n",
      "Name,importance E_133_@_V_147 0.0\n",
      "Name,importance E_133_@_V_155 0.0\n",
      "Name,importance E_133_@_V_158 0.0\n",
      "Name,importance E_133_@_V_162 0.0\n",
      "Name,importance E_133_@_V_168 0.0\n",
      "Name,importance E_133_@_V_169 0.0\n",
      "Name,importance E_133_@_V_170 0.0\n",
      "Name,importance E_133_@_V_171 0.0\n",
      "Name,importance E_133_@_V_187 0.0\n",
      "Name,importance E_133_@_V_194 0.0\n",
      "Name,importance E_133_@_V_195 0.0\n",
      "Name,importance E_133_@_V_197 0.0\n",
      "Name,importance E_133_@_V_26 0.002\n",
      "Name,importance E_133_@_V_27 0.0\n",
      "Name,importance E_133_@_V_28 0.0\n",
      "Name,importance E_133_@_V_30 0.009\n",
      "Name,importance E_133_@_V_31 0.001\n",
      "Name,importance E_133_@_V_32 0.006\n",
      "Name,importance E_133_@_V_33 0.003\n",
      "Name,importance E_133_@_V_34 0.002\n",
      "Name,importance E_133_@_V_35 0.0\n",
      "Name,importance E_133_@_V_38 0.0\n",
      "Name,importance E_133_@_V_39 0.0\n",
      "Name,importance E_133_@_V_40 0.0\n",
      "Name,importance E_133_@_V_41 0.0\n",
      "Name,importance E_133_@_V_42 0.0\n",
      "Name,importance E_133_@_V_51 0.0\n",
      "Name,importance E_133_@_V_52 0.0\n",
      "Name,importance E_133_@_V_53 0.0\n",
      "Name,importance E_133_@_V_54 0.0\n",
      "Name,importance E_133_@_V_61 0.0\n",
      "Name,importance E_133_@_V_76 0.0\n",
      "Name,importance E_133_@_V_77 0.0\n",
      "Name,importance E_133_@_V_82 0.0\n",
      "Name,importance E_133_@_V_83 0.0\n",
      "Name,importance E_133_@_V_84 0.0\n",
      "Name,importance E_133_@_V_85 0.0\n",
      "Name,importance E_133_@_V_87 0.0\n",
      "Name,importance E_133_@_V_88 0.001\n",
      "Name,importance E_133_@_V_89 0.0\n",
      "Name,importance E_133_@_V_90 0.0\n",
      "Name,importance E_133_@_V_91 0.0\n",
      "Name,importance E_133_@_V_95 0.0\n",
      "Name,importance E_133_@_V_96 0.001\n",
      "Name,importance E_135_@_V_10 0.001\n",
      "Name,importance E_135_@_V_12 0.007\n",
      "Name,importance E_137 0.001\n",
      "Name,importance E_138 0.002\n",
      "Name,importance E_139 0.0\n",
      "Name,importance E_14 0.001\n",
      "Name,importance E_140 0.0\n",
      "Name,importance E_141 0.0\n",
      "Name,importance E_142 0.0\n",
      "Name,importance E_143 0.003\n",
      "Name,importance E_144 0.02\n",
      "Name,importance E_145 0.0\n",
      "Name,importance E_146 0.012\n",
      "Name,importance E_147 0.002\n",
      "Name,importance E_148 0.001\n",
      "Name,importance E_149 0.001\n",
      "Name,importance E_15 0.004\n",
      "Name,importance E_150 0.0\n",
      "Name,importance E_151 0.015\n",
      "Name,importance E_152_@_V_108 0.0\n",
      "Name,importance E_152_@_V_109 0.006\n",
      "Name,importance E_152_@_V_119 0.0\n",
      "Name,importance E_152_@_V_120 0.001\n",
      "Name,importance E_152_@_V_122 0.008\n",
      "Name,importance E_152_@_V_123 0.001\n",
      "Name,importance E_152_@_V_131 0.0\n",
      "Name,importance E_152_@_V_132 0.0\n",
      "Name,importance E_152_@_V_133 0.0\n",
      "Name,importance E_152_@_V_149 0.0\n",
      "Name,importance E_152_@_V_150 0.0\n",
      "Name,importance E_152_@_V_172 0.001\n",
      "Name,importance E_152_@_V_173 0.001\n",
      "Name,importance E_152_@_V_23 0.0\n",
      "Name,importance E_152_@_V_24 0.0\n",
      "Name,importance E_152_@_V_34 0.0\n",
      "Name,importance E_152_@_V_35 0.002\n",
      "Name,importance E_152_@_V_43 0.0\n",
      "Name,importance E_152_@_V_44 0.0\n",
      "Name,importance E_152_@_V_51 0.002\n",
      "Name,importance E_152_@_V_52 0.0\n",
      "Name,importance E_152_@_V_72 0.003\n",
      "Name,importance E_152_@_V_73 0.0\n",
      "Name,importance E_152_@_V_89 0.002\n",
      "Name,importance E_153 0.0\n",
      "Name,importance E_154 0.001\n",
      "Name,importance E_155 0.004\n",
      "Name,importance E_156 0.001\n",
      "Name,importance E_157 0.006\n",
      "Name,importance E_158 0.0\n",
      "Name,importance E_159 0.002\n",
      "Name,importance E_16 0.003\n",
      "Name,importance E_160 0.0\n",
      "Name,importance E_161 0.005\n",
      "Name,importance E_162 0.017\n",
      "Name,importance E_163 0.0\n",
      "Name,importance E_164 0.0\n",
      "Name,importance E_165 0.0\n",
      "Name,importance E_166 0.0\n",
      "Name,importance E_167 0.0\n",
      "Name,importance E_168 0.001\n",
      "Name,importance E_169 0.01\n",
      "Name,importance E_17 0.0\n",
      "Name,importance E_170 0.001\n",
      "Name,importance E_171 0.0\n",
      "Name,importance E_172 0.0\n",
      "Name,importance E_173 0.001\n",
      "Name,importance E_174 0.0\n",
      "Name,importance E_175 0.0\n",
      "Name,importance E_176 0.0\n",
      "Name,importance E_177 0.001\n",
      "Name,importance E_178 0.0\n",
      "Name,importance E_179 0.006\n",
      "Name,importance E_18 0.0\n",
      "Name,importance E_180 0.001\n",
      "Name,importance E_181 0.014\n",
      "Name,importance E_182 0.0\n",
      "Name,importance E_183 0.0\n",
      "Name,importance E_184 0.001\n",
      "Name,importance E_185 0.003\n",
      "Name,importance E_186 0.0\n",
      "Name,importance E_187 0.004\n",
      "Name,importance E_188 0.0\n",
      "Name,importance E_189 0.0\n",
      "Name,importance E_19 0.0\n",
      "Name,importance E_190 0.004\n",
      "Name,importance E_191 0.002\n",
      "Name,importance E_192 0.0\n",
      "Name,importance E_193 0.002\n",
      "Name,importance E_194 0.01\n",
      "Name,importance E_195 0.0\n",
      "Name,importance E_196 0.002\n",
      "Name,importance E_197 0.0\n",
      "Name,importance E_198 0.0\n",
      "Name,importance E_199 0.0\n",
      "Name,importance E_2 0.0\n",
      "Name,importance E_20 0.0\n",
      "Name,importance E_200 0.0\n",
      "Name,importance E_201 0.027\n",
      "Name,importance E_202 0.0\n",
      "Name,importance E_203 0.0\n",
      "Name,importance E_204_@_V_0 0.0\n",
      "Name,importance E_204_@_V_1 0.0\n",
      "Name,importance E_204_@_V_10 0.001\n",
      "Name,importance E_204_@_V_2 0.0\n",
      "Name,importance E_204_@_V_3 0.0\n",
      "Name,importance E_204_@_V_4 0.0\n",
      "Name,importance E_204_@_V_5 0.0\n",
      "Name,importance E_204_@_V_6 0.0\n",
      "Name,importance E_204_@_V_7 0.0\n",
      "Name,importance E_204_@_V_8 0.0\n",
      "Name,importance E_204_@_V_9 0.0\n",
      "Name,importance E_205 0.001\n",
      "Name,importance E_206 0.002\n",
      "Name,importance E_207 0.0\n",
      "Name,importance E_208 0.002\n",
      "Name,importance E_209 0.002\n",
      "Name,importance E_21 0.0\n",
      "Name,importance E_210 0.0\n",
      "Name,importance E_211 0.0\n",
      "Name,importance E_212 0.0\n",
      "Name,importance E_213 0.0\n",
      "Name,importance E_214 0.005\n",
      "Name,importance E_215 0.0\n",
      "Name,importance E_216 0.0\n",
      "Name,importance E_217 0.002\n",
      "Name,importance E_218 0.006\n",
      "Name,importance E_219 0.0\n",
      "Name,importance E_22 0.001\n",
      "Name,importance E_220 0.001\n",
      "Name,importance E_221 0.0\n",
      "Name,importance E_222 0.014\n",
      "Name,importance E_223 0.0\n",
      "Name,importance E_224 0.0\n",
      "Name,importance E_225 0.004\n",
      "Name,importance E_226 0.002\n",
      "Name,importance E_227 0.001\n",
      "Name,importance E_23 0.0\n",
      "Name,importance E_24 0.005\n",
      "Name,importance E_25 0.002\n",
      "Name,importance E_26 0.004\n",
      "Name,importance E_27 0.001\n",
      "Name,importance E_28 0.0\n",
      "Name,importance E_29 0.002\n",
      "Name,importance E_3 0.004\n",
      "Name,importance E_30 0.0\n",
      "Name,importance E_31 0.004\n",
      "Name,importance E_32 0.0\n",
      "Name,importance E_33 0.001\n",
      "Name,importance E_34 0.001\n",
      "Name,importance E_35 0.001\n",
      "Name,importance E_37 0.0\n",
      "Name,importance E_38 0.001\n",
      "Name,importance E_39 0.0\n",
      "Name,importance E_4 0.0\n",
      "Name,importance E_40 0.0\n",
      "Name,importance E_41 0.012\n",
      "Name,importance E_42 0.004\n",
      "Name,importance E_43 0.001\n",
      "Name,importance E_44 0.0\n",
      "Name,importance E_45 0.002\n",
      "Name,importance E_46 0.0\n",
      "Name,importance E_47 0.0\n",
      "Name,importance E_48 0.014\n",
      "Name,importance E_49 0.008\n",
      "Name,importance E_5 0.002\n",
      "Name,importance E_50 0.02\n",
      "Name,importance E_51 0.0\n",
      "Name,importance E_52 0.0\n",
      "Name,importance E_53 0.011\n",
      "Name,importance E_54_@_V_11 0.0\n",
      "Name,importance E_54_@_V_112 0.001\n",
      "Name,importance E_54_@_V_154 0.005\n",
      "Name,importance E_54_@_V_161 0.008\n",
      "Name,importance E_54_@_V_179 0.01\n",
      "Name,importance E_54_@_V_180 0.002\n",
      "Name,importance E_54_@_V_181 0.026\n",
      "Name,importance E_54_@_V_182 0.0\n",
      "Name,importance E_54_@_V_183 0.003\n",
      "Name,importance E_54_@_V_184 0.0\n",
      "Name,importance E_54_@_V_191 0.0\n",
      "Name,importance E_54_@_V_192 0.006\n",
      "Name,importance E_54_@_V_193 0.004\n",
      "Name,importance E_54_@_V_196 0.005\n",
      "Name,importance E_54_@_V_198 0.004\n",
      "Name,importance E_54_@_V_71 0.0\n",
      "Name,importance E_55_@_V_100 0.0\n",
      "Name,importance E_55_@_V_101 0.001\n",
      "Name,importance E_55_@_V_103 0.0\n",
      "Name,importance E_55_@_V_104 0.001\n",
      "Name,importance E_55_@_V_105 0.0\n",
      "Name,importance E_55_@_V_106 0.0\n",
      "Name,importance E_55_@_V_108 0.008\n",
      "Name,importance E_55_@_V_109 0.012\n",
      "Name,importance E_55_@_V_119 0.0\n",
      "Name,importance E_55_@_V_120 0.0\n",
      "Name,importance E_55_@_V_122 0.0\n",
      "Name,importance E_55_@_V_123 0.0\n",
      "Name,importance E_55_@_V_124 0.004\n",
      "Name,importance E_55_@_V_125 0.001\n",
      "Name,importance E_55_@_V_126 0.001\n",
      "Name,importance E_55_@_V_127 0.002\n",
      "Name,importance E_55_@_V_128 0.001\n",
      "Name,importance E_55_@_V_129 0.0\n",
      "Name,importance E_55_@_V_130 0.001\n",
      "Name,importance E_55_@_V_131 0.0\n",
      "Name,importance E_55_@_V_132 0.0\n",
      "Name,importance E_55_@_V_133 0.0\n",
      "Name,importance E_55_@_V_134 0.0\n",
      "Name,importance E_55_@_V_135 0.0\n",
      "Name,importance E_55_@_V_136 0.0\n",
      "Name,importance E_55_@_V_137 0.01\n",
      "Name,importance E_55_@_V_144 0.0\n",
      "Name,importance E_55_@_V_145 0.0\n",
      "Name,importance E_55_@_V_148 0.014\n",
      "Name,importance E_55_@_V_149 0.0\n",
      "Name,importance E_55_@_V_150 0.0\n",
      "Name,importance E_55_@_V_151 0.0\n",
      "Name,importance E_55_@_V_152 0.0\n",
      "Name,importance E_55_@_V_153 0.0\n",
      "Name,importance E_55_@_V_159 0.001\n",
      "Name,importance E_55_@_V_160 0.0\n",
      "Name,importance E_55_@_V_163 0.004\n",
      "Name,importance E_55_@_V_164 0.0\n",
      "Name,importance E_55_@_V_166 0.001\n",
      "Name,importance E_55_@_V_167 0.001\n",
      "Name,importance E_55_@_V_168 0.0\n",
      "Name,importance E_55_@_V_169 0.0\n",
      "Name,importance E_55_@_V_170 0.0\n",
      "Name,importance E_55_@_V_171 0.0\n",
      "Name,importance E_55_@_V_172 0.0\n",
      "Name,importance E_55_@_V_173 0.0\n",
      "Name,importance E_55_@_V_174 0.0\n",
      "Name,importance E_55_@_V_177 0.0\n",
      "Name,importance E_55_@_V_178 0.0\n",
      "Name,importance E_55_@_V_18 0.0\n",
      "Name,importance E_55_@_V_187 0.0\n",
      "Name,importance E_55_@_V_194 0.002\n",
      "Name,importance E_55_@_V_195 0.001\n",
      "Name,importance E_55_@_V_197 0.004\n",
      "Name,importance E_55_@_V_20 0.007\n",
      "Name,importance E_55_@_V_21 0.005\n",
      "Name,importance E_55_@_V_23 0.0\n",
      "Name,importance E_55_@_V_24 0.0\n",
      "Name,importance E_55_@_V_25 0.0\n",
      "Name,importance E_55_@_V_26 0.0\n",
      "Name,importance E_55_@_V_29 0.001\n",
      "Name,importance E_55_@_V_30 0.0\n",
      "Name,importance E_55_@_V_31 0.0\n",
      "Name,importance E_55_@_V_32 0.0\n",
      "Name,importance E_55_@_V_33 0.019\n",
      "Name,importance E_55_@_V_34 0.002\n",
      "Name,importance E_55_@_V_35 0.0\n",
      "Name,importance E_55_@_V_38 0.0\n",
      "Name,importance E_55_@_V_39 0.0\n",
      "Name,importance E_55_@_V_43 0.0\n",
      "Name,importance E_55_@_V_44 0.0\n",
      "Name,importance E_55_@_V_45 0.0\n",
      "Name,importance E_55_@_V_46 0.0\n",
      "Name,importance E_55_@_V_47 0.0\n",
      "Name,importance E_55_@_V_48 0.0\n",
      "Name,importance E_55_@_V_51 0.0\n",
      "Name,importance E_55_@_V_52 0.0\n",
      "Name,importance E_55_@_V_53 0.0\n",
      "Name,importance E_55_@_V_54 0.0\n",
      "Name,importance E_55_@_V_55 0.004\n",
      "Name,importance E_55_@_V_56 0.004\n",
      "Name,importance E_55_@_V_62 0.002\n",
      "Name,importance E_55_@_V_63 0.001\n",
      "Name,importance E_55_@_V_64 0.001\n",
      "Name,importance E_55_@_V_65 0.0\n",
      "Name,importance E_55_@_V_66 0.0\n",
      "Name,importance E_55_@_V_67 0.001\n",
      "Name,importance E_55_@_V_68 0.001\n",
      "Name,importance E_55_@_V_69 0.0\n",
      "Name,importance E_55_@_V_70 0.001\n",
      "Name,importance E_55_@_V_72 0.0\n",
      "Name,importance E_55_@_V_73 0.0\n",
      "Name,importance E_55_@_V_74 0.002\n",
      "Name,importance E_55_@_V_75 0.0\n",
      "Name,importance E_55_@_V_80 0.0\n",
      "Name,importance E_55_@_V_81 0.0\n",
      "Name,importance E_55_@_V_84 0.001\n",
      "Name,importance E_55_@_V_85 0.0\n",
      "Name,importance E_55_@_V_87 0.001\n",
      "Name,importance E_55_@_V_88 0.0\n",
      "Name,importance E_55_@_V_89 0.002\n",
      "Name,importance E_55_@_V_92 0.0\n",
      "Name,importance E_55_@_V_93 0.0\n",
      "Name,importance E_55_@_V_99 0.0\n",
      "Name,importance E_57_@_V_101 0.002\n",
      "Name,importance E_57_@_V_118 0.0\n",
      "Name,importance E_57_@_V_121 0.0\n",
      "Name,importance E_57_@_V_122 0.001\n",
      "Name,importance E_57_@_V_123 0.02\n",
      "Name,importance E_57_@_V_127 0.008\n",
      "Name,importance E_57_@_V_128 0.006\n",
      "Name,importance E_57_@_V_159 0.0\n",
      "Name,importance E_57_@_V_160 0.0\n",
      "Name,importance E_57_@_V_163 0.001\n",
      "Name,importance E_57_@_V_166 0.0\n",
      "Name,importance E_57_@_V_167 0.0\n",
      "Name,importance E_57_@_V_170 0.0\n",
      "Name,importance E_57_@_V_171 0.0\n",
      "Name,importance E_57_@_V_174 0.0\n",
      "Name,importance E_57_@_V_177 0.0\n",
      "Name,importance E_57_@_V_178 0.0\n",
      "Name,importance E_57_@_V_194 0.004\n",
      "Name,importance E_57_@_V_195 0.004\n",
      "Name,importance E_57_@_V_25 0.001\n",
      "Name,importance E_57_@_V_29 0.001\n",
      "Name,importance E_57_@_V_30 0.01\n",
      "Name,importance E_57_@_V_31 0.007\n",
      "Name,importance E_57_@_V_33 0.005\n",
      "Name,importance E_57_@_V_39 0.001\n",
      "Name,importance E_57_@_V_55 0.001\n",
      "Name,importance E_57_@_V_56 0.002\n",
      "Name,importance E_57_@_V_89 0.0\n",
      "Name,importance E_6 0.0\n",
      "Name,importance E_60 0.0\n",
      "Name,importance E_61 0.0\n",
      "Name,importance E_62 0.029\n",
      "Name,importance E_63 0.001\n",
      "Name,importance E_64 0.0\n",
      "Name,importance E_65 0.001\n",
      "Name,importance E_66 0.003\n",
      "Name,importance E_67 0.001\n",
      "Name,importance E_69 0.002\n",
      "Name,importance E_7 0.01\n",
      "Name,importance E_70 0.001\n",
      "Name,importance E_71 0.002\n",
      "Name,importance E_72 0.0\n",
      "Name,importance E_73 0.0\n",
      "Name,importance E_74 0.0\n",
      "Name,importance E_75 0.0\n",
      "Name,importance E_76 0.0\n",
      "Name,importance E_77 0.004\n",
      "Name,importance E_78 0.012\n",
      "Name,importance E_79 0.001\n",
      "Name,importance E_8 0.0\n",
      "Name,importance E_80 0.006\n",
      "Name,importance E_81 0.009\n",
      "Name,importance E_82 0.001\n",
      "Name,importance E_83 0.0\n",
      "Name,importance E_84 0.0\n",
      "Name,importance E_86 0.001\n",
      "Name,importance E_87 0.0\n",
      "Name,importance E_88 0.002\n",
      "Name,importance E_89 0.001\n",
      "Name,importance E_9 0.001\n",
      "Name,importance E_90 0.0\n",
      "Name,importance E_91 0.002\n",
      "Name,importance E_92 0.005\n",
      "Name,importance E_93 0.002\n",
      "Name,importance E_94 0.002\n",
      "Name,importance E_95 0.0\n",
      "Name,importance E_96 0.0\n",
      "Name,importance E_97 0.013\n",
      "Name,importance E_98 0.004\n",
      "Name,importance E_99 0.002\n",
      "Name,importance E_132 0.019\n",
      "Name,importance E_134 0.023\n",
      "Name,importance E_136 0.025\n",
      "Name,importance E_56 0.023\n",
      "Name,importance E_58 0.011\n",
      "Name,importance E_59 0.012\n",
      "\n",
      "Sorted importance:\n",
      "Name,importance E_129 0.031\n",
      "Name,importance E_62 0.029\n",
      "Name,importance E_201 0.027\n",
      "Name,importance E_54_@_V_181 0.026\n",
      "Name,importance E_136 0.025\n",
      "Name,importance E_56 0.023\n",
      "Name,importance E_134 0.023\n",
      "Name,importance E_144 0.02\n",
      "Name,importance E_50 0.02\n",
      "Name,importance E_57_@_V_123 0.02\n",
      "Name,importance E_132 0.019\n",
      "Name,importance E_55_@_V_33 0.019\n",
      "Name,importance E_162 0.017\n",
      "Name,importance E_151 0.015\n",
      "Name,importance E_48 0.014\n",
      "Name,importance E_55_@_V_148 0.014\n",
      "Name,importance E_222 0.014\n",
      "Name,importance E_181 0.014\n",
      "Name,importance E_97 0.013\n",
      "Name,importance E_55_@_V_109 0.012\n",
      "Name,importance E_59 0.012\n",
      "Name,importance E_78 0.012\n",
      "Name,importance E_146 0.012\n",
      "Name,importance E_41 0.012\n",
      "Name,importance E_58 0.011\n",
      "Name,importance E_53 0.011\n",
      "Name,importance E_57_@_V_30 0.01\n",
      "Name,importance E_194 0.01\n",
      "Name,importance E_54_@_V_179 0.01\n",
      "Name,importance E_7 0.01\n",
      "Name,importance E_169 0.01\n",
      "Name,importance E_55_@_V_137 0.01\n",
      "Name,importance E_130_@_V_138 0.01\n",
      "Name,importance E_81 0.009\n",
      "Name,importance E_133_@_V_30 0.009\n",
      "Name,importance E_55_@_V_108 0.008\n",
      "Name,importance E_49 0.008\n",
      "Name,importance E_152_@_V_122 0.008\n",
      "Name,importance E_54_@_V_161 0.008\n",
      "Name,importance E_57_@_V_127 0.008\n",
      "Name,importance E_57_@_V_31 0.007\n",
      "Name,importance E_135_@_V_12 0.007\n",
      "Name,importance E_55_@_V_20 0.007\n",
      "Name,importance E_54_@_V_192 0.006\n",
      "Name,importance E_218 0.006\n",
      "Name,importance E_57_@_V_128 0.006\n",
      "Name,importance E_133_@_V_32 0.006\n",
      "Name,importance E_157 0.006\n",
      "Name,importance E_152_@_V_109 0.006\n",
      "Name,importance E_179 0.006\n",
      "Name,importance E_80 0.006\n",
      "Name,importance E_131_@_V_10 0.005\n",
      "Name,importance E_161 0.005\n",
      "Name,importance E_214 0.005\n",
      "Name,importance E_54_@_V_196 0.005\n",
      "Name,importance E_57_@_V_33 0.005\n",
      "Name,importance E_24 0.005\n",
      "Name,importance E_92 0.005\n",
      "Name,importance E_55_@_V_21 0.005\n",
      "Name,importance E_130_@_V_156 0.005\n",
      "Name,importance E_12 0.005\n",
      "Name,importance E_105 0.005\n",
      "Name,importance E_54_@_V_154 0.005\n",
      "Name,importance E_113 0.005\n",
      "Name,importance E_42 0.004\n",
      "Name,importance E_77 0.004\n",
      "Name,importance E_225 0.004\n",
      "Name,importance E_15 0.004\n",
      "Name,importance E_57_@_V_194 0.004\n",
      "Name,importance E_55_@_V_56 0.004\n",
      "Name,importance E_55_@_V_124 0.004\n",
      "Name,importance E_31 0.004\n",
      "Name,importance E_187 0.004\n",
      "Name,importance E_55_@_V_55 0.004\n",
      "Name,importance E_26 0.004\n",
      "Name,importance E_155 0.004\n",
      "Name,importance E_124 0.004\n",
      "Name,importance E_111 0.004\n",
      "Name,importance E_3 0.004\n",
      "Name,importance E_54_@_V_193 0.004\n",
      "Name,importance E_57_@_V_195 0.004\n",
      "Name,importance E_190 0.004\n",
      "Name,importance E_98 0.004\n",
      "Name,importance E_55_@_V_163 0.004\n",
      "Name,importance E_54_@_V_198 0.004\n",
      "Name,importance E_55_@_V_197 0.004\n",
      "Name,importance E_133_@_V_33 0.003\n",
      "Name,importance E_54_@_V_183 0.003\n",
      "Name,importance E_66 0.003\n",
      "Name,importance E_152_@_V_72 0.003\n",
      "Name,importance E_185 0.003\n",
      "Name,importance E_143 0.003\n",
      "Name,importance E_16 0.003\n",
      "Name,importance E_103 0.003\n",
      "Name,importance E_54_@_V_180 0.002\n",
      "Name,importance E_104 0.002\n",
      "Name,importance E_91 0.002\n",
      "Name,importance E_57_@_V_56 0.002\n",
      "Name,importance E_45 0.002\n",
      "Name,importance E_133_@_V_108 0.002\n",
      "Name,importance E_55_@_V_89 0.002\n",
      "Name,importance E_159 0.002\n",
      "Name,importance E_138 0.002\n",
      "Name,importance E_55_@_V_194 0.002\n",
      "Name,importance E_196 0.002\n",
      "Name,importance E_55_@_V_127 0.002\n",
      "Name,importance E_133_@_V_26 0.002\n",
      "Name,importance E_191 0.002\n",
      "Name,importance E_152_@_V_35 0.002\n",
      "Name,importance E_152_@_V_51 0.002\n",
      "Name,importance E_133_@_V_34 0.002\n",
      "Name,importance E_55_@_V_62 0.002\n",
      "Name,importance E_5 0.002\n",
      "Name,importance E_217 0.002\n",
      "Name,importance E_69 0.002\n",
      "Name,importance E_209 0.002\n",
      "Name,importance E_106 0.002\n",
      "Name,importance E_71 0.002\n",
      "Name,importance E_130_@_V_157 0.002\n",
      "Name,importance E_55_@_V_34 0.002\n",
      "Name,importance E_226 0.002\n",
      "Name,importance E_208 0.002\n",
      "Name,importance E_128 0.002\n",
      "Name,importance E_206 0.002\n",
      "Name,importance E_57_@_V_101 0.002\n",
      "Name,importance E_94 0.002\n",
      "Name,importance E_147 0.002\n",
      "Name,importance E_99 0.002\n",
      "Name,importance E_88 0.002\n",
      "Name,importance E_193 0.002\n",
      "Name,importance E_25 0.002\n",
      "Name,importance E_152_@_V_89 0.002\n",
      "Name,importance E_29 0.002\n",
      "Name,importance E_93 0.002\n",
      "Name,importance E_55_@_V_74 0.002\n",
      "Name,importance E_170 0.001\n",
      "Name,importance E_108 0.001\n",
      "Name,importance E_152_@_V_120 0.001\n",
      "Name,importance E_0 0.001\n",
      "Name,importance E_227 0.001\n",
      "Name,importance E_79 0.001\n",
      "Name,importance E_180 0.001\n",
      "Name,importance E_123 0.001\n",
      "Name,importance E_22 0.001\n",
      "Name,importance E_54_@_V_112 0.001\n",
      "Name,importance E_65 0.001\n",
      "Name,importance E_55_@_V_126 0.001\n",
      "Name,importance E_55_@_V_104 0.001\n",
      "Name,importance E_57_@_V_39 0.001\n",
      "Name,importance E_57_@_V_122 0.001\n",
      "Name,importance E_133_@_V_122 0.001\n",
      "Name,importance E_152_@_V_172 0.001\n",
      "Name,importance E_184 0.001\n",
      "Name,importance E_55_@_V_167 0.001\n",
      "Name,importance E_135_@_V_10 0.001\n",
      "Name,importance E_173 0.001\n",
      "Name,importance E_33 0.001\n",
      "Name,importance E_43 0.001\n",
      "Name,importance E_89 0.001\n",
      "Name,importance E_204_@_V_10 0.001\n",
      "Name,importance E_14 0.001\n",
      "Name,importance E_133_@_V_31 0.001\n",
      "Name,importance E_57_@_V_55 0.001\n",
      "Name,importance E_34 0.001\n",
      "Name,importance E_154 0.001\n",
      "Name,importance E_55_@_V_87 0.001\n",
      "Name,importance E_55_@_V_70 0.001\n",
      "Name,importance E_67 0.001\n",
      "Name,importance E_55_@_V_68 0.001\n",
      "Name,importance E_86 0.001\n",
      "Name,importance E_57_@_V_25 0.001\n",
      "Name,importance E_55_@_V_63 0.001\n",
      "Name,importance E_148 0.001\n",
      "Name,importance E_110 0.001\n",
      "Name,importance E_168 0.001\n",
      "Name,importance E_152_@_V_173 0.001\n",
      "Name,importance E_55_@_V_64 0.001\n",
      "Name,importance E_133_@_V_96 0.001\n",
      "Name,importance E_133_@_V_88 0.001\n",
      "Name,importance E_205 0.001\n",
      "Name,importance E_55_@_V_130 0.001\n",
      "Name,importance E_102 0.001\n",
      "Name,importance E_55_@_V_125 0.001\n",
      "Name,importance E_177 0.001\n",
      "Name,importance E_57_@_V_163 0.001\n",
      "Name,importance E_9 0.001\n",
      "Name,importance E_27 0.001\n",
      "Name,importance E_126 0.001\n",
      "Name,importance E_82 0.001\n",
      "Name,importance E_38 0.001\n",
      "Name,importance E_55_@_V_67 0.001\n",
      "Name,importance E_121 0.001\n",
      "Name,importance E_156 0.001\n",
      "Name,importance E_57_@_V_29 0.001\n",
      "Name,importance E_55_@_V_128 0.001\n",
      "Name,importance E_35 0.001\n",
      "Name,importance E_125 0.001\n",
      "Name,importance E_220 0.001\n",
      "Name,importance E_55_@_V_159 0.001\n",
      "Name,importance E_120 0.001\n",
      "Name,importance E_149 0.001\n",
      "Name,importance E_55_@_V_195 0.001\n",
      "Name,importance E_137 0.001\n",
      "Name,importance E_70 0.001\n",
      "Name,importance E_55_@_V_166 0.001\n",
      "Name,importance E_152_@_V_123 0.001\n",
      "Name,importance E_55_@_V_84 0.001\n",
      "Name,importance E_63 0.001\n",
      "Name,importance E_55_@_V_101 0.001\n",
      "Name,importance E_55_@_V_29 0.001\n",
      "Name,importance E_197 0.0\n",
      "Name,importance E_127 0.0\n",
      "Name,importance E_166 0.0\n",
      "Name,importance E_95 0.0\n",
      "Name,importance E_57_@_V_89 0.0\n",
      "Name,importance E_72 0.0\n",
      "Name,importance E_57_@_V_121 0.0\n",
      "Name,importance E_55_@_V_75 0.0\n",
      "Name,importance E_152_@_V_34 0.0\n",
      "Name,importance E_52 0.0\n",
      "Name,importance E_133_@_V_110 0.0\n",
      "Name,importance E_133_@_V_95 0.0\n",
      "Name,importance E_44 0.0\n",
      "Name,importance E_61 0.0\n",
      "Name,importance E_76 0.0\n",
      "Name,importance E_55_@_V_54 0.0\n",
      "Name,importance E_112 0.0\n",
      "Name,importance E_192 0.0\n",
      "Name,importance E_87 0.0\n",
      "Name,importance E_182 0.0\n",
      "Name,importance E_1 0.0\n",
      "Name,importance E_54_@_V_182 0.0\n",
      "Name,importance E_55_@_V_69 0.0\n",
      "Name,importance E_55_@_V_153 0.0\n",
      "Name,importance E_57_@_V_177 0.0\n",
      "Name,importance E_60 0.0\n",
      "Name,importance E_57_@_V_118 0.0\n",
      "Name,importance E_55_@_V_123 0.0\n",
      "Name,importance E_133_@_V_123 0.0\n",
      "Name,importance E_55_@_V_174 0.0\n",
      "Name,importance E_189 0.0\n",
      "Name,importance E_219 0.0\n",
      "Name,importance E_57_@_V_178 0.0\n",
      "Name,importance E_18 0.0\n",
      "Name,importance E_57_@_V_167 0.0\n",
      "Name,importance E_2 0.0\n",
      "Name,importance E_55_@_V_26 0.0\n",
      "Name,importance E_13 0.0\n",
      "Name,importance E_133_@_V_53 0.0\n",
      "Name,importance E_4 0.0\n",
      "Name,importance E_55_@_V_53 0.0\n",
      "Name,importance E_178 0.0\n",
      "Name,importance E_118 0.0\n",
      "Name,importance E_203 0.0\n",
      "Name,importance E_54_@_V_11 0.0\n",
      "Name,importance E_55_@_V_122 0.0\n",
      "Name,importance E_46 0.0\n",
      "Name,importance E_55_@_V_92 0.0\n",
      "Name,importance E_11 0.0\n",
      "Name,importance E_130_@_V_11 0.0\n",
      "Name,importance E_101 0.0\n",
      "Name,importance E_224 0.0\n",
      "Name,importance E_133_@_V_111 0.0\n",
      "Name,importance E_55_@_V_171 0.0\n",
      "Name,importance E_39 0.0\n",
      "Name,importance AGE 0.0\n",
      "Name,importance E_55_@_V_81 0.0\n",
      "Name,importance E_55_@_V_25 0.0\n",
      "Name,importance E_175 0.0\n",
      "Name,importance E_57_@_V_170 0.0\n",
      "Name,importance E_133_@_V_89 0.0\n",
      "Name,importance E_57_@_V_166 0.0\n",
      "Name,importance E_152_@_V_23 0.0\n",
      "Name,importance E_55_@_V_35 0.0\n",
      "Name,importance E_55_@_V_88 0.0\n",
      "Name,importance E_202 0.0\n",
      "Name,importance E_116 0.0\n",
      "Name,importance E_55_@_V_119 0.0\n",
      "Name,importance E_55_@_V_120 0.0\n",
      "Name,importance E_131_@_V_12 0.0\n",
      "Name,importance E_55_@_V_103 0.0\n",
      "Name,importance E_119 0.0\n",
      "Name,importance E_57_@_V_174 0.0\n",
      "Name,importance E_204_@_V_1 0.0\n",
      "Name,importance E_55_@_V_93 0.0\n",
      "Name,importance E_51 0.0\n",
      "Name,importance E_133_@_V_38 0.0\n",
      "Name,importance E_109 0.0\n",
      "Name,importance E_212 0.0\n",
      "Name,importance E_133_@_V_39 0.0\n",
      "Name,importance E_23 0.0\n",
      "Name,importance E_133_@_V_52 0.0\n",
      "Name,importance E_183 0.0\n",
      "Name,importance E_107 0.0\n",
      "Name,importance E_142 0.0\n",
      "Name,importance E_55_@_V_170 0.0\n",
      "Name,importance E_55_@_V_39 0.0\n",
      "Name,importance E_152_@_V_108 0.0\n",
      "Name,importance E_55_@_V_99 0.0\n",
      "Name,importance E_204_@_V_4 0.0\n",
      "Name,importance E_55_@_V_177 0.0\n",
      "Name,importance E_133_@_V_194 0.0\n",
      "Name,importance E_55_@_V_80 0.0\n",
      "Name,importance E_55_@_V_100 0.0\n",
      "Name,importance SEX 0.0\n",
      "Name,importance E_55_@_V_160 0.0\n",
      "Name,importance E_133_@_V_51 0.0\n",
      "Name,importance E_55_@_V_32 0.0\n",
      "Name,importance E_207 0.0\n",
      "Name,importance E_55_@_V_178 0.0\n",
      "Name,importance E_55_@_V_66 0.0\n",
      "Name,importance E_55_@_V_187 0.0\n",
      "Name,importance E_55_@_V_30 0.0\n",
      "Name,importance E_10 0.0\n",
      "Name,importance E_100 0.0\n",
      "Name,importance E_114 0.0\n",
      "Name,importance E_115 0.0\n",
      "Name,importance E_130_@_V_107 0.0\n",
      "Name,importance E_133_@_V_109 0.0\n",
      "Name,importance E_133_@_V_116 0.0\n",
      "Name,importance E_133_@_V_117 0.0\n",
      "Name,importance E_133_@_V_137 0.0\n",
      "Name,importance E_133_@_V_146 0.0\n",
      "Name,importance E_133_@_V_147 0.0\n",
      "Name,importance E_133_@_V_155 0.0\n",
      "Name,importance E_133_@_V_158 0.0\n",
      "Name,importance E_133_@_V_162 0.0\n",
      "Name,importance E_133_@_V_168 0.0\n",
      "Name,importance E_133_@_V_169 0.0\n",
      "Name,importance E_133_@_V_170 0.0\n",
      "Name,importance E_133_@_V_171 0.0\n",
      "Name,importance E_133_@_V_187 0.0\n",
      "Name,importance E_133_@_V_195 0.0\n",
      "Name,importance E_133_@_V_197 0.0\n",
      "Name,importance E_133_@_V_27 0.0\n",
      "Name,importance E_133_@_V_28 0.0\n",
      "Name,importance E_133_@_V_35 0.0\n",
      "Name,importance E_133_@_V_40 0.0\n",
      "Name,importance E_133_@_V_41 0.0\n",
      "Name,importance E_133_@_V_42 0.0\n",
      "Name,importance E_133_@_V_54 0.0\n",
      "Name,importance E_133_@_V_61 0.0\n",
      "Name,importance E_133_@_V_76 0.0\n",
      "Name,importance E_133_@_V_77 0.0\n",
      "Name,importance E_133_@_V_82 0.0\n",
      "Name,importance E_133_@_V_83 0.0\n",
      "Name,importance E_133_@_V_84 0.0\n",
      "Name,importance E_133_@_V_85 0.0\n",
      "Name,importance E_133_@_V_87 0.0\n",
      "Name,importance E_133_@_V_90 0.0\n",
      "Name,importance E_133_@_V_91 0.0\n",
      "Name,importance E_139 0.0\n",
      "Name,importance E_140 0.0\n",
      "Name,importance E_141 0.0\n",
      "Name,importance E_145 0.0\n",
      "Name,importance E_150 0.0\n",
      "Name,importance E_152_@_V_119 0.0\n",
      "Name,importance E_152_@_V_131 0.0\n",
      "Name,importance E_152_@_V_132 0.0\n",
      "Name,importance E_152_@_V_133 0.0\n",
      "Name,importance E_152_@_V_149 0.0\n",
      "Name,importance E_152_@_V_150 0.0\n",
      "Name,importance E_152_@_V_24 0.0\n",
      "Name,importance E_152_@_V_43 0.0\n",
      "Name,importance E_152_@_V_44 0.0\n",
      "Name,importance E_152_@_V_52 0.0\n",
      "Name,importance E_152_@_V_73 0.0\n",
      "Name,importance E_153 0.0\n",
      "Name,importance E_158 0.0\n",
      "Name,importance E_160 0.0\n",
      "Name,importance E_163 0.0\n",
      "Name,importance E_164 0.0\n",
      "Name,importance E_165 0.0\n",
      "Name,importance E_167 0.0\n",
      "Name,importance E_17 0.0\n",
      "Name,importance E_171 0.0\n",
      "Name,importance E_172 0.0\n",
      "Name,importance E_174 0.0\n",
      "Name,importance E_176 0.0\n",
      "Name,importance E_186 0.0\n",
      "Name,importance E_188 0.0\n",
      "Name,importance E_19 0.0\n",
      "Name,importance E_195 0.0\n",
      "Name,importance E_198 0.0\n",
      "Name,importance E_199 0.0\n",
      "Name,importance E_20 0.0\n",
      "Name,importance E_200 0.0\n",
      "Name,importance E_204_@_V_0 0.0\n",
      "Name,importance E_204_@_V_2 0.0\n",
      "Name,importance E_204_@_V_3 0.0\n",
      "Name,importance E_204_@_V_5 0.0\n",
      "Name,importance E_204_@_V_6 0.0\n",
      "Name,importance E_204_@_V_7 0.0\n",
      "Name,importance E_204_@_V_8 0.0\n",
      "Name,importance E_204_@_V_9 0.0\n",
      "Name,importance E_21 0.0\n",
      "Name,importance E_210 0.0\n",
      "Name,importance E_211 0.0\n",
      "Name,importance E_213 0.0\n",
      "Name,importance E_215 0.0\n",
      "Name,importance E_216 0.0\n",
      "Name,importance E_221 0.0\n",
      "Name,importance E_223 0.0\n",
      "Name,importance E_28 0.0\n",
      "Name,importance E_30 0.0\n",
      "Name,importance E_32 0.0\n",
      "Name,importance E_37 0.0\n",
      "Name,importance E_40 0.0\n",
      "Name,importance E_47 0.0\n",
      "Name,importance E_54_@_V_184 0.0\n",
      "Name,importance E_54_@_V_191 0.0\n",
      "Name,importance E_54_@_V_71 0.0\n",
      "Name,importance E_55_@_V_105 0.0\n",
      "Name,importance E_55_@_V_106 0.0\n",
      "Name,importance E_55_@_V_129 0.0\n",
      "Name,importance E_55_@_V_131 0.0\n",
      "Name,importance E_55_@_V_132 0.0\n",
      "Name,importance E_55_@_V_133 0.0\n",
      "Name,importance E_55_@_V_134 0.0\n",
      "Name,importance E_55_@_V_135 0.0\n",
      "Name,importance E_55_@_V_136 0.0\n",
      "Name,importance E_55_@_V_144 0.0\n",
      "Name,importance E_55_@_V_145 0.0\n",
      "Name,importance E_55_@_V_149 0.0\n",
      "Name,importance E_55_@_V_150 0.0\n",
      "Name,importance E_55_@_V_151 0.0\n",
      "Name,importance E_55_@_V_152 0.0\n",
      "Name,importance E_55_@_V_164 0.0\n",
      "Name,importance E_55_@_V_168 0.0\n",
      "Name,importance E_55_@_V_169 0.0\n",
      "Name,importance E_55_@_V_172 0.0\n",
      "Name,importance E_55_@_V_173 0.0\n",
      "Name,importance E_55_@_V_18 0.0\n",
      "Name,importance E_55_@_V_23 0.0\n",
      "Name,importance E_55_@_V_24 0.0\n",
      "Name,importance E_55_@_V_31 0.0\n",
      "Name,importance E_55_@_V_38 0.0\n",
      "Name,importance E_55_@_V_43 0.0\n",
      "Name,importance E_55_@_V_44 0.0\n",
      "Name,importance E_55_@_V_45 0.0\n",
      "Name,importance E_55_@_V_46 0.0\n",
      "Name,importance E_55_@_V_47 0.0\n",
      "Name,importance E_55_@_V_48 0.0\n",
      "Name,importance E_55_@_V_51 0.0\n",
      "Name,importance E_55_@_V_52 0.0\n",
      "Name,importance E_55_@_V_65 0.0\n",
      "Name,importance E_55_@_V_72 0.0\n",
      "Name,importance E_55_@_V_73 0.0\n",
      "Name,importance E_55_@_V_85 0.0\n",
      "Name,importance E_57_@_V_159 0.0\n",
      "Name,importance E_57_@_V_160 0.0\n",
      "Name,importance E_57_@_V_171 0.0\n",
      "Name,importance E_6 0.0\n",
      "Name,importance E_64 0.0\n",
      "Name,importance E_73 0.0\n",
      "Name,importance E_74 0.0\n",
      "Name,importance E_75 0.0\n",
      "Name,importance E_8 0.0\n",
      "Name,importance E_83 0.0\n",
      "Name,importance E_84 0.0\n",
      "Name,importance E_90 0.0\n",
      "Name,importance E_96 0.0\n"
     ]
    }
   ],
   "source": [
    "print(\"Raw printout of feature importances.  NOTE the order is the SAME as the order of our features!!\")\n",
    "print(estimator.feature_importances_)\n",
    "print()\n",
    "\n",
    "importanceByName = {}\n",
    "print(\"unsorted importance:\")\n",
    "for name,importance in zip(df.columns[0:-2],estimator.feature_importances_):\n",
    "  importanceByName[name] = importance\n",
    "  print(\"Name,importance\",name,round(importance,3))\n",
    "#\n",
    "# Now sort and print\n",
    "print()\n",
    "print(\"Sorted importance:\")\n",
    "for name in sorted(importanceByName, key=importanceByName.get, reverse=True):\n",
    "  print(\"Name,importance\",name,round(importanceByName[name],3))"
   ]
  },
  {
   "cell_type": "code",
   "execution_count": null,
   "id": "764fdda9-20e7-40d1-b43a-b9848941549e",
   "metadata": {},
   "outputs": [],
   "source": []
  }
 ],
 "metadata": {
  "kernelspec": {
   "display_name": "Python 3 (ipykernel)",
   "language": "python",
   "name": "python3"
  },
  "language_info": {
   "codemirror_mode": {
    "name": "ipython",
    "version": 3
   },
   "file_extension": ".py",
   "mimetype": "text/x-python",
   "name": "python",
   "nbconvert_exporter": "python",
   "pygments_lexer": "ipython3",
   "version": "3.9.12"
  }
 },
 "nbformat": 4,
 "nbformat_minor": 5
}
