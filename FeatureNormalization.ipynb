{
 "cells": [
  {
   "cell_type": "code",
   "execution_count": 1,
   "id": "768e0fcb-b034-4e62-ac6a-c7891bb1f216",
   "metadata": {},
   "outputs": [],
   "source": [
    "import pandas as pd\n",
    "import numpy as np\n",
    "import time\n",
    "import os, psutil\n",
    "import pickle\n",
    "import matplotlib.pyplot as plt\n",
    "import plotly.express as px\n",
    "import plotly.io as pio\n",
    "pio.renderers.default='plotly_mimetype'\n",
    "\n",
    "def printmem():\n",
    "    process = psutil.Process(os.getpid())\n",
    "    print(\"   memory:\",round(process.memory_info().rss/(10**9),3),'Gbytes')  # in bytes \n",
    "\n",
    "from sklearn.utils import shuffle\n",
    "from sklearn.model_selection import train_test_split\n",
    "from sklearn.model_selection import StratifiedKFold\n",
    "from sklearn.ensemble import RandomForestClassifier\n",
    "from sklearn import metrics\n",
    "from sklearn.metrics import auc\n",
    "from sklearn.metrics import classification_report\n",
    "from sklearn.metrics import confusion_matrix,ConfusionMatrixDisplay\n",
    "from tabulate import tabulate\n",
    "\n",
    "from keras import models\n",
    "from keras import layers"
   ]
  },
  {
   "cell_type": "code",
   "execution_count": 2,
   "id": "8c9793c2-31ba-4b92-9ad8-3a5d1f3bc988",
   "metadata": {},
   "outputs": [
    {
     "data": {
      "text/html": [
       "<div>\n",
       "<style scoped>\n",
       "    .dataframe tbody tr th:only-of-type {\n",
       "        vertical-align: middle;\n",
       "    }\n",
       "\n",
       "    .dataframe tbody tr th {\n",
       "        vertical-align: top;\n",
       "    }\n",
       "\n",
       "    .dataframe thead th {\n",
       "        text-align: right;\n",
       "    }\n",
       "</style>\n",
       "<table border=\"1\" class=\"dataframe\">\n",
       "  <thead>\n",
       "    <tr style=\"text-align: right;\">\n",
       "      <th></th>\n",
       "      <th>AGE</th>\n",
       "      <th>DIFFERENTIAL_DIAGNOSIS</th>\n",
       "      <th>SEX</th>\n",
       "      <th>PATHOLOGY</th>\n",
       "      <th>EVIDENCES</th>\n",
       "      <th>INITIAL_EVIDENCE</th>\n",
       "      <th>E_0</th>\n",
       "      <th>E_1</th>\n",
       "      <th>E_10</th>\n",
       "      <th>E_100</th>\n",
       "      <th>...</th>\n",
       "      <th>E_98</th>\n",
       "      <th>E_99</th>\n",
       "      <th>E_132</th>\n",
       "      <th>E_134</th>\n",
       "      <th>E_136</th>\n",
       "      <th>E_56</th>\n",
       "      <th>E_58</th>\n",
       "      <th>E_59</th>\n",
       "      <th>severity</th>\n",
       "      <th>pathoClass</th>\n",
       "    </tr>\n",
       "  </thead>\n",
       "  <tbody>\n",
       "    <tr>\n",
       "      <th>0</th>\n",
       "      <td>18</td>\n",
       "      <td>[['Bronchitis', 0.19171203430383882], ['Pneumo...</td>\n",
       "      <td>M</td>\n",
       "      <td>URTI</td>\n",
       "      <td>['E_48', 'E_50', 'E_53', 'E_54_@_V_161', 'E_54...</td>\n",
       "      <td>E_91</td>\n",
       "      <td>0</td>\n",
       "      <td>0</td>\n",
       "      <td>0</td>\n",
       "      <td>0</td>\n",
       "      <td>...</td>\n",
       "      <td>0</td>\n",
       "      <td>0</td>\n",
       "      <td>-1</td>\n",
       "      <td>-1</td>\n",
       "      <td>-1</td>\n",
       "      <td>4</td>\n",
       "      <td>3</td>\n",
       "      <td>3</td>\n",
       "      <td>5</td>\n",
       "      <td>0</td>\n",
       "    </tr>\n",
       "    <tr>\n",
       "      <th>1</th>\n",
       "      <td>21</td>\n",
       "      <td>[['HIV (initial infection)', 0.518950056440760...</td>\n",
       "      <td>M</td>\n",
       "      <td>HIV (initial infection)</td>\n",
       "      <td>['E_9', 'E_27', 'E_50', 'E_51', 'E_53', 'E_54_...</td>\n",
       "      <td>E_50</td>\n",
       "      <td>0</td>\n",
       "      <td>0</td>\n",
       "      <td>0</td>\n",
       "      <td>0</td>\n",
       "      <td>...</td>\n",
       "      <td>0</td>\n",
       "      <td>0</td>\n",
       "      <td>0</td>\n",
       "      <td>6</td>\n",
       "      <td>0</td>\n",
       "      <td>7</td>\n",
       "      <td>7</td>\n",
       "      <td>2</td>\n",
       "      <td>3</td>\n",
       "      <td>1</td>\n",
       "    </tr>\n",
       "    <tr>\n",
       "      <th>2</th>\n",
       "      <td>19</td>\n",
       "      <td>[['Bronchitis', 0.11278064619119596], ['Pneumo...</td>\n",
       "      <td>F</td>\n",
       "      <td>Pneumonia</td>\n",
       "      <td>['E_53', 'E_54_@_V_179', 'E_54_@_V_192', 'E_55...</td>\n",
       "      <td>E_77</td>\n",
       "      <td>0</td>\n",
       "      <td>0</td>\n",
       "      <td>0</td>\n",
       "      <td>0</td>\n",
       "      <td>...</td>\n",
       "      <td>0</td>\n",
       "      <td>0</td>\n",
       "      <td>4</td>\n",
       "      <td>0</td>\n",
       "      <td>0</td>\n",
       "      <td>5</td>\n",
       "      <td>2</td>\n",
       "      <td>6</td>\n",
       "      <td>3</td>\n",
       "      <td>2</td>\n",
       "    </tr>\n",
       "    <tr>\n",
       "      <th>3</th>\n",
       "      <td>34</td>\n",
       "      <td>[['URTI', 0.23859396799565236], ['Cluster head...</td>\n",
       "      <td>F</td>\n",
       "      <td>URTI</td>\n",
       "      <td>['E_48', 'E_53', 'E_54_@_V_183', 'E_55_@_V_89'...</td>\n",
       "      <td>E_53</td>\n",
       "      <td>0</td>\n",
       "      <td>0</td>\n",
       "      <td>0</td>\n",
       "      <td>0</td>\n",
       "      <td>...</td>\n",
       "      <td>0</td>\n",
       "      <td>0</td>\n",
       "      <td>-1</td>\n",
       "      <td>-1</td>\n",
       "      <td>-1</td>\n",
       "      <td>7</td>\n",
       "      <td>5</td>\n",
       "      <td>4</td>\n",
       "      <td>5</td>\n",
       "      <td>0</td>\n",
       "    </tr>\n",
       "    <tr>\n",
       "      <th>4</th>\n",
       "      <td>36</td>\n",
       "      <td>[['URTI', 0.23677812769175735], ['Influenza', ...</td>\n",
       "      <td>M</td>\n",
       "      <td>URTI</td>\n",
       "      <td>['E_49', 'E_50', 'E_53', 'E_54_@_V_183', 'E_55...</td>\n",
       "      <td>E_201</td>\n",
       "      <td>0</td>\n",
       "      <td>0</td>\n",
       "      <td>0</td>\n",
       "      <td>0</td>\n",
       "      <td>...</td>\n",
       "      <td>0</td>\n",
       "      <td>0</td>\n",
       "      <td>-1</td>\n",
       "      <td>-1</td>\n",
       "      <td>-1</td>\n",
       "      <td>5</td>\n",
       "      <td>4</td>\n",
       "      <td>2</td>\n",
       "      <td>5</td>\n",
       "      <td>0</td>\n",
       "    </tr>\n",
       "  </tbody>\n",
       "</table>\n",
       "<p>5 rows × 468 columns</p>\n",
       "</div>"
      ],
      "text/plain": [
       "   AGE                             DIFFERENTIAL_DIAGNOSIS SEX  \\\n",
       "0   18  [['Bronchitis', 0.19171203430383882], ['Pneumo...   M   \n",
       "1   21  [['HIV (initial infection)', 0.518950056440760...   M   \n",
       "2   19  [['Bronchitis', 0.11278064619119596], ['Pneumo...   F   \n",
       "3   34  [['URTI', 0.23859396799565236], ['Cluster head...   F   \n",
       "4   36  [['URTI', 0.23677812769175735], ['Influenza', ...   M   \n",
       "\n",
       "                 PATHOLOGY                                          EVIDENCES  \\\n",
       "0                     URTI  ['E_48', 'E_50', 'E_53', 'E_54_@_V_161', 'E_54...   \n",
       "1  HIV (initial infection)  ['E_9', 'E_27', 'E_50', 'E_51', 'E_53', 'E_54_...   \n",
       "2                Pneumonia  ['E_53', 'E_54_@_V_179', 'E_54_@_V_192', 'E_55...   \n",
       "3                     URTI  ['E_48', 'E_53', 'E_54_@_V_183', 'E_55_@_V_89'...   \n",
       "4                     URTI  ['E_49', 'E_50', 'E_53', 'E_54_@_V_183', 'E_55...   \n",
       "\n",
       "  INITIAL_EVIDENCE  E_0  E_1  E_10  E_100  ...  E_98  E_99  E_132  E_134  \\\n",
       "0             E_91    0    0     0      0  ...     0     0     -1     -1   \n",
       "1             E_50    0    0     0      0  ...     0     0      0      6   \n",
       "2             E_77    0    0     0      0  ...     0     0      4      0   \n",
       "3             E_53    0    0     0      0  ...     0     0     -1     -1   \n",
       "4            E_201    0    0     0      0  ...     0     0     -1     -1   \n",
       "\n",
       "   E_136  E_56  E_58  E_59  severity  pathoClass  \n",
       "0     -1     4     3     3         5           0  \n",
       "1      0     7     7     2         3           1  \n",
       "2      0     5     2     6         3           2  \n",
       "3     -1     7     5     4         5           0  \n",
       "4     -1     5     4     2         5           0  \n",
       "\n",
       "[5 rows x 468 columns]"
      ]
     },
     "execution_count": 2,
     "metadata": {},
     "output_type": "execute_result"
    }
   ],
   "source": [
    "df = pd.read_csv('train_expand_S_P.zip')\n",
    "df.head()"
   ]
  },
  {
   "cell_type": "code",
   "execution_count": 6,
   "id": "bc73e48f-b647-4926-aa06-414ee297d961",
   "metadata": {},
   "outputs": [],
   "source": [
    "cols_num = ['E_132', 'E_134', 'E_136', 'E_56', 'E_58', 'E_59']"
   ]
  },
  {
   "cell_type": "code",
   "execution_count": 29,
   "id": "82c2d415-162a-49dd-bf17-aaed0e345987",
   "metadata": {},
   "outputs": [],
   "source": [
    "# adjust range of numerical values\n",
    "df[cols_num] = df[cols_num].apply(lambda val: val/10).replace(-0.1, -1)"
   ]
  },
  {
   "cell_type": "code",
   "execution_count": 30,
   "id": "72e9fe78-810b-4910-af71-931d2467ea14",
   "metadata": {},
   "outputs": [],
   "source": [
    "dicMW = {'M': 0, 'F':1}    "
   ]
  },
  {
   "cell_type": "code",
   "execution_count": 32,
   "id": "48e0c8d9-f104-4e50-ab30-b4dbd42a78ed",
   "metadata": {},
   "outputs": [],
   "source": [
    "df['SEX'] = df['SEX'].map(dicMW)"
   ]
  },
  {
   "cell_type": "code",
   "execution_count": 33,
   "id": "7cad3a15-34a7-4b65-a3ef-a73d7c26c3f9",
   "metadata": {},
   "outputs": [
    {
     "data": {
      "text/html": [
       "<div>\n",
       "<style scoped>\n",
       "    .dataframe tbody tr th:only-of-type {\n",
       "        vertical-align: middle;\n",
       "    }\n",
       "\n",
       "    .dataframe tbody tr th {\n",
       "        vertical-align: top;\n",
       "    }\n",
       "\n",
       "    .dataframe thead th {\n",
       "        text-align: right;\n",
       "    }\n",
       "</style>\n",
       "<table border=\"1\" class=\"dataframe\">\n",
       "  <thead>\n",
       "    <tr style=\"text-align: right;\">\n",
       "      <th></th>\n",
       "      <th>AGE</th>\n",
       "      <th>DIFFERENTIAL_DIAGNOSIS</th>\n",
       "      <th>SEX</th>\n",
       "      <th>PATHOLOGY</th>\n",
       "      <th>EVIDENCES</th>\n",
       "      <th>INITIAL_EVIDENCE</th>\n",
       "      <th>E_0</th>\n",
       "      <th>E_1</th>\n",
       "      <th>E_10</th>\n",
       "      <th>E_100</th>\n",
       "      <th>...</th>\n",
       "      <th>E_98</th>\n",
       "      <th>E_99</th>\n",
       "      <th>E_132</th>\n",
       "      <th>E_134</th>\n",
       "      <th>E_136</th>\n",
       "      <th>E_56</th>\n",
       "      <th>E_58</th>\n",
       "      <th>E_59</th>\n",
       "      <th>severity</th>\n",
       "      <th>pathoClass</th>\n",
       "    </tr>\n",
       "  </thead>\n",
       "  <tbody>\n",
       "    <tr>\n",
       "      <th>0</th>\n",
       "      <td>18</td>\n",
       "      <td>[['Bronchitis', 0.19171203430383882], ['Pneumo...</td>\n",
       "      <td>0</td>\n",
       "      <td>URTI</td>\n",
       "      <td>['E_48', 'E_50', 'E_53', 'E_54_@_V_161', 'E_54...</td>\n",
       "      <td>E_91</td>\n",
       "      <td>0</td>\n",
       "      <td>0</td>\n",
       "      <td>0</td>\n",
       "      <td>0</td>\n",
       "      <td>...</td>\n",
       "      <td>0</td>\n",
       "      <td>0</td>\n",
       "      <td>-1.0</td>\n",
       "      <td>-1.0</td>\n",
       "      <td>-1.0</td>\n",
       "      <td>0.4</td>\n",
       "      <td>0.3</td>\n",
       "      <td>0.3</td>\n",
       "      <td>5</td>\n",
       "      <td>0</td>\n",
       "    </tr>\n",
       "    <tr>\n",
       "      <th>1</th>\n",
       "      <td>21</td>\n",
       "      <td>[['HIV (initial infection)', 0.518950056440760...</td>\n",
       "      <td>0</td>\n",
       "      <td>HIV (initial infection)</td>\n",
       "      <td>['E_9', 'E_27', 'E_50', 'E_51', 'E_53', 'E_54_...</td>\n",
       "      <td>E_50</td>\n",
       "      <td>0</td>\n",
       "      <td>0</td>\n",
       "      <td>0</td>\n",
       "      <td>0</td>\n",
       "      <td>...</td>\n",
       "      <td>0</td>\n",
       "      <td>0</td>\n",
       "      <td>0.0</td>\n",
       "      <td>0.6</td>\n",
       "      <td>0.0</td>\n",
       "      <td>0.7</td>\n",
       "      <td>0.7</td>\n",
       "      <td>0.2</td>\n",
       "      <td>3</td>\n",
       "      <td>1</td>\n",
       "    </tr>\n",
       "    <tr>\n",
       "      <th>2</th>\n",
       "      <td>19</td>\n",
       "      <td>[['Bronchitis', 0.11278064619119596], ['Pneumo...</td>\n",
       "      <td>1</td>\n",
       "      <td>Pneumonia</td>\n",
       "      <td>['E_53', 'E_54_@_V_179', 'E_54_@_V_192', 'E_55...</td>\n",
       "      <td>E_77</td>\n",
       "      <td>0</td>\n",
       "      <td>0</td>\n",
       "      <td>0</td>\n",
       "      <td>0</td>\n",
       "      <td>...</td>\n",
       "      <td>0</td>\n",
       "      <td>0</td>\n",
       "      <td>0.4</td>\n",
       "      <td>0.0</td>\n",
       "      <td>0.0</td>\n",
       "      <td>0.5</td>\n",
       "      <td>0.2</td>\n",
       "      <td>0.6</td>\n",
       "      <td>3</td>\n",
       "      <td>2</td>\n",
       "    </tr>\n",
       "    <tr>\n",
       "      <th>3</th>\n",
       "      <td>34</td>\n",
       "      <td>[['URTI', 0.23859396799565236], ['Cluster head...</td>\n",
       "      <td>1</td>\n",
       "      <td>URTI</td>\n",
       "      <td>['E_48', 'E_53', 'E_54_@_V_183', 'E_55_@_V_89'...</td>\n",
       "      <td>E_53</td>\n",
       "      <td>0</td>\n",
       "      <td>0</td>\n",
       "      <td>0</td>\n",
       "      <td>0</td>\n",
       "      <td>...</td>\n",
       "      <td>0</td>\n",
       "      <td>0</td>\n",
       "      <td>-1.0</td>\n",
       "      <td>-1.0</td>\n",
       "      <td>-1.0</td>\n",
       "      <td>0.7</td>\n",
       "      <td>0.5</td>\n",
       "      <td>0.4</td>\n",
       "      <td>5</td>\n",
       "      <td>0</td>\n",
       "    </tr>\n",
       "    <tr>\n",
       "      <th>4</th>\n",
       "      <td>36</td>\n",
       "      <td>[['URTI', 0.23677812769175735], ['Influenza', ...</td>\n",
       "      <td>0</td>\n",
       "      <td>URTI</td>\n",
       "      <td>['E_49', 'E_50', 'E_53', 'E_54_@_V_183', 'E_55...</td>\n",
       "      <td>E_201</td>\n",
       "      <td>0</td>\n",
       "      <td>0</td>\n",
       "      <td>0</td>\n",
       "      <td>0</td>\n",
       "      <td>...</td>\n",
       "      <td>0</td>\n",
       "      <td>0</td>\n",
       "      <td>-1.0</td>\n",
       "      <td>-1.0</td>\n",
       "      <td>-1.0</td>\n",
       "      <td>0.5</td>\n",
       "      <td>0.4</td>\n",
       "      <td>0.2</td>\n",
       "      <td>5</td>\n",
       "      <td>0</td>\n",
       "    </tr>\n",
       "  </tbody>\n",
       "</table>\n",
       "<p>5 rows × 468 columns</p>\n",
       "</div>"
      ],
      "text/plain": [
       "   AGE                             DIFFERENTIAL_DIAGNOSIS  SEX  \\\n",
       "0   18  [['Bronchitis', 0.19171203430383882], ['Pneumo...    0   \n",
       "1   21  [['HIV (initial infection)', 0.518950056440760...    0   \n",
       "2   19  [['Bronchitis', 0.11278064619119596], ['Pneumo...    1   \n",
       "3   34  [['URTI', 0.23859396799565236], ['Cluster head...    1   \n",
       "4   36  [['URTI', 0.23677812769175735], ['Influenza', ...    0   \n",
       "\n",
       "                 PATHOLOGY                                          EVIDENCES  \\\n",
       "0                     URTI  ['E_48', 'E_50', 'E_53', 'E_54_@_V_161', 'E_54...   \n",
       "1  HIV (initial infection)  ['E_9', 'E_27', 'E_50', 'E_51', 'E_53', 'E_54_...   \n",
       "2                Pneumonia  ['E_53', 'E_54_@_V_179', 'E_54_@_V_192', 'E_55...   \n",
       "3                     URTI  ['E_48', 'E_53', 'E_54_@_V_183', 'E_55_@_V_89'...   \n",
       "4                     URTI  ['E_49', 'E_50', 'E_53', 'E_54_@_V_183', 'E_55...   \n",
       "\n",
       "  INITIAL_EVIDENCE  E_0  E_1  E_10  E_100  ...  E_98  E_99  E_132  E_134  \\\n",
       "0             E_91    0    0     0      0  ...     0     0   -1.0   -1.0   \n",
       "1             E_50    0    0     0      0  ...     0     0    0.0    0.6   \n",
       "2             E_77    0    0     0      0  ...     0     0    0.4    0.0   \n",
       "3             E_53    0    0     0      0  ...     0     0   -1.0   -1.0   \n",
       "4            E_201    0    0     0      0  ...     0     0   -1.0   -1.0   \n",
       "\n",
       "   E_136  E_56  E_58  E_59  severity  pathoClass  \n",
       "0   -1.0   0.4   0.3   0.3         5           0  \n",
       "1    0.0   0.7   0.7   0.2         3           1  \n",
       "2    0.0   0.5   0.2   0.6         3           2  \n",
       "3   -1.0   0.7   0.5   0.4         5           0  \n",
       "4   -1.0   0.5   0.4   0.2         5           0  \n",
       "\n",
       "[5 rows x 468 columns]"
      ]
     },
     "execution_count": 33,
     "metadata": {},
     "output_type": "execute_result"
    }
   ],
   "source": [
    "df.head()"
   ]
  },
  {
   "cell_type": "code",
   "execution_count": 35,
   "id": "e4e02a9d-50c8-404a-922a-8dc45806306b",
   "metadata": {},
   "outputs": [],
   "source": [
    "cols_to_exclude = ['DIFFERENTIAL_DIAGNOSIS', 'PATHOLOGY', 'EVIDENCES', 'INITIAL_EVIDENCE']\n",
    "df = df.loc[:, [col for col in df.columns if col not in cols_to_exclude]]"
   ]
  },
  {
   "cell_type": "code",
   "execution_count": 37,
   "id": "888f33db-afe8-4d2e-87bd-41e28606149a",
   "metadata": {},
   "outputs": [],
   "source": [
    "df_sample = df.sample(n=50000, random_state=42)\n",
    "X = df_sample.iloc[:, 0:-2].to_numpy()"
   ]
  },
  {
   "cell_type": "code",
   "execution_count": 38,
   "id": "b7a29316-1c41-4097-8ad4-a1e01a3c1d1c",
   "metadata": {},
   "outputs": [],
   "source": [
    "y = df_sample['severity'].values\n",
    "labels=[1,2,3,4,5]\n",
    "num_classes = len(labels)"
   ]
  },
  {
   "cell_type": "code",
   "execution_count": 60,
   "id": "32b32219-c7bd-4782-95db-476dcc0c7d54",
   "metadata": {},
   "outputs": [],
   "source": [
    "y -= 1 # loss function expected labels in range [0,5), so changing range from 0 to 4 instead of 1 to 5 was easiest fix"
   ]
  },
  {
   "cell_type": "code",
   "execution_count": 61,
   "id": "4156f875-0a8f-40c3-b540-d283085231bc",
   "metadata": {},
   "outputs": [
    {
     "data": {
      "text/plain": [
       "4"
      ]
     },
     "execution_count": 61,
     "metadata": {},
     "output_type": "execute_result"
    }
   ],
   "source": [
    "max(y)"
   ]
  },
  {
   "cell_type": "code",
   "execution_count": 62,
   "id": "4e7f6526-8bfc-4930-bba3-f49a0928a100",
   "metadata": {},
   "outputs": [],
   "source": [
    "X_train, X_test, y_train, y_test = train_test_split(X, y, test_size=0.2, random_state=42, shuffle=True)"
   ]
  },
  {
   "cell_type": "code",
   "execution_count": 46,
   "id": "8a509138-18fe-490b-8332-627ca9e2b82f",
   "metadata": {},
   "outputs": [
    {
     "data": {
      "text/plain": [
       "(10000, 462)"
      ]
     },
     "execution_count": 46,
     "metadata": {},
     "output_type": "execute_result"
    }
   ],
   "source": [
    "X.shape"
   ]
  },
  {
   "cell_type": "markdown",
   "id": "2d760c0f-05b4-42cd-9a3c-c3a779eb2936",
   "metadata": {},
   "source": [
    "## CNN"
   ]
  },
  {
   "cell_type": "code",
   "execution_count": 51,
   "id": "14e1571f-7d67-4213-8cad-fdbba1568f9e",
   "metadata": {},
   "outputs": [
    {
     "name": "stdout",
     "output_type": "stream",
     "text": [
      "Model: \"sequential_2\"\n",
      "_________________________________________________________________\n",
      " Layer (type)                Output Shape              Param #   \n",
      "=================================================================\n",
      " conv1d_4 (Conv1D)           (None, 453, 100)          1100      \n",
      "                                                                 \n",
      " conv1d_5 (Conv1D)           (None, 444, 100)          100100    \n",
      "                                                                 \n",
      " max_pooling1d_1 (MaxPooling  (None, 148, 100)         0         \n",
      " 1D)                                                             \n",
      "                                                                 \n",
      " conv1d_6 (Conv1D)           (None, 139, 80)           80080     \n",
      "                                                                 \n",
      " conv1d_7 (Conv1D)           (None, 130, 80)           64080     \n",
      "                                                                 \n",
      " global_average_pooling1d_1   (None, 80)               0         \n",
      " (GlobalAveragePooling1D)                                        \n",
      "                                                                 \n",
      " dropout_1 (Dropout)         (None, 80)                0         \n",
      "                                                                 \n",
      " dense (Dense)               (None, 5)                 405       \n",
      "                                                                 \n",
      "=================================================================\n",
      "Total params: 245,765\n",
      "Trainable params: 245,765\n",
      "Non-trainable params: 0\n",
      "_________________________________________________________________\n",
      "None\n"
     ]
    }
   ],
   "source": [
    "#\n",
    "# Your code for defining the model\n",
    "#\n",
    "# Define a sequential model as usual\n",
    "model_cnn = models.Sequential()\n",
    "# \n",
    "# Our first layer gets the input from our samples - this is 80 time steps by 3 channels\n",
    "model_cnn.add(layers.Conv1D(100, 10, activation='relu', input_shape=(462,1)))\n",
    "#\n",
    "# Anoth convolutional layer\n",
    "model_cnn.add(layers.Conv1D(100, 10, activation='relu'))\n",
    "#\n",
    "# Max pooling \n",
    "model_cnn.add(layers.MaxPooling1D(3))\n",
    "#\n",
    "# Two more convolutional layers\n",
    "model_cnn.add(layers.Conv1D(80, 10, activation='relu'))\n",
    "model_cnn.add(layers.Conv1D(80, 10, activation='relu'))\n",
    "#\n",
    "# Global average pooling use this instead of \"Flatten\" - it helps reduce overfitting\n",
    "model_cnn.add(layers.GlobalAveragePooling1D())\n",
    "#model_m.add(Flatten())\n",
    "\n",
    "model_cnn.add(layers.Dropout(0.5))\n",
    "\n",
    "model_cnn.add(layers.Dense(num_classes, activation='softmax'))\n",
    "print(model_cnn.summary())"
   ]
  },
  {
   "cell_type": "code",
   "execution_count": 52,
   "id": "e7379959-c45e-45b6-a7bd-554328648aca",
   "metadata": {},
   "outputs": [],
   "source": [
    "from tensorflow import keras"
   ]
  },
  {
   "cell_type": "code",
   "execution_count": 57,
   "id": "c20bbd0f-cdd7-4a71-b9d1-80e77f892b75",
   "metadata": {},
   "outputs": [
    {
     "data": {
      "text/plain": [
       "(2000,)"
      ]
     },
     "execution_count": 57,
     "metadata": {},
     "output_type": "execute_result"
    }
   ],
   "source": [
    "y_test.shape"
   ]
  },
  {
   "cell_type": "code",
   "execution_count": 63,
   "id": "612589ce-0728-463c-a9c2-4e46914dae75",
   "metadata": {},
   "outputs": [
    {
     "name": "stdout",
     "output_type": "stream",
     "text": [
      "Epoch 1/20\n",
      "80/80 [==============================] - 9s 108ms/step - loss: 1.5045 - accuracy: 0.3103 - val_loss: 1.4622 - val_accuracy: 0.3090\n",
      "Epoch 2/20\n",
      "80/80 [==============================] - 8s 106ms/step - loss: 1.4725 - accuracy: 0.3109 - val_loss: 1.4112 - val_accuracy: 0.2885\n",
      "Epoch 3/20\n",
      "80/80 [==============================] - 8s 107ms/step - loss: 1.3798 - accuracy: 0.3716 - val_loss: 1.2841 - val_accuracy: 0.4405\n",
      "Epoch 4/20\n",
      "80/80 [==============================] - 9s 108ms/step - loss: 1.2694 - accuracy: 0.4486 - val_loss: 1.1402 - val_accuracy: 0.5665\n",
      "Epoch 5/20\n",
      "80/80 [==============================] - 8s 106ms/step - loss: 1.1106 - accuracy: 0.5426 - val_loss: 0.9235 - val_accuracy: 0.6680\n",
      "Epoch 6/20\n",
      "80/80 [==============================] - 9s 107ms/step - loss: 0.9290 - accuracy: 0.6363 - val_loss: 0.7383 - val_accuracy: 0.7480\n",
      "Epoch 7/20\n",
      "80/80 [==============================] - 9s 107ms/step - loss: 0.7191 - accuracy: 0.7358 - val_loss: 0.5243 - val_accuracy: 0.8280\n",
      "Epoch 8/20\n",
      "80/80 [==============================] - 8s 107ms/step - loss: 0.5986 - accuracy: 0.7859 - val_loss: 0.4139 - val_accuracy: 0.8670\n",
      "Epoch 9/20\n",
      "80/80 [==============================] - 8s 107ms/step - loss: 0.5167 - accuracy: 0.8173 - val_loss: 0.5494 - val_accuracy: 0.7850\n",
      "Epoch 10/20\n",
      "80/80 [==============================] - 9s 107ms/step - loss: 0.4623 - accuracy: 0.8393 - val_loss: 0.2992 - val_accuracy: 0.9145\n",
      "Epoch 11/20\n",
      "80/80 [==============================] - 8s 107ms/step - loss: 0.3772 - accuracy: 0.8712 - val_loss: 0.2624 - val_accuracy: 0.9195\n",
      "Epoch 12/20\n",
      "80/80 [==============================] - 8s 107ms/step - loss: 0.3334 - accuracy: 0.8876 - val_loss: 0.2174 - val_accuracy: 0.9285\n",
      "Epoch 13/20\n",
      "80/80 [==============================] - 9s 107ms/step - loss: 0.2957 - accuracy: 0.9028 - val_loss: 0.2130 - val_accuracy: 0.9315\n",
      "Epoch 14/20\n",
      "80/80 [==============================] - 8s 107ms/step - loss: 0.2644 - accuracy: 0.9137 - val_loss: 0.1646 - val_accuracy: 0.9520\n",
      "Epoch 15/20\n",
      "80/80 [==============================] - 8s 107ms/step - loss: 0.2446 - accuracy: 0.9199 - val_loss: 0.1378 - val_accuracy: 0.9580\n",
      "Epoch 16/20\n",
      "80/80 [==============================] - 8s 107ms/step - loss: 0.2159 - accuracy: 0.9246 - val_loss: 0.1294 - val_accuracy: 0.9615\n",
      "Epoch 17/20\n",
      "80/80 [==============================] - 9s 107ms/step - loss: 0.1951 - accuracy: 0.9359 - val_loss: 0.1260 - val_accuracy: 0.9645\n",
      "Epoch 18/20\n",
      "80/80 [==============================] - 8s 106ms/step - loss: 0.1774 - accuracy: 0.9436 - val_loss: 0.1253 - val_accuracy: 0.9590\n",
      "Epoch 19/20\n",
      "80/80 [==============================] - 8s 96ms/step - loss: 0.1779 - accuracy: 0.9425 - val_loss: 0.1506 - val_accuracy: 0.9530\n",
      "Epoch 20/20\n",
      "80/80 [==============================] - 8s 97ms/step - loss: 0.1639 - accuracy: 0.9480 - val_loss: 0.0964 - val_accuracy: 0.9710\n",
      "Done!\n",
      "Best validation accuracy is: 0.9710000157356262\n"
     ]
    }
   ],
   "source": [
    "patience = 5\n",
    "callbacks_list = [\n",
    "    keras.callbacks.ModelCheckpoint(\n",
    "        filepath='model_cnn01.h5',\n",
    "        monitor='val_loss', save_best_only=True),\n",
    "    keras.callbacks.EarlyStopping(monitor='val_loss', patience=patience)\n",
    "]\n",
    "\n",
    "model_cnn.compile(loss='sparse_categorical_crossentropy',\n",
    "                optimizer='adam', metrics=['accuracy'])\n",
    "\n",
    "BATCH_SIZE = 100\n",
    "EPOCHS = 20\n",
    "\n",
    "#\n",
    "# Now fit\n",
    "history = model_cnn.fit(X_train,y_train,\n",
    "                      batch_size=BATCH_SIZE,\n",
    "                      epochs=EPOCHS,\n",
    "                      callbacks=callbacks_list,\n",
    "                      validation_data=(X_test, y_test),\n",
    "                      verbose=1)\n",
    "print(\"Done!\")\n",
    "best_val_acc =  max(history.history['val_accuracy'])\n",
    "print(\"Best validation accuracy is:\",best_val_acc)"
   ]
  },
  {
   "cell_type": "code",
   "execution_count": 64,
   "id": "9ff84be2-164c-4276-986f-7af7e748bb44",
   "metadata": {},
   "outputs": [
    {
     "name": "stdout",
     "output_type": "stream",
     "text": [
      "Number of iterations: 20\n"
     ]
    },
    {
     "data": {
      "text/html": [
       "<style type=\"text/css\">\n",
       "</style>\n",
       "<table id=\"T_e9d66\">\n",
       "  <thead>\n",
       "    <tr>\n",
       "      <th class=\"blank level0\" >&nbsp;</th>\n",
       "      <th id=\"T_e9d66_level0_col0\" class=\"col_heading level0 col0\" >accuracy</th>\n",
       "      <th id=\"T_e9d66_level0_col1\" class=\"col_heading level0 col1\" >loss</th>\n",
       "      <th id=\"T_e9d66_level0_col2\" class=\"col_heading level0 col2\" >val_accuracy</th>\n",
       "      <th id=\"T_e9d66_level0_col3\" class=\"col_heading level0 col3\" >val_loss</th>\n",
       "      <th id=\"T_e9d66_level0_col4\" class=\"col_heading level0 col4\" >iteration</th>\n",
       "    </tr>\n",
       "  </thead>\n",
       "  <tbody>\n",
       "    <tr>\n",
       "      <th id=\"T_e9d66_level0_row0\" class=\"row_heading level0 row0\" >0</th>\n",
       "      <td id=\"T_e9d66_row0_col0\" class=\"data row0 col0\" >0.310250</td>\n",
       "      <td id=\"T_e9d66_row0_col1\" class=\"data row0 col1\" >1.504513</td>\n",
       "      <td id=\"T_e9d66_row0_col2\" class=\"data row0 col2\" >0.309000</td>\n",
       "      <td id=\"T_e9d66_row0_col3\" class=\"data row0 col3\" >1.462250</td>\n",
       "      <td id=\"T_e9d66_row0_col4\" class=\"data row0 col4\" >0</td>\n",
       "    </tr>\n",
       "    <tr>\n",
       "      <th id=\"T_e9d66_level0_row1\" class=\"row_heading level0 row1\" >1</th>\n",
       "      <td id=\"T_e9d66_row1_col0\" class=\"data row1 col0\" >0.310875</td>\n",
       "      <td id=\"T_e9d66_row1_col1\" class=\"data row1 col1\" >1.472474</td>\n",
       "      <td id=\"T_e9d66_row1_col2\" class=\"data row1 col2\" >0.288500</td>\n",
       "      <td id=\"T_e9d66_row1_col3\" class=\"data row1 col3\" >1.411178</td>\n",
       "      <td id=\"T_e9d66_row1_col4\" class=\"data row1 col4\" >1</td>\n",
       "    </tr>\n",
       "    <tr>\n",
       "      <th id=\"T_e9d66_level0_row2\" class=\"row_heading level0 row2\" >2</th>\n",
       "      <td id=\"T_e9d66_row2_col0\" class=\"data row2 col0\" >0.371625</td>\n",
       "      <td id=\"T_e9d66_row2_col1\" class=\"data row2 col1\" >1.379806</td>\n",
       "      <td id=\"T_e9d66_row2_col2\" class=\"data row2 col2\" >0.440500</td>\n",
       "      <td id=\"T_e9d66_row2_col3\" class=\"data row2 col3\" >1.284141</td>\n",
       "      <td id=\"T_e9d66_row2_col4\" class=\"data row2 col4\" >2</td>\n",
       "    </tr>\n",
       "    <tr>\n",
       "      <th id=\"T_e9d66_level0_row3\" class=\"row_heading level0 row3\" >3</th>\n",
       "      <td id=\"T_e9d66_row3_col0\" class=\"data row3 col0\" >0.448625</td>\n",
       "      <td id=\"T_e9d66_row3_col1\" class=\"data row3 col1\" >1.269372</td>\n",
       "      <td id=\"T_e9d66_row3_col2\" class=\"data row3 col2\" >0.566500</td>\n",
       "      <td id=\"T_e9d66_row3_col3\" class=\"data row3 col3\" >1.140183</td>\n",
       "      <td id=\"T_e9d66_row3_col4\" class=\"data row3 col4\" >3</td>\n",
       "    </tr>\n",
       "    <tr>\n",
       "      <th id=\"T_e9d66_level0_row4\" class=\"row_heading level0 row4\" >4</th>\n",
       "      <td id=\"T_e9d66_row4_col0\" class=\"data row4 col0\" >0.542625</td>\n",
       "      <td id=\"T_e9d66_row4_col1\" class=\"data row4 col1\" >1.110571</td>\n",
       "      <td id=\"T_e9d66_row4_col2\" class=\"data row4 col2\" >0.668000</td>\n",
       "      <td id=\"T_e9d66_row4_col3\" class=\"data row4 col3\" >0.923483</td>\n",
       "      <td id=\"T_e9d66_row4_col4\" class=\"data row4 col4\" >4</td>\n",
       "    </tr>\n",
       "    <tr>\n",
       "      <th id=\"T_e9d66_level0_row5\" class=\"row_heading level0 row5\" >5</th>\n",
       "      <td id=\"T_e9d66_row5_col0\" class=\"data row5 col0\" >0.636250</td>\n",
       "      <td id=\"T_e9d66_row5_col1\" class=\"data row5 col1\" >0.928986</td>\n",
       "      <td id=\"T_e9d66_row5_col2\" class=\"data row5 col2\" >0.748000</td>\n",
       "      <td id=\"T_e9d66_row5_col3\" class=\"data row5 col3\" >0.738330</td>\n",
       "      <td id=\"T_e9d66_row5_col4\" class=\"data row5 col4\" >5</td>\n",
       "    </tr>\n",
       "    <tr>\n",
       "      <th id=\"T_e9d66_level0_row6\" class=\"row_heading level0 row6\" >6</th>\n",
       "      <td id=\"T_e9d66_row6_col0\" class=\"data row6 col0\" >0.735750</td>\n",
       "      <td id=\"T_e9d66_row6_col1\" class=\"data row6 col1\" >0.719066</td>\n",
       "      <td id=\"T_e9d66_row6_col2\" class=\"data row6 col2\" >0.828000</td>\n",
       "      <td id=\"T_e9d66_row6_col3\" class=\"data row6 col3\" >0.524300</td>\n",
       "      <td id=\"T_e9d66_row6_col4\" class=\"data row6 col4\" >6</td>\n",
       "    </tr>\n",
       "    <tr>\n",
       "      <th id=\"T_e9d66_level0_row7\" class=\"row_heading level0 row7\" >7</th>\n",
       "      <td id=\"T_e9d66_row7_col0\" class=\"data row7 col0\" >0.785875</td>\n",
       "      <td id=\"T_e9d66_row7_col1\" class=\"data row7 col1\" >0.598642</td>\n",
       "      <td id=\"T_e9d66_row7_col2\" class=\"data row7 col2\" >0.867000</td>\n",
       "      <td id=\"T_e9d66_row7_col3\" class=\"data row7 col3\" >0.413926</td>\n",
       "      <td id=\"T_e9d66_row7_col4\" class=\"data row7 col4\" >7</td>\n",
       "    </tr>\n",
       "    <tr>\n",
       "      <th id=\"T_e9d66_level0_row8\" class=\"row_heading level0 row8\" >8</th>\n",
       "      <td id=\"T_e9d66_row8_col0\" class=\"data row8 col0\" >0.817250</td>\n",
       "      <td id=\"T_e9d66_row8_col1\" class=\"data row8 col1\" >0.516720</td>\n",
       "      <td id=\"T_e9d66_row8_col2\" class=\"data row8 col2\" >0.785000</td>\n",
       "      <td id=\"T_e9d66_row8_col3\" class=\"data row8 col3\" >0.549404</td>\n",
       "      <td id=\"T_e9d66_row8_col4\" class=\"data row8 col4\" >8</td>\n",
       "    </tr>\n",
       "    <tr>\n",
       "      <th id=\"T_e9d66_level0_row9\" class=\"row_heading level0 row9\" >9</th>\n",
       "      <td id=\"T_e9d66_row9_col0\" class=\"data row9 col0\" >0.839250</td>\n",
       "      <td id=\"T_e9d66_row9_col1\" class=\"data row9 col1\" >0.462280</td>\n",
       "      <td id=\"T_e9d66_row9_col2\" class=\"data row9 col2\" >0.914500</td>\n",
       "      <td id=\"T_e9d66_row9_col3\" class=\"data row9 col3\" >0.299243</td>\n",
       "      <td id=\"T_e9d66_row9_col4\" class=\"data row9 col4\" >9</td>\n",
       "    </tr>\n",
       "    <tr>\n",
       "      <th id=\"T_e9d66_level0_row10\" class=\"row_heading level0 row10\" >10</th>\n",
       "      <td id=\"T_e9d66_row10_col0\" class=\"data row10 col0\" >0.871250</td>\n",
       "      <td id=\"T_e9d66_row10_col1\" class=\"data row10 col1\" >0.377177</td>\n",
       "      <td id=\"T_e9d66_row10_col2\" class=\"data row10 col2\" >0.919500</td>\n",
       "      <td id=\"T_e9d66_row10_col3\" class=\"data row10 col3\" >0.262439</td>\n",
       "      <td id=\"T_e9d66_row10_col4\" class=\"data row10 col4\" >10</td>\n",
       "    </tr>\n",
       "    <tr>\n",
       "      <th id=\"T_e9d66_level0_row11\" class=\"row_heading level0 row11\" >11</th>\n",
       "      <td id=\"T_e9d66_row11_col0\" class=\"data row11 col0\" >0.887625</td>\n",
       "      <td id=\"T_e9d66_row11_col1\" class=\"data row11 col1\" >0.333403</td>\n",
       "      <td id=\"T_e9d66_row11_col2\" class=\"data row11 col2\" >0.928500</td>\n",
       "      <td id=\"T_e9d66_row11_col3\" class=\"data row11 col3\" >0.217390</td>\n",
       "      <td id=\"T_e9d66_row11_col4\" class=\"data row11 col4\" >11</td>\n",
       "    </tr>\n",
       "    <tr>\n",
       "      <th id=\"T_e9d66_level0_row12\" class=\"row_heading level0 row12\" >12</th>\n",
       "      <td id=\"T_e9d66_row12_col0\" class=\"data row12 col0\" >0.902750</td>\n",
       "      <td id=\"T_e9d66_row12_col1\" class=\"data row12 col1\" >0.295721</td>\n",
       "      <td id=\"T_e9d66_row12_col2\" class=\"data row12 col2\" >0.931500</td>\n",
       "      <td id=\"T_e9d66_row12_col3\" class=\"data row12 col3\" >0.212973</td>\n",
       "      <td id=\"T_e9d66_row12_col4\" class=\"data row12 col4\" >12</td>\n",
       "    </tr>\n",
       "    <tr>\n",
       "      <th id=\"T_e9d66_level0_row13\" class=\"row_heading level0 row13\" >13</th>\n",
       "      <td id=\"T_e9d66_row13_col0\" class=\"data row13 col0\" >0.913750</td>\n",
       "      <td id=\"T_e9d66_row13_col1\" class=\"data row13 col1\" >0.264390</td>\n",
       "      <td id=\"T_e9d66_row13_col2\" class=\"data row13 col2\" >0.952000</td>\n",
       "      <td id=\"T_e9d66_row13_col3\" class=\"data row13 col3\" >0.164595</td>\n",
       "      <td id=\"T_e9d66_row13_col4\" class=\"data row13 col4\" >13</td>\n",
       "    </tr>\n",
       "    <tr>\n",
       "      <th id=\"T_e9d66_level0_row14\" class=\"row_heading level0 row14\" >14</th>\n",
       "      <td id=\"T_e9d66_row14_col0\" class=\"data row14 col0\" >0.919875</td>\n",
       "      <td id=\"T_e9d66_row14_col1\" class=\"data row14 col1\" >0.244576</td>\n",
       "      <td id=\"T_e9d66_row14_col2\" class=\"data row14 col2\" >0.958000</td>\n",
       "      <td id=\"T_e9d66_row14_col3\" class=\"data row14 col3\" >0.137785</td>\n",
       "      <td id=\"T_e9d66_row14_col4\" class=\"data row14 col4\" >14</td>\n",
       "    </tr>\n",
       "    <tr>\n",
       "      <th id=\"T_e9d66_level0_row15\" class=\"row_heading level0 row15\" >15</th>\n",
       "      <td id=\"T_e9d66_row15_col0\" class=\"data row15 col0\" >0.924625</td>\n",
       "      <td id=\"T_e9d66_row15_col1\" class=\"data row15 col1\" >0.215873</td>\n",
       "      <td id=\"T_e9d66_row15_col2\" class=\"data row15 col2\" >0.961500</td>\n",
       "      <td id=\"T_e9d66_row15_col3\" class=\"data row15 col3\" >0.129417</td>\n",
       "      <td id=\"T_e9d66_row15_col4\" class=\"data row15 col4\" >15</td>\n",
       "    </tr>\n",
       "    <tr>\n",
       "      <th id=\"T_e9d66_level0_row16\" class=\"row_heading level0 row16\" >16</th>\n",
       "      <td id=\"T_e9d66_row16_col0\" class=\"data row16 col0\" >0.935875</td>\n",
       "      <td id=\"T_e9d66_row16_col1\" class=\"data row16 col1\" >0.195100</td>\n",
       "      <td id=\"T_e9d66_row16_col2\" class=\"data row16 col2\" >0.964500</td>\n",
       "      <td id=\"T_e9d66_row16_col3\" class=\"data row16 col3\" >0.126017</td>\n",
       "      <td id=\"T_e9d66_row16_col4\" class=\"data row16 col4\" >16</td>\n",
       "    </tr>\n",
       "    <tr>\n",
       "      <th id=\"T_e9d66_level0_row17\" class=\"row_heading level0 row17\" >17</th>\n",
       "      <td id=\"T_e9d66_row17_col0\" class=\"data row17 col0\" >0.943625</td>\n",
       "      <td id=\"T_e9d66_row17_col1\" class=\"data row17 col1\" >0.177400</td>\n",
       "      <td id=\"T_e9d66_row17_col2\" class=\"data row17 col2\" >0.959000</td>\n",
       "      <td id=\"T_e9d66_row17_col3\" class=\"data row17 col3\" >0.125330</td>\n",
       "      <td id=\"T_e9d66_row17_col4\" class=\"data row17 col4\" >17</td>\n",
       "    </tr>\n",
       "    <tr>\n",
       "      <th id=\"T_e9d66_level0_row18\" class=\"row_heading level0 row18\" >18</th>\n",
       "      <td id=\"T_e9d66_row18_col0\" class=\"data row18 col0\" >0.942500</td>\n",
       "      <td id=\"T_e9d66_row18_col1\" class=\"data row18 col1\" >0.177922</td>\n",
       "      <td id=\"T_e9d66_row18_col2\" class=\"data row18 col2\" >0.953000</td>\n",
       "      <td id=\"T_e9d66_row18_col3\" class=\"data row18 col3\" >0.150605</td>\n",
       "      <td id=\"T_e9d66_row18_col4\" class=\"data row18 col4\" >18</td>\n",
       "    </tr>\n",
       "    <tr>\n",
       "      <th id=\"T_e9d66_level0_row19\" class=\"row_heading level0 row19\" >19</th>\n",
       "      <td id=\"T_e9d66_row19_col0\" class=\"data row19 col0\" >0.948000</td>\n",
       "      <td id=\"T_e9d66_row19_col1\" class=\"data row19 col1\" >0.163898</td>\n",
       "      <td id=\"T_e9d66_row19_col2\" class=\"data row19 col2\" >0.971000</td>\n",
       "      <td id=\"T_e9d66_row19_col3\" class=\"data row19 col3\" >0.096449</td>\n",
       "      <td id=\"T_e9d66_row19_col4\" class=\"data row19 col4\" >19</td>\n",
       "    </tr>\n",
       "  </tbody>\n",
       "</table>\n"
      ],
      "text/plain": [
       "<pandas.io.formats.style.Styler at 0x7fad0453f370>"
      ]
     },
     "metadata": {},
     "output_type": "display_data"
    },
    {
     "data": {
      "application/vnd.plotly.v1+json": {
       "config": {
        "plotlyServerURL": "https://plot.ly"
       },
       "data": [
        {
         "hovertemplate": "variable=accuracy<br>iteration=%{x}<br>value=%{y}<extra></extra>",
         "legendgroup": "accuracy",
         "line": {
          "color": "#636efa",
          "dash": "solid"
         },
         "marker": {
          "symbol": "circle"
         },
         "mode": "lines",
         "name": "accuracy",
         "orientation": "v",
         "showlegend": true,
         "type": "scatter",
         "x": [
          0,
          1,
          2,
          3,
          4,
          5,
          6,
          7,
          8,
          9,
          10,
          11,
          12,
          13,
          14,
          15,
          16,
          17,
          18,
          19
         ],
         "xaxis": "x",
         "y": [
          0.31025001406669617,
          0.3108749985694885,
          0.37162500619888306,
          0.44862499833106995,
          0.5426250100135803,
          0.6362500190734863,
          0.7357500195503235,
          0.7858750224113464,
          0.8172500133514404,
          0.8392500281333923,
          0.8712499737739563,
          0.887624979019165,
          0.9027500152587891,
          0.9137499928474426,
          0.9198750257492065,
          0.9246249794960022,
          0.9358749985694885,
          0.9436249732971191,
          0.9424999952316284,
          0.9480000138282776
         ],
         "yaxis": "y"
        },
        {
         "hovertemplate": "variable=val_accuracy<br>iteration=%{x}<br>value=%{y}<extra></extra>",
         "legendgroup": "val_accuracy",
         "line": {
          "color": "#EF553B",
          "dash": "solid"
         },
         "marker": {
          "symbol": "circle"
         },
         "mode": "lines",
         "name": "val_accuracy",
         "orientation": "v",
         "showlegend": true,
         "type": "scatter",
         "x": [
          0,
          1,
          2,
          3,
          4,
          5,
          6,
          7,
          8,
          9,
          10,
          11,
          12,
          13,
          14,
          15,
          16,
          17,
          18,
          19
         ],
         "xaxis": "x",
         "y": [
          0.3089999854564667,
          0.28850001096725464,
          0.4404999911785126,
          0.5665000081062317,
          0.6679999828338623,
          0.7480000257492065,
          0.828000009059906,
          0.8669999837875366,
          0.7850000262260437,
          0.9144999980926514,
          0.9194999933242798,
          0.9284999966621399,
          0.9315000176429749,
          0.9520000219345093,
          0.9580000042915344,
          0.9614999890327454,
          0.9645000100135803,
          0.9589999914169312,
          0.953000009059906,
          0.9710000157356262
         ],
         "yaxis": "y"
        }
       ],
       "layout": {
        "autosize": true,
        "legend": {
         "title": {
          "text": "variable"
         },
         "tracegroupgap": 0
        },
        "template": {
         "data": {
          "bar": [
           {
            "error_x": {
             "color": "#2a3f5f"
            },
            "error_y": {
             "color": "#2a3f5f"
            },
            "marker": {
             "line": {
              "color": "#E5ECF6",
              "width": 0.5
             },
             "pattern": {
              "fillmode": "overlay",
              "size": 10,
              "solidity": 0.2
             }
            },
            "type": "bar"
           }
          ],
          "barpolar": [
           {
            "marker": {
             "line": {
              "color": "#E5ECF6",
              "width": 0.5
             },
             "pattern": {
              "fillmode": "overlay",
              "size": 10,
              "solidity": 0.2
             }
            },
            "type": "barpolar"
           }
          ],
          "carpet": [
           {
            "aaxis": {
             "endlinecolor": "#2a3f5f",
             "gridcolor": "white",
             "linecolor": "white",
             "minorgridcolor": "white",
             "startlinecolor": "#2a3f5f"
            },
            "baxis": {
             "endlinecolor": "#2a3f5f",
             "gridcolor": "white",
             "linecolor": "white",
             "minorgridcolor": "white",
             "startlinecolor": "#2a3f5f"
            },
            "type": "carpet"
           }
          ],
          "choropleth": [
           {
            "colorbar": {
             "outlinewidth": 0,
             "ticks": ""
            },
            "type": "choropleth"
           }
          ],
          "contour": [
           {
            "colorbar": {
             "outlinewidth": 0,
             "ticks": ""
            },
            "colorscale": [
             [
              0,
              "#0d0887"
             ],
             [
              0.1111111111111111,
              "#46039f"
             ],
             [
              0.2222222222222222,
              "#7201a8"
             ],
             [
              0.3333333333333333,
              "#9c179e"
             ],
             [
              0.4444444444444444,
              "#bd3786"
             ],
             [
              0.5555555555555556,
              "#d8576b"
             ],
             [
              0.6666666666666666,
              "#ed7953"
             ],
             [
              0.7777777777777778,
              "#fb9f3a"
             ],
             [
              0.8888888888888888,
              "#fdca26"
             ],
             [
              1,
              "#f0f921"
             ]
            ],
            "type": "contour"
           }
          ],
          "contourcarpet": [
           {
            "colorbar": {
             "outlinewidth": 0,
             "ticks": ""
            },
            "type": "contourcarpet"
           }
          ],
          "heatmap": [
           {
            "colorbar": {
             "outlinewidth": 0,
             "ticks": ""
            },
            "colorscale": [
             [
              0,
              "#0d0887"
             ],
             [
              0.1111111111111111,
              "#46039f"
             ],
             [
              0.2222222222222222,
              "#7201a8"
             ],
             [
              0.3333333333333333,
              "#9c179e"
             ],
             [
              0.4444444444444444,
              "#bd3786"
             ],
             [
              0.5555555555555556,
              "#d8576b"
             ],
             [
              0.6666666666666666,
              "#ed7953"
             ],
             [
              0.7777777777777778,
              "#fb9f3a"
             ],
             [
              0.8888888888888888,
              "#fdca26"
             ],
             [
              1,
              "#f0f921"
             ]
            ],
            "type": "heatmap"
           }
          ],
          "heatmapgl": [
           {
            "colorbar": {
             "outlinewidth": 0,
             "ticks": ""
            },
            "colorscale": [
             [
              0,
              "#0d0887"
             ],
             [
              0.1111111111111111,
              "#46039f"
             ],
             [
              0.2222222222222222,
              "#7201a8"
             ],
             [
              0.3333333333333333,
              "#9c179e"
             ],
             [
              0.4444444444444444,
              "#bd3786"
             ],
             [
              0.5555555555555556,
              "#d8576b"
             ],
             [
              0.6666666666666666,
              "#ed7953"
             ],
             [
              0.7777777777777778,
              "#fb9f3a"
             ],
             [
              0.8888888888888888,
              "#fdca26"
             ],
             [
              1,
              "#f0f921"
             ]
            ],
            "type": "heatmapgl"
           }
          ],
          "histogram": [
           {
            "marker": {
             "pattern": {
              "fillmode": "overlay",
              "size": 10,
              "solidity": 0.2
             }
            },
            "type": "histogram"
           }
          ],
          "histogram2d": [
           {
            "colorbar": {
             "outlinewidth": 0,
             "ticks": ""
            },
            "colorscale": [
             [
              0,
              "#0d0887"
             ],
             [
              0.1111111111111111,
              "#46039f"
             ],
             [
              0.2222222222222222,
              "#7201a8"
             ],
             [
              0.3333333333333333,
              "#9c179e"
             ],
             [
              0.4444444444444444,
              "#bd3786"
             ],
             [
              0.5555555555555556,
              "#d8576b"
             ],
             [
              0.6666666666666666,
              "#ed7953"
             ],
             [
              0.7777777777777778,
              "#fb9f3a"
             ],
             [
              0.8888888888888888,
              "#fdca26"
             ],
             [
              1,
              "#f0f921"
             ]
            ],
            "type": "histogram2d"
           }
          ],
          "histogram2dcontour": [
           {
            "colorbar": {
             "outlinewidth": 0,
             "ticks": ""
            },
            "colorscale": [
             [
              0,
              "#0d0887"
             ],
             [
              0.1111111111111111,
              "#46039f"
             ],
             [
              0.2222222222222222,
              "#7201a8"
             ],
             [
              0.3333333333333333,
              "#9c179e"
             ],
             [
              0.4444444444444444,
              "#bd3786"
             ],
             [
              0.5555555555555556,
              "#d8576b"
             ],
             [
              0.6666666666666666,
              "#ed7953"
             ],
             [
              0.7777777777777778,
              "#fb9f3a"
             ],
             [
              0.8888888888888888,
              "#fdca26"
             ],
             [
              1,
              "#f0f921"
             ]
            ],
            "type": "histogram2dcontour"
           }
          ],
          "mesh3d": [
           {
            "colorbar": {
             "outlinewidth": 0,
             "ticks": ""
            },
            "type": "mesh3d"
           }
          ],
          "parcoords": [
           {
            "line": {
             "colorbar": {
              "outlinewidth": 0,
              "ticks": ""
             }
            },
            "type": "parcoords"
           }
          ],
          "pie": [
           {
            "automargin": true,
            "type": "pie"
           }
          ],
          "scatter": [
           {
            "fillpattern": {
             "fillmode": "overlay",
             "size": 10,
             "solidity": 0.2
            },
            "type": "scatter"
           }
          ],
          "scatter3d": [
           {
            "line": {
             "colorbar": {
              "outlinewidth": 0,
              "ticks": ""
             }
            },
            "marker": {
             "colorbar": {
              "outlinewidth": 0,
              "ticks": ""
             }
            },
            "type": "scatter3d"
           }
          ],
          "scattercarpet": [
           {
            "marker": {
             "colorbar": {
              "outlinewidth": 0,
              "ticks": ""
             }
            },
            "type": "scattercarpet"
           }
          ],
          "scattergeo": [
           {
            "marker": {
             "colorbar": {
              "outlinewidth": 0,
              "ticks": ""
             }
            },
            "type": "scattergeo"
           }
          ],
          "scattergl": [
           {
            "marker": {
             "colorbar": {
              "outlinewidth": 0,
              "ticks": ""
             }
            },
            "type": "scattergl"
           }
          ],
          "scattermapbox": [
           {
            "marker": {
             "colorbar": {
              "outlinewidth": 0,
              "ticks": ""
             }
            },
            "type": "scattermapbox"
           }
          ],
          "scatterpolar": [
           {
            "marker": {
             "colorbar": {
              "outlinewidth": 0,
              "ticks": ""
             }
            },
            "type": "scatterpolar"
           }
          ],
          "scatterpolargl": [
           {
            "marker": {
             "colorbar": {
              "outlinewidth": 0,
              "ticks": ""
             }
            },
            "type": "scatterpolargl"
           }
          ],
          "scatterternary": [
           {
            "marker": {
             "colorbar": {
              "outlinewidth": 0,
              "ticks": ""
             }
            },
            "type": "scatterternary"
           }
          ],
          "surface": [
           {
            "colorbar": {
             "outlinewidth": 0,
             "ticks": ""
            },
            "colorscale": [
             [
              0,
              "#0d0887"
             ],
             [
              0.1111111111111111,
              "#46039f"
             ],
             [
              0.2222222222222222,
              "#7201a8"
             ],
             [
              0.3333333333333333,
              "#9c179e"
             ],
             [
              0.4444444444444444,
              "#bd3786"
             ],
             [
              0.5555555555555556,
              "#d8576b"
             ],
             [
              0.6666666666666666,
              "#ed7953"
             ],
             [
              0.7777777777777778,
              "#fb9f3a"
             ],
             [
              0.8888888888888888,
              "#fdca26"
             ],
             [
              1,
              "#f0f921"
             ]
            ],
            "type": "surface"
           }
          ],
          "table": [
           {
            "cells": {
             "fill": {
              "color": "#EBF0F8"
             },
             "line": {
              "color": "white"
             }
            },
            "header": {
             "fill": {
              "color": "#C8D4E3"
             },
             "line": {
              "color": "white"
             }
            },
            "type": "table"
           }
          ]
         },
         "layout": {
          "annotationdefaults": {
           "arrowcolor": "#2a3f5f",
           "arrowhead": 0,
           "arrowwidth": 1
          },
          "autotypenumbers": "strict",
          "coloraxis": {
           "colorbar": {
            "outlinewidth": 0,
            "ticks": ""
           }
          },
          "colorscale": {
           "diverging": [
            [
             0,
             "#8e0152"
            ],
            [
             0.1,
             "#c51b7d"
            ],
            [
             0.2,
             "#de77ae"
            ],
            [
             0.3,
             "#f1b6da"
            ],
            [
             0.4,
             "#fde0ef"
            ],
            [
             0.5,
             "#f7f7f7"
            ],
            [
             0.6,
             "#e6f5d0"
            ],
            [
             0.7,
             "#b8e186"
            ],
            [
             0.8,
             "#7fbc41"
            ],
            [
             0.9,
             "#4d9221"
            ],
            [
             1,
             "#276419"
            ]
           ],
           "sequential": [
            [
             0,
             "#0d0887"
            ],
            [
             0.1111111111111111,
             "#46039f"
            ],
            [
             0.2222222222222222,
             "#7201a8"
            ],
            [
             0.3333333333333333,
             "#9c179e"
            ],
            [
             0.4444444444444444,
             "#bd3786"
            ],
            [
             0.5555555555555556,
             "#d8576b"
            ],
            [
             0.6666666666666666,
             "#ed7953"
            ],
            [
             0.7777777777777778,
             "#fb9f3a"
            ],
            [
             0.8888888888888888,
             "#fdca26"
            ],
            [
             1,
             "#f0f921"
            ]
           ],
           "sequentialminus": [
            [
             0,
             "#0d0887"
            ],
            [
             0.1111111111111111,
             "#46039f"
            ],
            [
             0.2222222222222222,
             "#7201a8"
            ],
            [
             0.3333333333333333,
             "#9c179e"
            ],
            [
             0.4444444444444444,
             "#bd3786"
            ],
            [
             0.5555555555555556,
             "#d8576b"
            ],
            [
             0.6666666666666666,
             "#ed7953"
            ],
            [
             0.7777777777777778,
             "#fb9f3a"
            ],
            [
             0.8888888888888888,
             "#fdca26"
            ],
            [
             1,
             "#f0f921"
            ]
           ]
          },
          "colorway": [
           "#636efa",
           "#EF553B",
           "#00cc96",
           "#ab63fa",
           "#FFA15A",
           "#19d3f3",
           "#FF6692",
           "#B6E880",
           "#FF97FF",
           "#FECB52"
          ],
          "font": {
           "color": "#2a3f5f"
          },
          "geo": {
           "bgcolor": "white",
           "lakecolor": "white",
           "landcolor": "#E5ECF6",
           "showlakes": true,
           "showland": true,
           "subunitcolor": "white"
          },
          "hoverlabel": {
           "align": "left"
          },
          "hovermode": "closest",
          "mapbox": {
           "style": "light"
          },
          "paper_bgcolor": "white",
          "plot_bgcolor": "#E5ECF6",
          "polar": {
           "angularaxis": {
            "gridcolor": "white",
            "linecolor": "white",
            "ticks": ""
           },
           "bgcolor": "#E5ECF6",
           "radialaxis": {
            "gridcolor": "white",
            "linecolor": "white",
            "ticks": ""
           }
          },
          "scene": {
           "xaxis": {
            "backgroundcolor": "#E5ECF6",
            "gridcolor": "white",
            "gridwidth": 2,
            "linecolor": "white",
            "showbackground": true,
            "ticks": "",
            "zerolinecolor": "white"
           },
           "yaxis": {
            "backgroundcolor": "#E5ECF6",
            "gridcolor": "white",
            "gridwidth": 2,
            "linecolor": "white",
            "showbackground": true,
            "ticks": "",
            "zerolinecolor": "white"
           },
           "zaxis": {
            "backgroundcolor": "#E5ECF6",
            "gridcolor": "white",
            "gridwidth": 2,
            "linecolor": "white",
            "showbackground": true,
            "ticks": "",
            "zerolinecolor": "white"
           }
          },
          "shapedefaults": {
           "line": {
            "color": "#2a3f5f"
           }
          },
          "ternary": {
           "aaxis": {
            "gridcolor": "white",
            "linecolor": "white",
            "ticks": ""
           },
           "baxis": {
            "gridcolor": "white",
            "linecolor": "white",
            "ticks": ""
           },
           "bgcolor": "#E5ECF6",
           "caxis": {
            "gridcolor": "white",
            "linecolor": "white",
            "ticks": ""
           }
          },
          "title": {
           "x": 0.05
          },
          "xaxis": {
           "automargin": true,
           "gridcolor": "white",
           "linecolor": "white",
           "ticks": "",
           "title": {
            "standoff": 15
           },
           "zerolinecolor": "white",
           "zerolinewidth": 2
          },
          "yaxis": {
           "automargin": true,
           "gridcolor": "white",
           "linecolor": "white",
           "ticks": "",
           "title": {
            "standoff": 15
           },
           "zerolinecolor": "white",
           "zerolinewidth": 2
          }
         }
        },
        "title": {
         "text": "Accuracy vs Iteration"
        },
        "xaxis": {
         "anchor": "y",
         "autorange": true,
         "domain": [
          0,
          1
         ],
         "range": [
          0,
          19
         ],
         "title": {
          "text": "iteration"
         },
         "type": "linear"
        },
        "yaxis": {
         "anchor": "x",
         "autorange": true,
         "domain": [
          0,
          1
         ],
         "range": [
          0.25058334403567845,
          1.0089166826672025
         ],
         "title": {
          "text": "value"
         },
         "type": "linear"
        }
       }
      },
      "image/png": "[encoded data removed]"
     },
     "metadata": {},
     "output_type": "display_data"
    },
    {
     "data": {
      "application/vnd.plotly.v1+json": {
       "config": {
        "plotlyServerURL": "https://plot.ly"
       },
       "data": [
        {
         "hovertemplate": "variable=loss<br>iteration=%{x}<br>value=%{y}<extra></extra>",
         "legendgroup": "loss",
         "line": {
          "color": "#636efa",
          "dash": "solid"
         },
         "marker": {
          "symbol": "circle"
         },
         "mode": "lines",
         "name": "loss",
         "orientation": "v",
         "showlegend": true,
         "type": "scatter",
         "x": [
          0,
          1,
          2,
          3,
          4,
          5,
          6,
          7,
          8,
          9,
          10,
          11,
          12,
          13,
          14,
          15,
          16,
          17,
          18,
          19
         ],
         "xaxis": "x",
         "y": [
          1.504513144493103,
          1.4724740982055664,
          1.379806399345398,
          1.2693718671798706,
          1.1105706691741943,
          0.9289861917495728,
          0.7190660238265991,
          0.5986415147781372,
          0.5167199969291687,
          0.4622802436351776,
          0.37717747688293457,
          0.3334028124809265,
          0.29572054743766785,
          0.26438984274864197,
          0.24457648396492004,
          0.21587342023849487,
          0.1951003074645996,
          0.17740009725093842,
          0.17792245745658875,
          0.16389809548854828
         ],
         "yaxis": "y"
        },
        {
         "hovertemplate": "variable=val_loss<br>iteration=%{x}<br>value=%{y}<extra></extra>",
         "legendgroup": "val_loss",
         "line": {
          "color": "#EF553B",
          "dash": "solid"
         },
         "marker": {
          "symbol": "circle"
         },
         "mode": "lines",
         "name": "val_loss",
         "orientation": "v",
         "showlegend": true,
         "type": "scatter",
         "x": [
          0,
          1,
          2,
          3,
          4,
          5,
          6,
          7,
          8,
          9,
          10,
          11,
          12,
          13,
          14,
          15,
          16,
          17,
          18,
          19
         ],
         "xaxis": "x",
         "y": [
          1.462249517440796,
          1.4111781120300293,
          1.2841408252716064,
          1.140183448791504,
          0.9234833121299744,
          0.7383298873901367,
          0.5242995023727417,
          0.413926362991333,
          0.5494036674499512,
          0.2992430329322815,
          0.26243898272514343,
          0.21738968789577484,
          0.21297301352024078,
          0.16459490358829498,
          0.13778531551361084,
          0.12941688299179077,
          0.12601697444915771,
          0.12533025443553925,
          0.15060478448867798,
          0.09644883871078491
         ],
         "yaxis": "y"
        }
       ],
       "layout": {
        "autosize": true,
        "legend": {
         "title": {
          "text": "variable"
         },
         "tracegroupgap": 0
        },
        "template": {
         "data": {
          "bar": [
           {
            "error_x": {
             "color": "#2a3f5f"
            },
            "error_y": {
             "color": "#2a3f5f"
            },
            "marker": {
             "line": {
              "color": "#E5ECF6",
              "width": 0.5
             },
             "pattern": {
              "fillmode": "overlay",
              "size": 10,
              "solidity": 0.2
             }
            },
            "type": "bar"
           }
          ],
          "barpolar": [
           {
            "marker": {
             "line": {
              "color": "#E5ECF6",
              "width": 0.5
             },
             "pattern": {
              "fillmode": "overlay",
              "size": 10,
              "solidity": 0.2
             }
            },
            "type": "barpolar"
           }
          ],
          "carpet": [
           {
            "aaxis": {
             "endlinecolor": "#2a3f5f",
             "gridcolor": "white",
             "linecolor": "white",
             "minorgridcolor": "white",
             "startlinecolor": "#2a3f5f"
            },
            "baxis": {
             "endlinecolor": "#2a3f5f",
             "gridcolor": "white",
             "linecolor": "white",
             "minorgridcolor": "white",
             "startlinecolor": "#2a3f5f"
            },
            "type": "carpet"
           }
          ],
          "choropleth": [
           {
            "colorbar": {
             "outlinewidth": 0,
             "ticks": ""
            },
            "type": "choropleth"
           }
          ],
          "contour": [
           {
            "colorbar": {
             "outlinewidth": 0,
             "ticks": ""
            },
            "colorscale": [
             [
              0,
              "#0d0887"
             ],
             [
              0.1111111111111111,
              "#46039f"
             ],
             [
              0.2222222222222222,
              "#7201a8"
             ],
             [
              0.3333333333333333,
              "#9c179e"
             ],
             [
              0.4444444444444444,
              "#bd3786"
             ],
             [
              0.5555555555555556,
              "#d8576b"
             ],
             [
              0.6666666666666666,
              "#ed7953"
             ],
             [
              0.7777777777777778,
              "#fb9f3a"
             ],
             [
              0.8888888888888888,
              "#fdca26"
             ],
             [
              1,
              "#f0f921"
             ]
            ],
            "type": "contour"
           }
          ],
          "contourcarpet": [
           {
            "colorbar": {
             "outlinewidth": 0,
             "ticks": ""
            },
            "type": "contourcarpet"
           }
          ],
          "heatmap": [
           {
            "colorbar": {
             "outlinewidth": 0,
             "ticks": ""
            },
            "colorscale": [
             [
              0,
              "#0d0887"
             ],
             [
              0.1111111111111111,
              "#46039f"
             ],
             [
              0.2222222222222222,
              "#7201a8"
             ],
             [
              0.3333333333333333,
              "#9c179e"
             ],
             [
              0.4444444444444444,
              "#bd3786"
             ],
             [
              0.5555555555555556,
              "#d8576b"
             ],
             [
              0.6666666666666666,
              "#ed7953"
             ],
             [
              0.7777777777777778,
              "#fb9f3a"
             ],
             [
              0.8888888888888888,
              "#fdca26"
             ],
             [
              1,
              "#f0f921"
             ]
            ],
            "type": "heatmap"
           }
          ],
          "heatmapgl": [
           {
            "colorbar": {
             "outlinewidth": 0,
             "ticks": ""
            },
            "colorscale": [
             [
              0,
              "#0d0887"
             ],
             [
              0.1111111111111111,
              "#46039f"
             ],
             [
              0.2222222222222222,
              "#7201a8"
             ],
             [
              0.3333333333333333,
              "#9c179e"
             ],
             [
              0.4444444444444444,
              "#bd3786"
             ],
             [
              0.5555555555555556,
              "#d8576b"
             ],
             [
              0.6666666666666666,
              "#ed7953"
             ],
             [
              0.7777777777777778,
              "#fb9f3a"
             ],
             [
              0.8888888888888888,
              "#fdca26"
             ],
             [
              1,
              "#f0f921"
             ]
            ],
            "type": "heatmapgl"
           }
          ],
          "histogram": [
           {
            "marker": {
             "pattern": {
              "fillmode": "overlay",
              "size": 10,
              "solidity": 0.2
             }
            },
            "type": "histogram"
           }
          ],
          "histogram2d": [
           {
            "colorbar": {
             "outlinewidth": 0,
             "ticks": ""
            },
            "colorscale": [
             [
              0,
              "#0d0887"
             ],
             [
              0.1111111111111111,
              "#46039f"
             ],
             [
              0.2222222222222222,
              "#7201a8"
             ],
             [
              0.3333333333333333,
              "#9c179e"
             ],
             [
              0.4444444444444444,
              "#bd3786"
             ],
             [
              0.5555555555555556,
              "#d8576b"
             ],
             [
              0.6666666666666666,
              "#ed7953"
             ],
             [
              0.7777777777777778,
              "#fb9f3a"
             ],
             [
              0.8888888888888888,
              "#fdca26"
             ],
             [
              1,
              "#f0f921"
             ]
            ],
            "type": "histogram2d"
           }
          ],
          "histogram2dcontour": [
           {
            "colorbar": {
             "outlinewidth": 0,
             "ticks": ""
            },
            "colorscale": [
             [
              0,
              "#0d0887"
             ],
             [
              0.1111111111111111,
              "#46039f"
             ],
             [
              0.2222222222222222,
              "#7201a8"
             ],
             [
              0.3333333333333333,
              "#9c179e"
             ],
             [
              0.4444444444444444,
              "#bd3786"
             ],
             [
              0.5555555555555556,
              "#d8576b"
             ],
             [
              0.6666666666666666,
              "#ed7953"
             ],
             [
              0.7777777777777778,
              "#fb9f3a"
             ],
             [
              0.8888888888888888,
              "#fdca26"
             ],
             [
              1,
              "#f0f921"
             ]
            ],
            "type": "histogram2dcontour"
           }
          ],
          "mesh3d": [
           {
            "colorbar": {
             "outlinewidth": 0,
             "ticks": ""
            },
            "type": "mesh3d"
           }
          ],
          "parcoords": [
           {
            "line": {
             "colorbar": {
              "outlinewidth": 0,
              "ticks": ""
             }
            },
            "type": "parcoords"
           }
          ],
          "pie": [
           {
            "automargin": true,
            "type": "pie"
           }
          ],
          "scatter": [
           {
            "fillpattern": {
             "fillmode": "overlay",
             "size": 10,
             "solidity": 0.2
            },
            "type": "scatter"
           }
          ],
          "scatter3d": [
           {
            "line": {
             "colorbar": {
              "outlinewidth": 0,
              "ticks": ""
             }
            },
            "marker": {
             "colorbar": {
              "outlinewidth": 0,
              "ticks": ""
             }
            },
            "type": "scatter3d"
           }
          ],
          "scattercarpet": [
           {
            "marker": {
             "colorbar": {
              "outlinewidth": 0,
              "ticks": ""
             }
            },
            "type": "scattercarpet"
           }
          ],
          "scattergeo": [
           {
            "marker": {
             "colorbar": {
              "outlinewidth": 0,
              "ticks": ""
             }
            },
            "type": "scattergeo"
           }
          ],
          "scattergl": [
           {
            "marker": {
             "colorbar": {
              "outlinewidth": 0,
              "ticks": ""
             }
            },
            "type": "scattergl"
           }
          ],
          "scattermapbox": [
           {
            "marker": {
             "colorbar": {
              "outlinewidth": 0,
              "ticks": ""
             }
            },
            "type": "scattermapbox"
           }
          ],
          "scatterpolar": [
           {
            "marker": {
             "colorbar": {
              "outlinewidth": 0,
              "ticks": ""
             }
            },
            "type": "scatterpolar"
           }
          ],
          "scatterpolargl": [
           {
            "marker": {
             "colorbar": {
              "outlinewidth": 0,
              "ticks": ""
             }
            },
            "type": "scatterpolargl"
           }
          ],
          "scatterternary": [
           {
            "marker": {
             "colorbar": {
              "outlinewidth": 0,
              "ticks": ""
             }
            },
            "type": "scatterternary"
           }
          ],
          "surface": [
           {
            "colorbar": {
             "outlinewidth": 0,
             "ticks": ""
            },
            "colorscale": [
             [
              0,
              "#0d0887"
             ],
             [
              0.1111111111111111,
              "#46039f"
             ],
             [
              0.2222222222222222,
              "#7201a8"
             ],
             [
              0.3333333333333333,
              "#9c179e"
             ],
             [
              0.4444444444444444,
              "#bd3786"
             ],
             [
              0.5555555555555556,
              "#d8576b"
             ],
             [
              0.6666666666666666,
              "#ed7953"
             ],
             [
              0.7777777777777778,
              "#fb9f3a"
             ],
             [
              0.8888888888888888,
              "#fdca26"
             ],
             [
              1,
              "#f0f921"
             ]
            ],
            "type": "surface"
           }
          ],
          "table": [
           {
            "cells": {
             "fill": {
              "color": "#EBF0F8"
             },
             "line": {
              "color": "white"
             }
            },
            "header": {
             "fill": {
              "color": "#C8D4E3"
             },
             "line": {
              "color": "white"
             }
            },
            "type": "table"
           }
          ]
         },
         "layout": {
          "annotationdefaults": {
           "arrowcolor": "#2a3f5f",
           "arrowhead": 0,
           "arrowwidth": 1
          },
          "autotypenumbers": "strict",
          "coloraxis": {
           "colorbar": {
            "outlinewidth": 0,
            "ticks": ""
           }
          },
          "colorscale": {
           "diverging": [
            [
             0,
             "#8e0152"
            ],
            [
             0.1,
             "#c51b7d"
            ],
            [
             0.2,
             "#de77ae"
            ],
            [
             0.3,
             "#f1b6da"
            ],
            [
             0.4,
             "#fde0ef"
            ],
            [
             0.5,
             "#f7f7f7"
            ],
            [
             0.6,
             "#e6f5d0"
            ],
            [
             0.7,
             "#b8e186"
            ],
            [
             0.8,
             "#7fbc41"
            ],
            [
             0.9,
             "#4d9221"
            ],
            [
             1,
             "#276419"
            ]
           ],
           "sequential": [
            [
             0,
             "#0d0887"
            ],
            [
             0.1111111111111111,
             "#46039f"
            ],
            [
             0.2222222222222222,
             "#7201a8"
            ],
            [
             0.3333333333333333,
             "#9c179e"
            ],
            [
             0.4444444444444444,
             "#bd3786"
            ],
            [
             0.5555555555555556,
             "#d8576b"
            ],
            [
             0.6666666666666666,
             "#ed7953"
            ],
            [
             0.7777777777777778,
             "#fb9f3a"
            ],
            [
             0.8888888888888888,
             "#fdca26"
            ],
            [
             1,
             "#f0f921"
            ]
           ],
           "sequentialminus": [
            [
             0,
             "#0d0887"
            ],
            [
             0.1111111111111111,
             "#46039f"
            ],
            [
             0.2222222222222222,
             "#7201a8"
            ],
            [
             0.3333333333333333,
             "#9c179e"
            ],
            [
             0.4444444444444444,
             "#bd3786"
            ],
            [
             0.5555555555555556,
             "#d8576b"
            ],
            [
             0.6666666666666666,
             "#ed7953"
            ],
            [
             0.7777777777777778,
             "#fb9f3a"
            ],
            [
             0.8888888888888888,
             "#fdca26"
            ],
            [
             1,
             "#f0f921"
            ]
           ]
          },
          "colorway": [
           "#636efa",
           "#EF553B",
           "#00cc96",
           "#ab63fa",
           "#FFA15A",
           "#19d3f3",
           "#FF6692",
           "#B6E880",
           "#FF97FF",
           "#FECB52"
          ],
          "font": {
           "color": "#2a3f5f"
          },
          "geo": {
           "bgcolor": "white",
           "lakecolor": "white",
           "landcolor": "#E5ECF6",
           "showlakes": true,
           "showland": true,
           "subunitcolor": "white"
          },
          "hoverlabel": {
           "align": "left"
          },
          "hovermode": "closest",
          "mapbox": {
           "style": "light"
          },
          "paper_bgcolor": "white",
          "plot_bgcolor": "#E5ECF6",
          "polar": {
           "angularaxis": {
            "gridcolor": "white",
            "linecolor": "white",
            "ticks": ""
           },
           "bgcolor": "#E5ECF6",
           "radialaxis": {
            "gridcolor": "white",
            "linecolor": "white",
            "ticks": ""
           }
          },
          "scene": {
           "xaxis": {
            "backgroundcolor": "#E5ECF6",
            "gridcolor": "white",
            "gridwidth": 2,
            "linecolor": "white",
            "showbackground": true,
            "ticks": "",
            "zerolinecolor": "white"
           },
           "yaxis": {
            "backgroundcolor": "#E5ECF6",
            "gridcolor": "white",
            "gridwidth": 2,
            "linecolor": "white",
            "showbackground": true,
            "ticks": "",
            "zerolinecolor": "white"
           },
           "zaxis": {
            "backgroundcolor": "#E5ECF6",
            "gridcolor": "white",
            "gridwidth": 2,
            "linecolor": "white",
            "showbackground": true,
            "ticks": "",
            "zerolinecolor": "white"
           }
          },
          "shapedefaults": {
           "line": {
            "color": "#2a3f5f"
           }
          },
          "ternary": {
           "aaxis": {
            "gridcolor": "white",
            "linecolor": "white",
            "ticks": ""
           },
           "baxis": {
            "gridcolor": "white",
            "linecolor": "white",
            "ticks": ""
           },
           "bgcolor": "#E5ECF6",
           "caxis": {
            "gridcolor": "white",
            "linecolor": "white",
            "ticks": ""
           }
          },
          "title": {
           "x": 0.05
          },
          "xaxis": {
           "automargin": true,
           "gridcolor": "white",
           "linecolor": "white",
           "ticks": "",
           "title": {
            "standoff": 15
           },
           "zerolinecolor": "white",
           "zerolinewidth": 2
          },
          "yaxis": {
           "automargin": true,
           "gridcolor": "white",
           "linecolor": "white",
           "ticks": "",
           "title": {
            "standoff": 15
           },
           "zerolinecolor": "white",
           "zerolinewidth": 2
          }
         }
        },
        "title": {
         "text": "Loss vs Iteration"
        },
        "xaxis": {
         "anchor": "y",
         "autorange": true,
         "domain": [
          0,
          1
         ],
         "range": [
          0,
          19
         ],
         "title": {
          "text": "iteration"
         },
         "type": "linear"
        },
        "yaxis": {
         "anchor": "x",
         "autorange": true,
         "domain": [
          0,
          1
         ],
         "range": [
          0.01822304394510056,
          1.5827389392587874
         ],
         "title": {
          "text": "value"
         },
         "type": "linear"
        }
       }
      },
      "image/png": "[encoded data removed]"
     },
     "metadata": {},
     "output_type": "display_data"
    }
   ],
   "source": [
    "dfh = pd.DataFrame()\n",
    "dfh['accuracy'] = history.history['accuracy']\n",
    "dfh['loss'] = history.history['loss']\n",
    "dfh['val_accuracy'] = history.history['val_accuracy']\n",
    "dfh['val_loss'] = history.history['val_loss']\n",
    "iterations = len(dfh)\n",
    "dfh['iteration'] = range(0,iterations)\n",
    "print(\"Number of iterations:\",iterations)\n",
    "\n",
    "display(dfh.style)\n",
    "#\n",
    "# ACCURACY\n",
    "fig = px.line(dfh, x='iteration', y=['accuracy','val_accuracy'], title='Accuracy vs Iteration')\n",
    "fig.show(\"plotly_mimetype\")\n",
    "#\n",
    "# Loss\n",
    "fig = px.line(dfh, x='iteration', y=['loss','val_loss'], title='Loss vs Iteration')\n",
    "fig.show(\"plotly_mimetype\")"
   ]
  },
  {
   "cell_type": "code",
   "execution_count": 74,
   "id": "deeb198f-8e8b-430c-a796-7349e7d02da2",
   "metadata": {},
   "outputs": [
    {
     "name": "stdout",
     "output_type": "stream",
     "text": [
      "250/250 [==============================] - 2s 9ms/step\n",
      "63/63 [==============================] - 1s 8ms/step\n"
     ]
    }
   ],
   "source": [
    "# Get the individual model_m for each sample in the test set\n",
    "predictions = model_cnn.predict(X_train)\n",
    "#\n",
    "# Remove code below for student version!\n",
    "#\n",
    "# Get the max probabilites for each rows\n",
    "train_probs = np.max(predictions, axis = 1)\n",
    "#\n",
    "# Get the predicted classes for each row\n",
    "train_preds = np.argmax(predictions, axis = 1)\n",
    "\n",
    "\n",
    "# Get the individual model_m for each sample in the test set\n",
    "predictions = model_cnn.predict(X_test)\n",
    "#\n",
    "# Remove code below for student version!\n",
    "#\n",
    "# Get the max probabilites for each rows\n",
    "test_probs = np.max(predictions, axis = 1)\n",
    "#\n",
    "# Get the predicted classes for each row\n",
    "test_preds = np.argmax(predictions, axis = 1)"
   ]
  },
  {
   "cell_type": "code",
   "execution_count": 68,
   "id": "4be94383-2ae5-438c-a8f8-c6c28fa63dce",
   "metadata": {},
   "outputs": [],
   "source": [
    "def calc_performance_CNN(y_vals_true, y_vals_pred,labels,label_names={},max_letters_label=-1):\n",
    "#\n",
    "# Get the numbers for the confusion matrix\n",
    "# To get output: cf_matrix[true_label,pred_label]\n",
    "    cf_matrix = confusion_matrix(y_vals_true, y_vals_pred, labels=labels)\n",
    "#\n",
    "# This is a graphic\n",
    "    cf_disp = ConfusionMatrixDisplay(confusion_matrix=cf_matrix,display_labels=labels)\n",
    "#\n",
    "# Make the header row\n",
    "    header = [\"\"]\n",
    "    for column_name in labels:\n",
    "        header.append('Pred:' + str(column_name))\n",
    "    table = [header]\n",
    "#\n",
    "# Now make the rows with the matrix\n",
    "    for row_name in labels:\n",
    "        row_label = row_name\n",
    "        if row_name in label_names:\n",
    "            row_label = label_names[row_name]\n",
    "            if max_letters_label > 0:\n",
    "                row_label = row_label[:max_letters_label]\n",
    "        row = ['True:'+str(row_label)]\n",
    "        for column_name in labels:\n",
    "            row_index = labels.index(row_name)\n",
    "            column_index = labels.index(column_name)\n",
    "            row.append(cf_matrix[row_index,column_index])\n",
    "        table.append(row)\n",
    "    # table = [\n",
    "    #     [ \"\", \"Predicted Class 1\", \"Precicted Class 0\"],\n",
    "    #     [ \"True Class 1\", TP, FN ],\n",
    "    #     [ \"True Class 0\", FP, TN ]\n",
    "    # ]\n",
    "    print_table_type='fancy_grid'\n",
    "    print_table = tabulate(table, headers='firstrow', tablefmt=print_table_type)\n",
    "#    print(print_table)\n",
    "#\n",
    "# Get the recall, precision, ands F1 for each individual label\n",
    "# - return both the \"string report\" (which you can print)\n",
    "# - and the \"dictionary report\" (which you can use for averages and so on)\n",
    "    report = classification_report(y_vals_true,y_vals_pred)\n",
    "    report_dict = classification_report(y_vals_true,y_vals_pred,output_dict=True)\n",
    "#\n",
    "    results = {\"confusionMatrix\":cf_matrix,\n",
    "                    'confusion_matrix_display':cf_disp,\n",
    "                    'confusion_matrix_print_table':print_table,      \n",
    "                    \"report\":report,\"report_dict\":report_dict}\n",
    "    return results\n"
   ]
  },
  {
   "cell_type": "code",
   "execution_count": null,
   "id": "9232889f-c4b8-4f00-8aca-8e041c1e43cb",
   "metadata": {},
   "outputs": [],
   "source": []
  },
  {
   "cell_type": "code",
   "execution_count": 77,
   "id": "f29b6051-8f0d-4f9a-ad08-62d5f180a6f1",
   "metadata": {},
   "outputs": [],
   "source": [
    "severity_map = {0:'Most',\n",
    "          1:'More',\n",
    "          2:'Intermediate',\n",
    "          3:'Less',\n",
    "          4:'Least'}"
   ]
  },
  {
   "cell_type": "code",
   "execution_count": 78,
   "id": "ebe0bdc0-ac25-48ea-a7f2-8fd2d9e75048",
   "metadata": {},
   "outputs": [],
   "source": [
    "results_test = calc_performance_CNN(y_test, test_preds,[0,1,2,3,4],severity_map,max_letters_label=10)"
   ]
  },
  {
   "cell_type": "code",
   "execution_count": 79,
   "id": "5a91f67b-9ef3-41ce-8516-c9cd4e5be0fb",
   "metadata": {},
   "outputs": [
    {
     "data": {
      "text/plain": [
       "<sklearn.metrics._plot.confusion_matrix.ConfusionMatrixDisplay at 0x7fab54e5f820>"
      ]
     },
     "execution_count": 79,
     "metadata": {},
     "output_type": "execute_result"
    },
    {
     "data": {
      "image/png": "[encoded data removed]",
      "text/plain": [
       "<Figure size 640x480 with 2 Axes>"
      ]
     },
     "metadata": {},
     "output_type": "display_data"
    }
   ],
   "source": [
    "results_test['confusion_matrix_display'].plot()"
   ]
  },
  {
   "cell_type": "code",
   "execution_count": 84,
   "id": "c9da8e13-e6eb-4c62-b5fe-23781d9f918e",
   "metadata": {},
   "outputs": [],
   "source": [
    "results_train = calc_performance_CNN(y_train, train_preds,[0,1,2,3,4],severity_map,max_letters_label=12)"
   ]
  },
  {
   "cell_type": "code",
   "execution_count": 81,
   "id": "2baa025c-2320-4386-bbbf-e0b99feb3d2c",
   "metadata": {},
   "outputs": [
    {
     "data": {
      "text/plain": [
       "<sklearn.metrics._plot.confusion_matrix.ConfusionMatrixDisplay at 0x7faa8c1172b0>"
      ]
     },
     "execution_count": 81,
     "metadata": {},
     "output_type": "execute_result"
    },
    {
     "data": {
      "image/png": "[encoded data removed]",
      "text/plain": [
       "<Figure size 640x480 with 2 Axes>"
      ]
     },
     "metadata": {},
     "output_type": "display_data"
    }
   ],
   "source": [
    "results_train['confusion_matrix_display'].plot()"
   ]
  },
  {
   "cell_type": "code",
   "execution_count": 85,
   "id": "a2e5ac44-2500-4774-b739-eaabf507c992",
   "metadata": {},
   "outputs": [
    {
     "name": "stdout",
     "output_type": "stream",
     "text": [
      "╒═══════════════════╤══════════╤══════════╤══════════╤══════════╤══════════╕\n",
      "│                   │   Pred:0 │   Pred:1 │   Pred:2 │   Pred:3 │   Pred:4 │\n",
      "╞═══════════════════╪══════════╪══════════╪══════════╪══════════╪══════════╡\n",
      "│ True:Most         │      586 │       21 │        6 │        0 │        0 │\n",
      "├───────────────────┼──────────┼──────────┼──────────┼──────────┼──────────┤\n",
      "│ True:More         │        0 │     1612 │        3 │        2 │        0 │\n",
      "├───────────────────┼──────────┼──────────┼──────────┼──────────┼──────────┤\n",
      "│ True:Intermediate │        0 │       40 │     2357 │       13 │        4 │\n",
      "├───────────────────┼──────────┼──────────┼──────────┼──────────┼──────────┤\n",
      "│ True:Less         │        0 │       20 │       15 │     2418 │       63 │\n",
      "├───────────────────┼──────────┼──────────┼──────────┼──────────┼──────────┤\n",
      "│ True:Least        │        0 │        3 │        1 │        2 │      834 │\n",
      "╘═══════════════════╧══════════╧══════════╧══════════╧══════════╧══════════╛\n"
     ]
    }
   ],
   "source": [
    "print(results_train['confusion_matrix_print_table'])"
   ]
  },
  {
   "cell_type": "code",
   "execution_count": 65,
   "id": "dc006969-b760-4b51-a6cb-924fa6292bdb",
   "metadata": {},
   "outputs": [
    {
     "name": "stdout",
     "output_type": "stream",
     "text": [
      "   memory: 13.764 Gbytes\n"
     ]
    }
   ],
   "source": [
    "printmem()"
   ]
  },
  {
   "cell_type": "code",
   "execution_count": 89,
   "id": "14f019fc-5588-4049-afdd-119814e05221",
   "metadata": {},
   "outputs": [],
   "source": [
    "df.severity = df.severity-1"
   ]
  },
  {
   "cell_type": "code",
   "execution_count": 92,
   "id": "551f25f5-3c92-4f76-a584-4567932d6ce0",
   "metadata": {},
   "outputs": [
    {
     "data": {
      "text/html": [
       "<div>\n",
       "<style scoped>\n",
       "    .dataframe tbody tr th:only-of-type {\n",
       "        vertical-align: middle;\n",
       "    }\n",
       "\n",
       "    .dataframe tbody tr th {\n",
       "        vertical-align: top;\n",
       "    }\n",
       "\n",
       "    .dataframe thead th {\n",
       "        text-align: right;\n",
       "    }\n",
       "</style>\n",
       "<table border=\"1\" class=\"dataframe\">\n",
       "  <thead>\n",
       "    <tr style=\"text-align: right;\">\n",
       "      <th></th>\n",
       "      <th>AGE</th>\n",
       "      <th>SEX</th>\n",
       "      <th>E_0</th>\n",
       "      <th>E_1</th>\n",
       "      <th>E_10</th>\n",
       "      <th>E_100</th>\n",
       "      <th>E_101</th>\n",
       "      <th>E_102</th>\n",
       "      <th>E_103</th>\n",
       "      <th>E_104</th>\n",
       "      <th>...</th>\n",
       "      <th>E_98</th>\n",
       "      <th>E_99</th>\n",
       "      <th>E_132</th>\n",
       "      <th>E_134</th>\n",
       "      <th>E_136</th>\n",
       "      <th>E_56</th>\n",
       "      <th>E_58</th>\n",
       "      <th>E_59</th>\n",
       "      <th>severity</th>\n",
       "      <th>pathoClass</th>\n",
       "    </tr>\n",
       "  </thead>\n",
       "  <tbody>\n",
       "    <tr>\n",
       "      <th>0</th>\n",
       "      <td>18</td>\n",
       "      <td>0</td>\n",
       "      <td>0</td>\n",
       "      <td>0</td>\n",
       "      <td>0</td>\n",
       "      <td>0</td>\n",
       "      <td>0</td>\n",
       "      <td>0</td>\n",
       "      <td>0</td>\n",
       "      <td>0</td>\n",
       "      <td>...</td>\n",
       "      <td>0</td>\n",
       "      <td>0</td>\n",
       "      <td>-1.0</td>\n",
       "      <td>-1.0</td>\n",
       "      <td>-1.0</td>\n",
       "      <td>0.4</td>\n",
       "      <td>0.3</td>\n",
       "      <td>0.3</td>\n",
       "      <td>4</td>\n",
       "      <td>0</td>\n",
       "    </tr>\n",
       "    <tr>\n",
       "      <th>1</th>\n",
       "      <td>21</td>\n",
       "      <td>0</td>\n",
       "      <td>0</td>\n",
       "      <td>0</td>\n",
       "      <td>0</td>\n",
       "      <td>0</td>\n",
       "      <td>0</td>\n",
       "      <td>0</td>\n",
       "      <td>0</td>\n",
       "      <td>0</td>\n",
       "      <td>...</td>\n",
       "      <td>0</td>\n",
       "      <td>0</td>\n",
       "      <td>0.0</td>\n",
       "      <td>0.6</td>\n",
       "      <td>0.0</td>\n",
       "      <td>0.7</td>\n",
       "      <td>0.7</td>\n",
       "      <td>0.2</td>\n",
       "      <td>2</td>\n",
       "      <td>1</td>\n",
       "    </tr>\n",
       "    <tr>\n",
       "      <th>2</th>\n",
       "      <td>19</td>\n",
       "      <td>1</td>\n",
       "      <td>0</td>\n",
       "      <td>0</td>\n",
       "      <td>0</td>\n",
       "      <td>0</td>\n",
       "      <td>0</td>\n",
       "      <td>0</td>\n",
       "      <td>0</td>\n",
       "      <td>0</td>\n",
       "      <td>...</td>\n",
       "      <td>0</td>\n",
       "      <td>0</td>\n",
       "      <td>0.4</td>\n",
       "      <td>0.0</td>\n",
       "      <td>0.0</td>\n",
       "      <td>0.5</td>\n",
       "      <td>0.2</td>\n",
       "      <td>0.6</td>\n",
       "      <td>2</td>\n",
       "      <td>2</td>\n",
       "    </tr>\n",
       "    <tr>\n",
       "      <th>3</th>\n",
       "      <td>34</td>\n",
       "      <td>1</td>\n",
       "      <td>0</td>\n",
       "      <td>0</td>\n",
       "      <td>0</td>\n",
       "      <td>0</td>\n",
       "      <td>0</td>\n",
       "      <td>0</td>\n",
       "      <td>0</td>\n",
       "      <td>0</td>\n",
       "      <td>...</td>\n",
       "      <td>0</td>\n",
       "      <td>0</td>\n",
       "      <td>-1.0</td>\n",
       "      <td>-1.0</td>\n",
       "      <td>-1.0</td>\n",
       "      <td>0.7</td>\n",
       "      <td>0.5</td>\n",
       "      <td>0.4</td>\n",
       "      <td>4</td>\n",
       "      <td>0</td>\n",
       "    </tr>\n",
       "    <tr>\n",
       "      <th>4</th>\n",
       "      <td>36</td>\n",
       "      <td>0</td>\n",
       "      <td>0</td>\n",
       "      <td>0</td>\n",
       "      <td>0</td>\n",
       "      <td>0</td>\n",
       "      <td>0</td>\n",
       "      <td>0</td>\n",
       "      <td>0</td>\n",
       "      <td>0</td>\n",
       "      <td>...</td>\n",
       "      <td>0</td>\n",
       "      <td>0</td>\n",
       "      <td>-1.0</td>\n",
       "      <td>-1.0</td>\n",
       "      <td>-1.0</td>\n",
       "      <td>0.5</td>\n",
       "      <td>0.4</td>\n",
       "      <td>0.2</td>\n",
       "      <td>4</td>\n",
       "      <td>0</td>\n",
       "    </tr>\n",
       "  </tbody>\n",
       "</table>\n",
       "<p>5 rows × 464 columns</p>\n",
       "</div>"
      ],
      "text/plain": [
       "   AGE  SEX  E_0  E_1  E_10  E_100  E_101  E_102  E_103  E_104  ...  E_98  \\\n",
       "0   18    0    0    0     0      0      0      0      0      0  ...     0   \n",
       "1   21    0    0    0     0      0      0      0      0      0  ...     0   \n",
       "2   19    1    0    0     0      0      0      0      0      0  ...     0   \n",
       "3   34    1    0    0     0      0      0      0      0      0  ...     0   \n",
       "4   36    0    0    0     0      0      0      0      0      0  ...     0   \n",
       "\n",
       "   E_99  E_132  E_134  E_136  E_56  E_58  E_59  severity  pathoClass  \n",
       "0     0   -1.0   -1.0   -1.0   0.4   0.3   0.3         4           0  \n",
       "1     0    0.0    0.6    0.0   0.7   0.7   0.2         2           1  \n",
       "2     0    0.4    0.0    0.0   0.5   0.2   0.6         2           2  \n",
       "3     0   -1.0   -1.0   -1.0   0.7   0.5   0.4         4           0  \n",
       "4     0   -1.0   -1.0   -1.0   0.5   0.4   0.2         4           0  \n",
       "\n",
       "[5 rows x 464 columns]"
      ]
     },
     "execution_count": 92,
     "metadata": {},
     "output_type": "execute_result"
    }
   ],
   "source": [
    "df.head()"
   ]
  },
  {
   "cell_type": "code",
   "execution_count": 93,
   "id": "f8b8adfe-4ad3-4ddf-80de-7fcefbcfadd9",
   "metadata": {},
   "outputs": [],
   "source": [
    "df.to_csv('train_Normal.zip', index=False, compression='zip')"
   ]
  },
  {
   "cell_type": "code",
   "execution_count": null,
   "id": "25237ab4-e07b-4050-8781-2910304a190a",
   "metadata": {},
   "outputs": [],
   "source": []
  }
 ],
 "metadata": {
  "kernelspec": {
   "display_name": "Python 3 (ipykernel)",
   "language": "python",
   "name": "python3"
  },
  "language_info": {
   "codemirror_mode": {
    "name": "ipython",
    "version": 3
   },
   "file_extension": ".py",
   "mimetype": "text/x-python",
   "name": "python",
   "nbconvert_exporter": "python",
   "pygments_lexer": "ipython3",
   "version": "3.9.12"
  }
 },
 "nbformat": 4,
 "nbformat_minor": 5
}
